{
  "cells": [
    {
      "cell_type": "markdown",
      "source": [
        "# **Functional Analytics**\n",
        "### 015027 - MERLIN JOHN"
      ],
      "metadata": {
        "id": "iai7H0tiRdHb"
      },
      "id": "iai7H0tiRdHb"
    },
    {
      "cell_type": "markdown",
      "source": [
        "**Context and Content**\n",
        "\n",
        "A company which is active in Big Data and Data Science wants to hire data scientists among people who successfully pass some courses which conduct by the company. Many people signup for their training. Company wants to know which of these candidates are really wants to work for the company after training or looking for a new employment because it helps to reduce the cost and time as well as the quality of training or planning the courses and categorization of candidates. Information related to demographics, education, experience are in hands from candidates signup and enrollment.\n",
        "\n",
        "This dataset designed to understand the factors that lead a person to leave current job for HR researches too. By model(s) that uses the current credentials, demographics, experience data predict the probability of a candidate to look for a new job or will work for the company, as well as interpreting affected factors on employee decision.\n",
        "\n",
        "\n",
        "\n",
        "**Note:**\n",
        "\n",
        "The dataset is imbalanced.\n",
        "Most features are categorical (Nominal, Ordinal, Binary), some with high cardinality.\n",
        "\n",
        "\n",
        "\n",
        "**Features**\n",
        "\n",
        "enrollee_id : Unique ID for candidate\n",
        "\n",
        "city: City code\n",
        "\n",
        "city_ development _index : Developement index of the city (scaled)\n",
        "\n",
        "gender: Gender of candidate\n",
        "\n",
        "relevent_experience: Relevant experience of candidate\n",
        "\n",
        "enrolled_university: Type of University course enrolled if any\n",
        "\n",
        "education_level: Education level of candidate\n",
        "\n",
        "major_discipline :Education major discipline of candidate\n",
        "\n",
        "experience: Candidate total experience in years\n",
        "\n",
        "company_size: No of employees in current employer's company\n",
        "\n",
        "company_type : Type of current employer\n",
        "\n",
        "lastnewjob: Difference in years between previous job and current job\n",
        "\n",
        "training_hours: training hours completed\n",
        "\n",
        "target: 0 – Not looking for job change, 1 – Looking for a job change\n",
        "\n",
        "\n",
        "\n",
        "Dataset- data taken from Kaggle: https://www.kaggle.com/arashnic/hr-analytics-job-change-of-data-scientists/tasks?taskId=3015"
      ],
      "metadata": {
        "id": "Gdr1PoJnPPCx"
      },
      "id": "Gdr1PoJnPPCx"
    },
    {
      "cell_type": "code",
      "source": [
        "# 1.0 Call libraries\n",
        "# 1.1 Data manipulation libraries\n",
        "import numpy as np\n",
        "import pandas as pd\n",
        "\n",
        "# 1.2 sklearn libraries\n",
        "from sklearn.preprocessing import LabelEncoder, MinMaxScaler, StandardScaler\n",
        "from sklearn.model_selection import train_test_split\n",
        "\n",
        "# 1.3 For plotting NN model\n",
        "#  conda install -c anaconda graphviz\n",
        "#  conda install -c anaconda pydot\n",
        "from skimage import io\n",
        "import pydot\n",
        "\n",
        "# 1.4 Keras model components\n",
        "from tensorflow.keras.models import Model\n",
        "from tensorflow.keras.layers import Input, Dropout, Dense, concatenate, GRU, Embedding, Flatten\n",
        "from tensorflow.keras.layers import Conv1D, Reshape\n",
        "from tensorflow.keras.callbacks import ModelCheckpoint, Callback, EarlyStopping\n",
        "\n",
        "# 1.4.1 For text (word) to integer transformation\n",
        "from tensorflow.keras.preprocessing.text import Tokenizer\n",
        "\n",
        "# 1.4.2 For making all integer sequences of equal length\n",
        "from tensorflow.keras.preprocessing.sequence import pad_sequences\n",
        "\n",
        "# 1.4.3 Import backend to invoke tensorflow commands to manipulate tensors\n",
        "from tensorflow.keras import backend as K\n",
        "\n",
        "# 1.5 Plotting libraries\n",
        "from tensorflow.keras.utils import plot_model\n",
        "import matplotlib.pyplot as plt\n",
        "%matplotlib inline \n",
        "\n",
        "# 1.6 Misc\n",
        "import math, time, os,gc"
      ],
      "metadata": {
        "id": "XUKyoGh_A2KW"
      },
      "id": "XUKyoGh_A2KW",
      "execution_count": 7,
      "outputs": []
    },
    {
      "cell_type": "code",
      "source": [
        "# 1.7 Print all outputs from a cell\n",
        "\n",
        "from IPython.core.interactiveshell import InteractiveShell\n",
        "InteractiveShell.ast_node_interactivity = \"all\""
      ],
      "metadata": {
        "id": "QnUVk7PXA9K7"
      },
      "id": "QnUVk7PXA9K7",
      "execution_count": 8,
      "outputs": []
    },
    {
      "cell_type": "code",
      "execution_count": 12,
      "id": "957d7d92",
      "metadata": {
        "execution": {
          "iopub.execute_input": "2021-12-25T17:58:55.606162Z",
          "iopub.status.busy": "2021-12-25T17:58:55.605504Z",
          "iopub.status.idle": "2021-12-25T17:58:55.681984Z",
          "shell.execute_reply": "2021-12-25T17:58:55.682582Z",
          "shell.execute_reply.started": "2021-12-25T17:40:48.277758Z"
        },
        "papermill": {
          "duration": 0.211758,
          "end_time": "2021-12-25T17:58:55.682783",
          "exception": false,
          "start_time": "2021-12-25T17:58:55.471025",
          "status": "completed"
        },
        "tags": [],
        "id": "957d7d92"
      },
      "outputs": [],
      "source": [
        "# Load dataset train \n",
        "df= pd.read_csv(\"aug_train.csv\")"
      ]
    },
    {
      "cell_type": "code",
      "execution_count": 13,
      "id": "9a37eda8",
      "metadata": {
        "execution": {
          "iopub.execute_input": "2021-12-25T17:58:55.950384Z",
          "iopub.status.busy": "2021-12-25T17:58:55.949682Z",
          "iopub.status.idle": "2021-12-25T17:58:55.994611Z",
          "shell.execute_reply": "2021-12-25T17:58:55.995145Z",
          "shell.execute_reply.started": "2021-12-25T17:40:48.353326Z"
        },
        "papermill": {
          "duration": 0.179906,
          "end_time": "2021-12-25T17:58:55.995351",
          "exception": false,
          "start_time": "2021-12-25T17:58:55.815445",
          "status": "completed"
        },
        "tags": [],
        "colab": {
          "base_uri": "https://localhost:8080/",
          "height": 592
        },
        "id": "9a37eda8",
        "outputId": "4630110a-52b4-420e-d748-4e80459a91ca"
      },
      "outputs": [
        {
          "output_type": "execute_result",
          "data": {
            "text/html": [
              "\n",
              "  <div id=\"df-5c15335a-a8b2-4b40-9a57-e1f58c7745cf\">\n",
              "    <div class=\"colab-df-container\">\n",
              "      <div>\n",
              "<style scoped>\n",
              "    .dataframe tbody tr th:only-of-type {\n",
              "        vertical-align: middle;\n",
              "    }\n",
              "\n",
              "    .dataframe tbody tr th {\n",
              "        vertical-align: top;\n",
              "    }\n",
              "\n",
              "    .dataframe thead th {\n",
              "        text-align: right;\n",
              "    }\n",
              "</style>\n",
              "<table border=\"1\" class=\"dataframe\">\n",
              "  <thead>\n",
              "    <tr style=\"text-align: right;\">\n",
              "      <th></th>\n",
              "      <th>enrollee_id</th>\n",
              "      <th>city</th>\n",
              "      <th>city_development_index</th>\n",
              "      <th>gender</th>\n",
              "      <th>relevent_experience</th>\n",
              "      <th>enrolled_university</th>\n",
              "      <th>education_level</th>\n",
              "      <th>major_discipline</th>\n",
              "      <th>experience</th>\n",
              "      <th>company_size</th>\n",
              "      <th>company_type</th>\n",
              "      <th>last_new_job</th>\n",
              "      <th>training_hours</th>\n",
              "      <th>target</th>\n",
              "    </tr>\n",
              "  </thead>\n",
              "  <tbody>\n",
              "    <tr>\n",
              "      <th>17321</th>\n",
              "      <td>1</td>\n",
              "      <td>city_103</td>\n",
              "      <td>0.920</td>\n",
              "      <td>Male</td>\n",
              "      <td>No relevent experience</td>\n",
              "      <td>no_enrollment</td>\n",
              "      <td>High School</td>\n",
              "      <td>NaN</td>\n",
              "      <td>2</td>\n",
              "      <td>NaN</td>\n",
              "      <td>Pvt Ltd</td>\n",
              "      <td>never</td>\n",
              "      <td>150</td>\n",
              "      <td>0.0</td>\n",
              "    </tr>\n",
              "    <tr>\n",
              "      <th>6730</th>\n",
              "      <td>2</td>\n",
              "      <td>city_103</td>\n",
              "      <td>0.920</td>\n",
              "      <td>Male</td>\n",
              "      <td>No relevent experience</td>\n",
              "      <td>no_enrollment</td>\n",
              "      <td>Phd</td>\n",
              "      <td>STEM</td>\n",
              "      <td>15</td>\n",
              "      <td>10000+</td>\n",
              "      <td>NGO</td>\n",
              "      <td>3</td>\n",
              "      <td>128</td>\n",
              "      <td>1.0</td>\n",
              "    </tr>\n",
              "    <tr>\n",
              "      <th>10024</th>\n",
              "      <td>4</td>\n",
              "      <td>city_103</td>\n",
              "      <td>0.920</td>\n",
              "      <td>Male</td>\n",
              "      <td>No relevent experience</td>\n",
              "      <td>no_enrollment</td>\n",
              "      <td>Masters</td>\n",
              "      <td>STEM</td>\n",
              "      <td>9</td>\n",
              "      <td>50-99</td>\n",
              "      <td>Public Sector</td>\n",
              "      <td>&gt;4</td>\n",
              "      <td>13</td>\n",
              "      <td>0.0</td>\n",
              "    </tr>\n",
              "    <tr>\n",
              "      <th>15817</th>\n",
              "      <td>5</td>\n",
              "      <td>city_67</td>\n",
              "      <td>0.855</td>\n",
              "      <td>Male</td>\n",
              "      <td>Has relevent experience</td>\n",
              "      <td>no_enrollment</td>\n",
              "      <td>Masters</td>\n",
              "      <td>STEM</td>\n",
              "      <td>10</td>\n",
              "      <td>&lt;10</td>\n",
              "      <td>Early Stage Startup</td>\n",
              "      <td>1</td>\n",
              "      <td>12</td>\n",
              "      <td>0.0</td>\n",
              "    </tr>\n",
              "    <tr>\n",
              "      <th>4552</th>\n",
              "      <td>7</td>\n",
              "      <td>city_136</td>\n",
              "      <td>0.897</td>\n",
              "      <td>Male</td>\n",
              "      <td>Has relevent experience</td>\n",
              "      <td>Full time course</td>\n",
              "      <td>Masters</td>\n",
              "      <td>STEM</td>\n",
              "      <td>13</td>\n",
              "      <td>NaN</td>\n",
              "      <td>NaN</td>\n",
              "      <td>1</td>\n",
              "      <td>18</td>\n",
              "      <td>0.0</td>\n",
              "    </tr>\n",
              "    <tr>\n",
              "      <th>...</th>\n",
              "      <td>...</td>\n",
              "      <td>...</td>\n",
              "      <td>...</td>\n",
              "      <td>...</td>\n",
              "      <td>...</td>\n",
              "      <td>...</td>\n",
              "      <td>...</td>\n",
              "      <td>...</td>\n",
              "      <td>...</td>\n",
              "      <td>...</td>\n",
              "      <td>...</td>\n",
              "      <td>...</td>\n",
              "      <td>...</td>\n",
              "      <td>...</td>\n",
              "    </tr>\n",
              "    <tr>\n",
              "      <th>17935</th>\n",
              "      <td>33375</td>\n",
              "      <td>city_103</td>\n",
              "      <td>0.920</td>\n",
              "      <td>Male</td>\n",
              "      <td>Has relevent experience</td>\n",
              "      <td>no_enrollment</td>\n",
              "      <td>Graduate</td>\n",
              "      <td>STEM</td>\n",
              "      <td>16</td>\n",
              "      <td>50-99</td>\n",
              "      <td>Public Sector</td>\n",
              "      <td>1</td>\n",
              "      <td>51</td>\n",
              "      <td>0.0</td>\n",
              "    </tr>\n",
              "    <tr>\n",
              "      <th>5009</th>\n",
              "      <td>33376</td>\n",
              "      <td>city_16</td>\n",
              "      <td>0.910</td>\n",
              "      <td>Female</td>\n",
              "      <td>Has relevent experience</td>\n",
              "      <td>no_enrollment</td>\n",
              "      <td>Masters</td>\n",
              "      <td>Business Degree</td>\n",
              "      <td>8</td>\n",
              "      <td>1000-4999</td>\n",
              "      <td>Public Sector</td>\n",
              "      <td>4</td>\n",
              "      <td>74</td>\n",
              "      <td>0.0</td>\n",
              "    </tr>\n",
              "    <tr>\n",
              "      <th>3351</th>\n",
              "      <td>33377</td>\n",
              "      <td>city_65</td>\n",
              "      <td>0.802</td>\n",
              "      <td>Male</td>\n",
              "      <td>Has relevent experience</td>\n",
              "      <td>no_enrollment</td>\n",
              "      <td>Graduate</td>\n",
              "      <td>Other</td>\n",
              "      <td>10</td>\n",
              "      <td>100-500</td>\n",
              "      <td>Pvt Ltd</td>\n",
              "      <td>2</td>\n",
              "      <td>27</td>\n",
              "      <td>0.0</td>\n",
              "    </tr>\n",
              "    <tr>\n",
              "      <th>4756</th>\n",
              "      <td>33379</td>\n",
              "      <td>city_103</td>\n",
              "      <td>0.920</td>\n",
              "      <td>Male</td>\n",
              "      <td>Has relevent experience</td>\n",
              "      <td>no_enrollment</td>\n",
              "      <td>Graduate</td>\n",
              "      <td>STEM</td>\n",
              "      <td>18</td>\n",
              "      <td>&lt;10</td>\n",
              "      <td>Pvt Ltd</td>\n",
              "      <td>2</td>\n",
              "      <td>81</td>\n",
              "      <td>0.0</td>\n",
              "    </tr>\n",
              "    <tr>\n",
              "      <th>1663</th>\n",
              "      <td>33380</td>\n",
              "      <td>city_83</td>\n",
              "      <td>0.923</td>\n",
              "      <td>Male</td>\n",
              "      <td>No relevent experience</td>\n",
              "      <td>no_enrollment</td>\n",
              "      <td>Graduate</td>\n",
              "      <td>STEM</td>\n",
              "      <td>14</td>\n",
              "      <td>10000+</td>\n",
              "      <td>Pvt Ltd</td>\n",
              "      <td>2</td>\n",
              "      <td>168</td>\n",
              "      <td>0.0</td>\n",
              "    </tr>\n",
              "  </tbody>\n",
              "</table>\n",
              "<p>19158 rows × 14 columns</p>\n",
              "</div>\n",
              "      <button class=\"colab-df-convert\" onclick=\"convertToInteractive('df-5c15335a-a8b2-4b40-9a57-e1f58c7745cf')\"\n",
              "              title=\"Convert this dataframe to an interactive table.\"\n",
              "              style=\"display:none;\">\n",
              "        \n",
              "  <svg xmlns=\"http://www.w3.org/2000/svg\" height=\"24px\"viewBox=\"0 0 24 24\"\n",
              "       width=\"24px\">\n",
              "    <path d=\"M0 0h24v24H0V0z\" fill=\"none\"/>\n",
              "    <path d=\"M18.56 5.44l.94 2.06.94-2.06 2.06-.94-2.06-.94-.94-2.06-.94 2.06-2.06.94zm-11 1L8.5 8.5l.94-2.06 2.06-.94-2.06-.94L8.5 2.5l-.94 2.06-2.06.94zm10 10l.94 2.06.94-2.06 2.06-.94-2.06-.94-.94-2.06-.94 2.06-2.06.94z\"/><path d=\"M17.41 7.96l-1.37-1.37c-.4-.4-.92-.59-1.43-.59-.52 0-1.04.2-1.43.59L10.3 9.45l-7.72 7.72c-.78.78-.78 2.05 0 2.83L4 21.41c.39.39.9.59 1.41.59.51 0 1.02-.2 1.41-.59l7.78-7.78 2.81-2.81c.8-.78.8-2.07 0-2.86zM5.41 20L4 18.59l7.72-7.72 1.47 1.35L5.41 20z\"/>\n",
              "  </svg>\n",
              "      </button>\n",
              "      \n",
              "  <style>\n",
              "    .colab-df-container {\n",
              "      display:flex;\n",
              "      flex-wrap:wrap;\n",
              "      gap: 12px;\n",
              "    }\n",
              "\n",
              "    .colab-df-convert {\n",
              "      background-color: #E8F0FE;\n",
              "      border: none;\n",
              "      border-radius: 50%;\n",
              "      cursor: pointer;\n",
              "      display: none;\n",
              "      fill: #1967D2;\n",
              "      height: 32px;\n",
              "      padding: 0 0 0 0;\n",
              "      width: 32px;\n",
              "    }\n",
              "\n",
              "    .colab-df-convert:hover {\n",
              "      background-color: #E2EBFA;\n",
              "      box-shadow: 0px 1px 2px rgba(60, 64, 67, 0.3), 0px 1px 3px 1px rgba(60, 64, 67, 0.15);\n",
              "      fill: #174EA6;\n",
              "    }\n",
              "\n",
              "    [theme=dark] .colab-df-convert {\n",
              "      background-color: #3B4455;\n",
              "      fill: #D2E3FC;\n",
              "    }\n",
              "\n",
              "    [theme=dark] .colab-df-convert:hover {\n",
              "      background-color: #434B5C;\n",
              "      box-shadow: 0px 1px 3px 1px rgba(0, 0, 0, 0.15);\n",
              "      filter: drop-shadow(0px 1px 2px rgba(0, 0, 0, 0.3));\n",
              "      fill: #FFFFFF;\n",
              "    }\n",
              "  </style>\n",
              "\n",
              "      <script>\n",
              "        const buttonEl =\n",
              "          document.querySelector('#df-5c15335a-a8b2-4b40-9a57-e1f58c7745cf button.colab-df-convert');\n",
              "        buttonEl.style.display =\n",
              "          google.colab.kernel.accessAllowed ? 'block' : 'none';\n",
              "\n",
              "        async function convertToInteractive(key) {\n",
              "          const element = document.querySelector('#df-5c15335a-a8b2-4b40-9a57-e1f58c7745cf');\n",
              "          const dataTable =\n",
              "            await google.colab.kernel.invokeFunction('convertToInteractive',\n",
              "                                                     [key], {});\n",
              "          if (!dataTable) return;\n",
              "\n",
              "          const docLinkHtml = 'Like what you see? Visit the ' +\n",
              "            '<a target=\"_blank\" href=https://colab.research.google.com/notebooks/data_table.ipynb>data table notebook</a>'\n",
              "            + ' to learn more about interactive tables.';\n",
              "          element.innerHTML = '';\n",
              "          dataTable['output_type'] = 'display_data';\n",
              "          await google.colab.output.renderOutput(dataTable, element);\n",
              "          const docLink = document.createElement('div');\n",
              "          docLink.innerHTML = docLinkHtml;\n",
              "          element.appendChild(docLink);\n",
              "        }\n",
              "      </script>\n",
              "    </div>\n",
              "  </div>\n",
              "  "
            ],
            "text/plain": [
              "       enrollee_id      city  ...  training_hours target\n",
              "17321            1  city_103  ...             150    0.0\n",
              "6730             2  city_103  ...             128    1.0\n",
              "10024            4  city_103  ...              13    0.0\n",
              "15817            5   city_67  ...              12    0.0\n",
              "4552             7  city_136  ...              18    0.0\n",
              "...            ...       ...  ...             ...    ...\n",
              "17935        33375  city_103  ...              51    0.0\n",
              "5009         33376   city_16  ...              74    0.0\n",
              "3351         33377   city_65  ...              27    0.0\n",
              "4756         33379  city_103  ...              81    0.0\n",
              "1663         33380   city_83  ...             168    0.0\n",
              "\n",
              "[19158 rows x 14 columns]"
            ]
          },
          "metadata": {},
          "execution_count": 13
        }
      ],
      "source": [
        "# delete enrolle_id features.\n",
        "df.sort_values([\"enrollee_id\"])"
      ]
    },
    {
      "cell_type": "code",
      "execution_count": 14,
      "id": "aa3260eb",
      "metadata": {
        "execution": {
          "iopub.execute_input": "2021-12-25T17:58:56.261480Z",
          "iopub.status.busy": "2021-12-25T17:58:56.260767Z",
          "iopub.status.idle": "2021-12-25T17:58:56.269558Z",
          "shell.execute_reply": "2021-12-25T17:58:56.270159Z",
          "shell.execute_reply.started": "2021-12-25T17:40:48.396444Z"
        },
        "papermill": {
          "duration": 0.143894,
          "end_time": "2021-12-25T17:58:56.270367",
          "exception": false,
          "start_time": "2021-12-25T17:58:56.126473",
          "status": "completed"
        },
        "tags": [],
        "id": "aa3260eb"
      },
      "outputs": [],
      "source": [
        "df.drop([\"enrollee_id\"], axis = 'columns', inplace=True)"
      ]
    },
    {
      "cell_type": "code",
      "execution_count": 15,
      "id": "c0b5648f",
      "metadata": {
        "execution": {
          "iopub.execute_input": "2021-12-25T17:58:56.535601Z",
          "iopub.status.busy": "2021-12-25T17:58:56.534902Z",
          "iopub.status.idle": "2021-12-25T17:58:56.540150Z",
          "shell.execute_reply": "2021-12-25T17:58:56.540817Z",
          "shell.execute_reply.started": "2021-12-25T17:40:48.408594Z"
        },
        "papermill": {
          "duration": 0.14,
          "end_time": "2021-12-25T17:58:56.540997",
          "exception": false,
          "start_time": "2021-12-25T17:58:56.400997",
          "status": "completed"
        },
        "tags": [],
        "colab": {
          "base_uri": "https://localhost:8080/"
        },
        "id": "c0b5648f",
        "outputId": "13e9ce26-3743-4275-9f4f-d27d5aff91cb"
      },
      "outputs": [
        {
          "output_type": "execute_result",
          "data": {
            "text/plain": [
              "Index(['city', 'city_development_index', 'gender', 'relevent_experience',\n",
              "       'enrolled_university', 'education_level', 'major_discipline',\n",
              "       'experience', 'company_size', 'company_type', 'last_new_job',\n",
              "       'training_hours', 'target'],\n",
              "      dtype='object')"
            ]
          },
          "metadata": {},
          "execution_count": 15
        }
      ],
      "source": [
        "# visualize features\n",
        "df.columns"
      ]
    },
    {
      "cell_type": "code",
      "execution_count": 16,
      "id": "c553f54f",
      "metadata": {
        "execution": {
          "iopub.execute_input": "2021-12-25T17:58:56.807653Z",
          "iopub.status.busy": "2021-12-25T17:58:56.806977Z",
          "iopub.status.idle": "2021-12-25T17:58:56.812707Z",
          "shell.execute_reply": "2021-12-25T17:58:56.813251Z",
          "shell.execute_reply.started": "2021-12-25T17:40:48.421197Z"
        },
        "papermill": {
          "duration": 0.140904,
          "end_time": "2021-12-25T17:58:56.813475",
          "exception": false,
          "start_time": "2021-12-25T17:58:56.672571",
          "status": "completed"
        },
        "tags": [],
        "colab": {
          "base_uri": "https://localhost:8080/"
        },
        "id": "c553f54f",
        "outputId": "4ee655a8-dd89-4ebd-a169-913a56713cc3"
      },
      "outputs": [
        {
          "output_type": "stream",
          "name": "stdout",
          "text": [
            "Dataset has 19158 Rows\n",
            "Dataset has 13 Cols\n"
          ]
        }
      ],
      "source": [
        "# Check dataframe basic info\n",
        "print(\"Dataset has {0} Rows\".format(df.shape[0]))\n",
        "print(\"Dataset has {0} Cols\".format(df.shape[1]))"
      ]
    },
    {
      "cell_type": "code",
      "execution_count": 17,
      "id": "0d976269",
      "metadata": {
        "execution": {
          "iopub.execute_input": "2021-12-25T17:58:57.084789Z",
          "iopub.status.busy": "2021-12-25T17:58:57.084070Z",
          "iopub.status.idle": "2021-12-25T17:58:57.103680Z",
          "shell.execute_reply": "2021-12-25T17:58:57.104374Z",
          "shell.execute_reply.started": "2021-12-25T17:40:48.434730Z"
        },
        "papermill": {
          "duration": 0.159049,
          "end_time": "2021-12-25T17:58:57.104562",
          "exception": false,
          "start_time": "2021-12-25T17:58:56.945513",
          "status": "completed"
        },
        "tags": [],
        "colab": {
          "base_uri": "https://localhost:8080/"
        },
        "id": "0d976269",
        "outputId": "72c593cc-339c-4ebe-ba60-003149c049b0"
      },
      "outputs": [
        {
          "output_type": "stream",
          "name": "stdout",
          "text": [
            "\n",
            "Unique values :  \n",
            " city                      123\n",
            "city_development_index     93\n",
            "gender                      3\n",
            "relevent_experience         2\n",
            "enrolled_university         3\n",
            "education_level             5\n",
            "major_discipline            6\n",
            "experience                 22\n",
            "company_size                8\n",
            "company_type                6\n",
            "last_new_job                6\n",
            "training_hours            241\n",
            "target                      2\n",
            "dtype: int64\n"
          ]
        }
      ],
      "source": [
        " # Check unique values \n",
        "print (\"\\nUnique values :  \\n\",df.nunique())"
      ]
    },
    {
      "cell_type": "code",
      "execution_count": 18,
      "id": "f488cb59",
      "metadata": {
        "execution": {
          "iopub.execute_input": "2021-12-25T17:58:57.378281Z",
          "iopub.status.busy": "2021-12-25T17:58:57.375054Z",
          "iopub.status.idle": "2021-12-25T17:58:57.621335Z",
          "shell.execute_reply": "2021-12-25T17:58:57.621976Z",
          "shell.execute_reply.started": "2021-12-25T17:40:48.465268Z"
        },
        "papermill": {
          "duration": 0.38422,
          "end_time": "2021-12-25T17:58:57.622161",
          "exception": false,
          "start_time": "2021-12-25T17:58:57.237941",
          "status": "completed"
        },
        "tags": [],
        "colab": {
          "base_uri": "https://localhost:8080/",
          "height": 331
        },
        "id": "f488cb59",
        "outputId": "abbdbd0a-0a77-4372-b713-beb2b5663a38"
      },
      "outputs": [
        {
          "output_type": "execute_result",
          "data": {
            "text/plain": [
              "<matplotlib.axes._subplots.AxesSubplot at 0x7f99e8a8af90>"
            ]
          },
          "metadata": {},
          "execution_count": 18
        },
        {
          "output_type": "stream",
          "name": "stdout",
          "text": [
            "0.0    0.750652\n",
            "1.0    0.249348\n",
            "Name: target, dtype: float64\n"
          ]
        },
        {
          "output_type": "display_data",
          "data": {
            "image/png": "[encoded data removed]",
            "text/plain": [
              "<Figure size 432x288 with 1 Axes>"
            ]
          },
          "metadata": {
            "needs_background": "light"
          }
        }
      ],
      "source": [
        "# visualize target\n",
        "import seaborn as sns\n",
        "sns.countplot(x=df['target']);\n",
        "print(df.target.value_counts(normalize=True))"
      ]
    },
    {
      "cell_type": "code",
      "execution_count": 19,
      "id": "066c0af0",
      "metadata": {
        "execution": {
          "iopub.execute_input": "2021-12-25T17:58:57.916536Z",
          "iopub.status.busy": "2021-12-25T17:58:57.915820Z",
          "iopub.status.idle": "2021-12-25T17:58:57.948018Z",
          "shell.execute_reply": "2021-12-25T17:58:57.948545Z",
          "shell.execute_reply.started": "2021-12-25T17:40:48.673549Z"
        },
        "papermill": {
          "duration": 0.191866,
          "end_time": "2021-12-25T17:58:57.948743",
          "exception": false,
          "start_time": "2021-12-25T17:58:57.756877",
          "status": "completed"
        },
        "tags": [],
        "colab": {
          "base_uri": "https://localhost:8080/",
          "height": 457
        },
        "id": "066c0af0",
        "outputId": "bd8abc75-052c-43ac-fa01-ad0b4defe5e9"
      },
      "outputs": [
        {
          "output_type": "execute_result",
          "data": {
            "text/html": [
              "\n",
              "  <div id=\"df-15254c45-7939-471a-804f-7821c4f7a004\">\n",
              "    <div class=\"colab-df-container\">\n",
              "      <div>\n",
              "<style scoped>\n",
              "    .dataframe tbody tr th:only-of-type {\n",
              "        vertical-align: middle;\n",
              "    }\n",
              "\n",
              "    .dataframe tbody tr th {\n",
              "        vertical-align: top;\n",
              "    }\n",
              "\n",
              "    .dataframe thead th {\n",
              "        text-align: right;\n",
              "    }\n",
              "</style>\n",
              "<table border=\"1\" class=\"dataframe\">\n",
              "  <thead>\n",
              "    <tr style=\"text-align: right;\">\n",
              "      <th></th>\n",
              "      <th>column_name</th>\n",
              "      <th>null_count</th>\n",
              "      <th>null_percentage</th>\n",
              "    </tr>\n",
              "  </thead>\n",
              "  <tbody>\n",
              "    <tr>\n",
              "      <th>9</th>\n",
              "      <td>company_type</td>\n",
              "      <td>6140</td>\n",
              "      <td>32.05</td>\n",
              "    </tr>\n",
              "    <tr>\n",
              "      <th>8</th>\n",
              "      <td>company_size</td>\n",
              "      <td>5938</td>\n",
              "      <td>30.99</td>\n",
              "    </tr>\n",
              "    <tr>\n",
              "      <th>2</th>\n",
              "      <td>gender</td>\n",
              "      <td>4508</td>\n",
              "      <td>23.53</td>\n",
              "    </tr>\n",
              "    <tr>\n",
              "      <th>6</th>\n",
              "      <td>major_discipline</td>\n",
              "      <td>2813</td>\n",
              "      <td>14.68</td>\n",
              "    </tr>\n",
              "    <tr>\n",
              "      <th>5</th>\n",
              "      <td>education_level</td>\n",
              "      <td>460</td>\n",
              "      <td>2.40</td>\n",
              "    </tr>\n",
              "    <tr>\n",
              "      <th>10</th>\n",
              "      <td>last_new_job</td>\n",
              "      <td>423</td>\n",
              "      <td>2.21</td>\n",
              "    </tr>\n",
              "    <tr>\n",
              "      <th>4</th>\n",
              "      <td>enrolled_university</td>\n",
              "      <td>386</td>\n",
              "      <td>2.01</td>\n",
              "    </tr>\n",
              "    <tr>\n",
              "      <th>7</th>\n",
              "      <td>experience</td>\n",
              "      <td>65</td>\n",
              "      <td>0.34</td>\n",
              "    </tr>\n",
              "    <tr>\n",
              "      <th>0</th>\n",
              "      <td>city</td>\n",
              "      <td>0</td>\n",
              "      <td>0.00</td>\n",
              "    </tr>\n",
              "    <tr>\n",
              "      <th>1</th>\n",
              "      <td>city_development_index</td>\n",
              "      <td>0</td>\n",
              "      <td>0.00</td>\n",
              "    </tr>\n",
              "    <tr>\n",
              "      <th>3</th>\n",
              "      <td>relevent_experience</td>\n",
              "      <td>0</td>\n",
              "      <td>0.00</td>\n",
              "    </tr>\n",
              "    <tr>\n",
              "      <th>11</th>\n",
              "      <td>training_hours</td>\n",
              "      <td>0</td>\n",
              "      <td>0.00</td>\n",
              "    </tr>\n",
              "    <tr>\n",
              "      <th>12</th>\n",
              "      <td>target</td>\n",
              "      <td>0</td>\n",
              "      <td>0.00</td>\n",
              "    </tr>\n",
              "  </tbody>\n",
              "</table>\n",
              "</div>\n",
              "      <button class=\"colab-df-convert\" onclick=\"convertToInteractive('df-15254c45-7939-471a-804f-7821c4f7a004')\"\n",
              "              title=\"Convert this dataframe to an interactive table.\"\n",
              "              style=\"display:none;\">\n",
              "        \n",
              "  <svg xmlns=\"http://www.w3.org/2000/svg\" height=\"24px\"viewBox=\"0 0 24 24\"\n",
              "       width=\"24px\">\n",
              "    <path d=\"M0 0h24v24H0V0z\" fill=\"none\"/>\n",
              "    <path d=\"M18.56 5.44l.94 2.06.94-2.06 2.06-.94-2.06-.94-.94-2.06-.94 2.06-2.06.94zm-11 1L8.5 8.5l.94-2.06 2.06-.94-2.06-.94L8.5 2.5l-.94 2.06-2.06.94zm10 10l.94 2.06.94-2.06 2.06-.94-2.06-.94-.94-2.06-.94 2.06-2.06.94z\"/><path d=\"M17.41 7.96l-1.37-1.37c-.4-.4-.92-.59-1.43-.59-.52 0-1.04.2-1.43.59L10.3 9.45l-7.72 7.72c-.78.78-.78 2.05 0 2.83L4 21.41c.39.39.9.59 1.41.59.51 0 1.02-.2 1.41-.59l7.78-7.78 2.81-2.81c.8-.78.8-2.07 0-2.86zM5.41 20L4 18.59l7.72-7.72 1.47 1.35L5.41 20z\"/>\n",
              "  </svg>\n",
              "      </button>\n",
              "      \n",
              "  <style>\n",
              "    .colab-df-container {\n",
              "      display:flex;\n",
              "      flex-wrap:wrap;\n",
              "      gap: 12px;\n",
              "    }\n",
              "\n",
              "    .colab-df-convert {\n",
              "      background-color: #E8F0FE;\n",
              "      border: none;\n",
              "      border-radius: 50%;\n",
              "      cursor: pointer;\n",
              "      display: none;\n",
              "      fill: #1967D2;\n",
              "      height: 32px;\n",
              "      padding: 0 0 0 0;\n",
              "      width: 32px;\n",
              "    }\n",
              "\n",
              "    .colab-df-convert:hover {\n",
              "      background-color: #E2EBFA;\n",
              "      box-shadow: 0px 1px 2px rgba(60, 64, 67, 0.3), 0px 1px 3px 1px rgba(60, 64, 67, 0.15);\n",
              "      fill: #174EA6;\n",
              "    }\n",
              "\n",
              "    [theme=dark] .colab-df-convert {\n",
              "      background-color: #3B4455;\n",
              "      fill: #D2E3FC;\n",
              "    }\n",
              "\n",
              "    [theme=dark] .colab-df-convert:hover {\n",
              "      background-color: #434B5C;\n",
              "      box-shadow: 0px 1px 3px 1px rgba(0, 0, 0, 0.15);\n",
              "      filter: drop-shadow(0px 1px 2px rgba(0, 0, 0, 0.3));\n",
              "      fill: #FFFFFF;\n",
              "    }\n",
              "  </style>\n",
              "\n",
              "      <script>\n",
              "        const buttonEl =\n",
              "          document.querySelector('#df-15254c45-7939-471a-804f-7821c4f7a004 button.colab-df-convert');\n",
              "        buttonEl.style.display =\n",
              "          google.colab.kernel.accessAllowed ? 'block' : 'none';\n",
              "\n",
              "        async function convertToInteractive(key) {\n",
              "          const element = document.querySelector('#df-15254c45-7939-471a-804f-7821c4f7a004');\n",
              "          const dataTable =\n",
              "            await google.colab.kernel.invokeFunction('convertToInteractive',\n",
              "                                                     [key], {});\n",
              "          if (!dataTable) return;\n",
              "\n",
              "          const docLinkHtml = 'Like what you see? Visit the ' +\n",
              "            '<a target=\"_blank\" href=https://colab.research.google.com/notebooks/data_table.ipynb>data table notebook</a>'\n",
              "            + ' to learn more about interactive tables.';\n",
              "          element.innerHTML = '';\n",
              "          dataTable['output_type'] = 'display_data';\n",
              "          await google.colab.output.renderOutput(dataTable, element);\n",
              "          const docLink = document.createElement('div');\n",
              "          docLink.innerHTML = docLinkHtml;\n",
              "          element.appendChild(docLink);\n",
              "        }\n",
              "      </script>\n",
              "    </div>\n",
              "  </div>\n",
              "  "
            ],
            "text/plain": [
              "               column_name  null_count  null_percentage\n",
              "9             company_type        6140            32.05\n",
              "8             company_size        5938            30.99\n",
              "2                   gender        4508            23.53\n",
              "6         major_discipline        2813            14.68\n",
              "5          education_level         460             2.40\n",
              "10            last_new_job         423             2.21\n",
              "4      enrolled_university         386             2.01\n",
              "7               experience          65             0.34\n",
              "0                     city           0             0.00\n",
              "1   city_development_index           0             0.00\n",
              "3      relevent_experience           0             0.00\n",
              "11          training_hours           0             0.00\n",
              "12                  target           0             0.00"
            ]
          },
          "metadata": {},
          "execution_count": 19
        }
      ],
      "source": [
        "# Missings values\n",
        "\n",
        "null_count = df.isnull().sum()\n",
        "null_percentage = round((df.isnull().sum()/df.shape[0])*100, 2)\n",
        "null_df = pd.DataFrame({'column_name' : df.columns,'null_count' : null_count,'null_percentage': null_percentage})\n",
        "null_df.reset_index(drop = True, inplace = True)\n",
        "null_df.sort_values(by = 'null_percentage', ascending = False)"
      ]
    },
    {
      "cell_type": "code",
      "execution_count": 20,
      "id": "48e91949",
      "metadata": {
        "execution": {
          "iopub.execute_input": "2021-12-25T17:58:58.222100Z",
          "iopub.status.busy": "2021-12-25T17:58:58.221451Z",
          "iopub.status.idle": "2021-12-25T17:58:58.296393Z",
          "shell.execute_reply": "2021-12-25T17:58:58.296934Z",
          "shell.execute_reply.started": "2021-12-25T17:40:48.714735Z"
        },
        "papermill": {
          "duration": 0.213526,
          "end_time": "2021-12-25T17:58:58.297120",
          "exception": false,
          "start_time": "2021-12-25T17:58:58.083594",
          "status": "completed"
        },
        "tags": [],
        "colab": {
          "base_uri": "https://localhost:8080/",
          "height": 592
        },
        "id": "48e91949",
        "outputId": "c7ae6173-417c-4a87-f8ac-b49d146c893f"
      },
      "outputs": [
        {
          "output_type": "execute_result",
          "data": {
            "text/plain": [
              "49"
            ]
          },
          "metadata": {},
          "execution_count": 20
        },
        {
          "output_type": "execute_result",
          "data": {
            "text/html": [
              "\n",
              "  <div id=\"df-efc48c42-ad69-4171-9aa1-49dd70607ac2\">\n",
              "    <div class=\"colab-df-container\">\n",
              "      <div>\n",
              "<style scoped>\n",
              "    .dataframe tbody tr th:only-of-type {\n",
              "        vertical-align: middle;\n",
              "    }\n",
              "\n",
              "    .dataframe tbody tr th {\n",
              "        vertical-align: top;\n",
              "    }\n",
              "\n",
              "    .dataframe thead th {\n",
              "        text-align: right;\n",
              "    }\n",
              "</style>\n",
              "<table border=\"1\" class=\"dataframe\">\n",
              "  <thead>\n",
              "    <tr style=\"text-align: right;\">\n",
              "      <th></th>\n",
              "      <th>city</th>\n",
              "      <th>city_development_index</th>\n",
              "      <th>gender</th>\n",
              "      <th>relevent_experience</th>\n",
              "      <th>enrolled_university</th>\n",
              "      <th>education_level</th>\n",
              "      <th>major_discipline</th>\n",
              "      <th>experience</th>\n",
              "      <th>company_size</th>\n",
              "      <th>company_type</th>\n",
              "      <th>last_new_job</th>\n",
              "      <th>training_hours</th>\n",
              "      <th>target</th>\n",
              "    </tr>\n",
              "  </thead>\n",
              "  <tbody>\n",
              "    <tr>\n",
              "      <th>0</th>\n",
              "      <td>city_103</td>\n",
              "      <td>0.920</td>\n",
              "      <td>Male</td>\n",
              "      <td>Has relevent experience</td>\n",
              "      <td>no_enrollment</td>\n",
              "      <td>Graduate</td>\n",
              "      <td>STEM</td>\n",
              "      <td>&gt;20</td>\n",
              "      <td>NaN</td>\n",
              "      <td>NaN</td>\n",
              "      <td>1</td>\n",
              "      <td>36</td>\n",
              "      <td>1.0</td>\n",
              "    </tr>\n",
              "    <tr>\n",
              "      <th>1</th>\n",
              "      <td>city_40</td>\n",
              "      <td>0.776</td>\n",
              "      <td>Male</td>\n",
              "      <td>No relevent experience</td>\n",
              "      <td>no_enrollment</td>\n",
              "      <td>Graduate</td>\n",
              "      <td>STEM</td>\n",
              "      <td>15</td>\n",
              "      <td>50-99</td>\n",
              "      <td>Pvt Ltd</td>\n",
              "      <td>&gt;4</td>\n",
              "      <td>47</td>\n",
              "      <td>0.0</td>\n",
              "    </tr>\n",
              "    <tr>\n",
              "      <th>2</th>\n",
              "      <td>city_21</td>\n",
              "      <td>0.624</td>\n",
              "      <td>NaN</td>\n",
              "      <td>No relevent experience</td>\n",
              "      <td>Full time course</td>\n",
              "      <td>Graduate</td>\n",
              "      <td>STEM</td>\n",
              "      <td>5</td>\n",
              "      <td>NaN</td>\n",
              "      <td>NaN</td>\n",
              "      <td>never</td>\n",
              "      <td>83</td>\n",
              "      <td>0.0</td>\n",
              "    </tr>\n",
              "    <tr>\n",
              "      <th>3</th>\n",
              "      <td>city_115</td>\n",
              "      <td>0.789</td>\n",
              "      <td>NaN</td>\n",
              "      <td>No relevent experience</td>\n",
              "      <td>NaN</td>\n",
              "      <td>Graduate</td>\n",
              "      <td>Business Degree</td>\n",
              "      <td>&lt;1</td>\n",
              "      <td>NaN</td>\n",
              "      <td>Pvt Ltd</td>\n",
              "      <td>never</td>\n",
              "      <td>52</td>\n",
              "      <td>1.0</td>\n",
              "    </tr>\n",
              "    <tr>\n",
              "      <th>4</th>\n",
              "      <td>city_162</td>\n",
              "      <td>0.767</td>\n",
              "      <td>Male</td>\n",
              "      <td>Has relevent experience</td>\n",
              "      <td>no_enrollment</td>\n",
              "      <td>Masters</td>\n",
              "      <td>STEM</td>\n",
              "      <td>&gt;20</td>\n",
              "      <td>50-99</td>\n",
              "      <td>Funded Startup</td>\n",
              "      <td>4</td>\n",
              "      <td>8</td>\n",
              "      <td>0.0</td>\n",
              "    </tr>\n",
              "    <tr>\n",
              "      <th>...</th>\n",
              "      <td>...</td>\n",
              "      <td>...</td>\n",
              "      <td>...</td>\n",
              "      <td>...</td>\n",
              "      <td>...</td>\n",
              "      <td>...</td>\n",
              "      <td>...</td>\n",
              "      <td>...</td>\n",
              "      <td>...</td>\n",
              "      <td>...</td>\n",
              "      <td>...</td>\n",
              "      <td>...</td>\n",
              "      <td>...</td>\n",
              "    </tr>\n",
              "    <tr>\n",
              "      <th>19153</th>\n",
              "      <td>city_173</td>\n",
              "      <td>0.878</td>\n",
              "      <td>Male</td>\n",
              "      <td>No relevent experience</td>\n",
              "      <td>no_enrollment</td>\n",
              "      <td>Graduate</td>\n",
              "      <td>Humanities</td>\n",
              "      <td>14</td>\n",
              "      <td>NaN</td>\n",
              "      <td>NaN</td>\n",
              "      <td>1</td>\n",
              "      <td>42</td>\n",
              "      <td>1.0</td>\n",
              "    </tr>\n",
              "    <tr>\n",
              "      <th>19154</th>\n",
              "      <td>city_103</td>\n",
              "      <td>0.920</td>\n",
              "      <td>Male</td>\n",
              "      <td>Has relevent experience</td>\n",
              "      <td>no_enrollment</td>\n",
              "      <td>Graduate</td>\n",
              "      <td>STEM</td>\n",
              "      <td>14</td>\n",
              "      <td>NaN</td>\n",
              "      <td>NaN</td>\n",
              "      <td>4</td>\n",
              "      <td>52</td>\n",
              "      <td>1.0</td>\n",
              "    </tr>\n",
              "    <tr>\n",
              "      <th>19155</th>\n",
              "      <td>city_103</td>\n",
              "      <td>0.920</td>\n",
              "      <td>Male</td>\n",
              "      <td>Has relevent experience</td>\n",
              "      <td>no_enrollment</td>\n",
              "      <td>Graduate</td>\n",
              "      <td>STEM</td>\n",
              "      <td>&gt;20</td>\n",
              "      <td>50-99</td>\n",
              "      <td>Pvt Ltd</td>\n",
              "      <td>4</td>\n",
              "      <td>44</td>\n",
              "      <td>0.0</td>\n",
              "    </tr>\n",
              "    <tr>\n",
              "      <th>19156</th>\n",
              "      <td>city_65</td>\n",
              "      <td>0.802</td>\n",
              "      <td>Male</td>\n",
              "      <td>Has relevent experience</td>\n",
              "      <td>no_enrollment</td>\n",
              "      <td>High School</td>\n",
              "      <td>NaN</td>\n",
              "      <td>&lt;1</td>\n",
              "      <td>500-999</td>\n",
              "      <td>Pvt Ltd</td>\n",
              "      <td>2</td>\n",
              "      <td>97</td>\n",
              "      <td>0.0</td>\n",
              "    </tr>\n",
              "    <tr>\n",
              "      <th>19157</th>\n",
              "      <td>city_67</td>\n",
              "      <td>0.855</td>\n",
              "      <td>NaN</td>\n",
              "      <td>No relevent experience</td>\n",
              "      <td>no_enrollment</td>\n",
              "      <td>Primary School</td>\n",
              "      <td>NaN</td>\n",
              "      <td>2</td>\n",
              "      <td>NaN</td>\n",
              "      <td>NaN</td>\n",
              "      <td>1</td>\n",
              "      <td>127</td>\n",
              "      <td>0.0</td>\n",
              "    </tr>\n",
              "  </tbody>\n",
              "</table>\n",
              "<p>19109 rows × 13 columns</p>\n",
              "</div>\n",
              "      <button class=\"colab-df-convert\" onclick=\"convertToInteractive('df-efc48c42-ad69-4171-9aa1-49dd70607ac2')\"\n",
              "              title=\"Convert this dataframe to an interactive table.\"\n",
              "              style=\"display:none;\">\n",
              "        \n",
              "  <svg xmlns=\"http://www.w3.org/2000/svg\" height=\"24px\"viewBox=\"0 0 24 24\"\n",
              "       width=\"24px\">\n",
              "    <path d=\"M0 0h24v24H0V0z\" fill=\"none\"/>\n",
              "    <path d=\"M18.56 5.44l.94 2.06.94-2.06 2.06-.94-2.06-.94-.94-2.06-.94 2.06-2.06.94zm-11 1L8.5 8.5l.94-2.06 2.06-.94-2.06-.94L8.5 2.5l-.94 2.06-2.06.94zm10 10l.94 2.06.94-2.06 2.06-.94-2.06-.94-.94-2.06-.94 2.06-2.06.94z\"/><path d=\"M17.41 7.96l-1.37-1.37c-.4-.4-.92-.59-1.43-.59-.52 0-1.04.2-1.43.59L10.3 9.45l-7.72 7.72c-.78.78-.78 2.05 0 2.83L4 21.41c.39.39.9.59 1.41.59.51 0 1.02-.2 1.41-.59l7.78-7.78 2.81-2.81c.8-.78.8-2.07 0-2.86zM5.41 20L4 18.59l7.72-7.72 1.47 1.35L5.41 20z\"/>\n",
              "  </svg>\n",
              "      </button>\n",
              "      \n",
              "  <style>\n",
              "    .colab-df-container {\n",
              "      display:flex;\n",
              "      flex-wrap:wrap;\n",
              "      gap: 12px;\n",
              "    }\n",
              "\n",
              "    .colab-df-convert {\n",
              "      background-color: #E8F0FE;\n",
              "      border: none;\n",
              "      border-radius: 50%;\n",
              "      cursor: pointer;\n",
              "      display: none;\n",
              "      fill: #1967D2;\n",
              "      height: 32px;\n",
              "      padding: 0 0 0 0;\n",
              "      width: 32px;\n",
              "    }\n",
              "\n",
              "    .colab-df-convert:hover {\n",
              "      background-color: #E2EBFA;\n",
              "      box-shadow: 0px 1px 2px rgba(60, 64, 67, 0.3), 0px 1px 3px 1px rgba(60, 64, 67, 0.15);\n",
              "      fill: #174EA6;\n",
              "    }\n",
              "\n",
              "    [theme=dark] .colab-df-convert {\n",
              "      background-color: #3B4455;\n",
              "      fill: #D2E3FC;\n",
              "    }\n",
              "\n",
              "    [theme=dark] .colab-df-convert:hover {\n",
              "      background-color: #434B5C;\n",
              "      box-shadow: 0px 1px 3px 1px rgba(0, 0, 0, 0.15);\n",
              "      filter: drop-shadow(0px 1px 2px rgba(0, 0, 0, 0.3));\n",
              "      fill: #FFFFFF;\n",
              "    }\n",
              "  </style>\n",
              "\n",
              "      <script>\n",
              "        const buttonEl =\n",
              "          document.querySelector('#df-efc48c42-ad69-4171-9aa1-49dd70607ac2 button.colab-df-convert');\n",
              "        buttonEl.style.display =\n",
              "          google.colab.kernel.accessAllowed ? 'block' : 'none';\n",
              "\n",
              "        async function convertToInteractive(key) {\n",
              "          const element = document.querySelector('#df-efc48c42-ad69-4171-9aa1-49dd70607ac2');\n",
              "          const dataTable =\n",
              "            await google.colab.kernel.invokeFunction('convertToInteractive',\n",
              "                                                     [key], {});\n",
              "          if (!dataTable) return;\n",
              "\n",
              "          const docLinkHtml = 'Like what you see? Visit the ' +\n",
              "            '<a target=\"_blank\" href=https://colab.research.google.com/notebooks/data_table.ipynb>data table notebook</a>'\n",
              "            + ' to learn more about interactive tables.';\n",
              "          element.innerHTML = '';\n",
              "          dataTable['output_type'] = 'display_data';\n",
              "          await google.colab.output.renderOutput(dataTable, element);\n",
              "          const docLink = document.createElement('div');\n",
              "          docLink.innerHTML = docLinkHtml;\n",
              "          element.appendChild(docLink);\n",
              "        }\n",
              "      </script>\n",
              "    </div>\n",
              "  </div>\n",
              "  "
            ],
            "text/plain": [
              "           city  city_development_index  ... training_hours target\n",
              "0      city_103                   0.920  ...             36    1.0\n",
              "1       city_40                   0.776  ...             47    0.0\n",
              "2       city_21                   0.624  ...             83    0.0\n",
              "3      city_115                   0.789  ...             52    1.0\n",
              "4      city_162                   0.767  ...              8    0.0\n",
              "...         ...                     ...  ...            ...    ...\n",
              "19153  city_173                   0.878  ...             42    1.0\n",
              "19154  city_103                   0.920  ...             52    1.0\n",
              "19155  city_103                   0.920  ...             44    0.0\n",
              "19156   city_65                   0.802  ...             97    0.0\n",
              "19157   city_67                   0.855  ...            127    0.0\n",
              "\n",
              "[19109 rows x 13 columns]"
            ]
          },
          "metadata": {},
          "execution_count": 20
        }
      ],
      "source": [
        "# check duplicates values and delete.\n",
        "df.duplicated().sum()\n",
        "df.drop_duplicates()"
      ]
    },
    {
      "cell_type": "markdown",
      "id": "868f347e",
      "metadata": {
        "papermill": {
          "duration": 0.136347,
          "end_time": "2021-12-25T17:59:02.646231",
          "exception": false,
          "start_time": "2021-12-25T17:59:02.509884",
          "status": "completed"
        },
        "tags": [],
        "id": "868f347e"
      },
      "source": [
        "## Analyse and Cleaning Data"
      ]
    },
    {
      "cell_type": "markdown",
      "id": "d55fb033",
      "metadata": {
        "papermill": {
          "duration": 0.136488,
          "end_time": "2021-12-25T17:59:02.920200",
          "exception": false,
          "start_time": "2021-12-25T17:59:02.783712",
          "status": "completed"
        },
        "tags": [],
        "id": "d55fb033"
      },
      "source": [
        "### City"
      ]
    },
    {
      "cell_type": "code",
      "execution_count": 21,
      "id": "9c214ddb",
      "metadata": {
        "execution": {
          "iopub.execute_input": "2021-12-25T17:59:03.204404Z",
          "iopub.status.busy": "2021-12-25T17:59:03.203622Z",
          "iopub.status.idle": "2021-12-25T17:59:03.215599Z",
          "shell.execute_reply": "2021-12-25T17:59:03.216153Z",
          "shell.execute_reply.started": "2021-12-25T17:40:51.086228Z"
        },
        "papermill": {
          "duration": 0.158528,
          "end_time": "2021-12-25T17:59:03.216406",
          "exception": false,
          "start_time": "2021-12-25T17:59:03.057878",
          "status": "completed"
        },
        "tags": [],
        "colab": {
          "base_uri": "https://localhost:8080/"
        },
        "id": "9c214ddb",
        "outputId": "def9bdeb-3d34-48d3-97a2-6e9093a1f968"
      },
      "outputs": [
        {
          "output_type": "execute_result",
          "data": {
            "text/plain": [
              "['city_103',\n",
              " 'city_40',\n",
              " 'city_21',\n",
              " 'city_115',\n",
              " 'city_162',\n",
              " 'city_176',\n",
              " 'city_160',\n",
              " 'city_46',\n",
              " 'city_61',\n",
              " 'city_114',\n",
              " 'city_13',\n",
              " 'city_159',\n",
              " 'city_102',\n",
              " 'city_67',\n",
              " 'city_100',\n",
              " 'city_16',\n",
              " 'city_71',\n",
              " 'city_104',\n",
              " 'city_64',\n",
              " 'city_101',\n",
              " 'city_83',\n",
              " 'city_105',\n",
              " 'city_73',\n",
              " 'city_75',\n",
              " 'city_41',\n",
              " 'city_11',\n",
              " 'city_93',\n",
              " 'city_90',\n",
              " 'city_36',\n",
              " 'city_20',\n",
              " 'city_57',\n",
              " 'city_152',\n",
              " 'city_19',\n",
              " 'city_65',\n",
              " 'city_74',\n",
              " 'city_173',\n",
              " 'city_136',\n",
              " 'city_98',\n",
              " 'city_97',\n",
              " 'city_50',\n",
              " 'city_138',\n",
              " 'city_82',\n",
              " 'city_157',\n",
              " 'city_89',\n",
              " 'city_150',\n",
              " 'city_70',\n",
              " 'city_175',\n",
              " 'city_94',\n",
              " 'city_28',\n",
              " 'city_59',\n",
              " 'city_165',\n",
              " 'city_145',\n",
              " 'city_142',\n",
              " 'city_26',\n",
              " 'city_12',\n",
              " 'city_37',\n",
              " 'city_43',\n",
              " 'city_116',\n",
              " 'city_23',\n",
              " 'city_99',\n",
              " 'city_149',\n",
              " 'city_10',\n",
              " 'city_45',\n",
              " 'city_80',\n",
              " 'city_128',\n",
              " 'city_158',\n",
              " 'city_123',\n",
              " 'city_7',\n",
              " 'city_72',\n",
              " 'city_106',\n",
              " 'city_143',\n",
              " 'city_78',\n",
              " 'city_109',\n",
              " 'city_24',\n",
              " 'city_134',\n",
              " 'city_48',\n",
              " 'city_144',\n",
              " 'city_91',\n",
              " 'city_146',\n",
              " 'city_133',\n",
              " 'city_126',\n",
              " 'city_118',\n",
              " 'city_9',\n",
              " 'city_167',\n",
              " 'city_27',\n",
              " 'city_84',\n",
              " 'city_54',\n",
              " 'city_39',\n",
              " 'city_79',\n",
              " 'city_76',\n",
              " 'city_77',\n",
              " 'city_81',\n",
              " 'city_131',\n",
              " 'city_44',\n",
              " 'city_117',\n",
              " 'city_155',\n",
              " 'city_33',\n",
              " 'city_141',\n",
              " 'city_127',\n",
              " 'city_62',\n",
              " 'city_53',\n",
              " 'city_25',\n",
              " 'city_2',\n",
              " 'city_69',\n",
              " 'city_120',\n",
              " 'city_111',\n",
              " 'city_30',\n",
              " 'city_1',\n",
              " 'city_140',\n",
              " 'city_179',\n",
              " 'city_55',\n",
              " 'city_14',\n",
              " 'city_42',\n",
              " 'city_107',\n",
              " 'city_18',\n",
              " 'city_139',\n",
              " 'city_180',\n",
              " 'city_166',\n",
              " 'city_121',\n",
              " 'city_129',\n",
              " 'city_8',\n",
              " 'city_31',\n",
              " 'city_171']"
            ]
          },
          "metadata": {},
          "execution_count": 21
        }
      ],
      "source": [
        "# Check values\n",
        "df['city'].unique().tolist()"
      ]
    },
    {
      "cell_type": "code",
      "execution_count": 22,
      "id": "974318ec",
      "metadata": {
        "execution": {
          "iopub.execute_input": "2021-12-25T17:59:03.529120Z",
          "iopub.status.busy": "2021-12-25T17:59:03.528077Z",
          "iopub.status.idle": "2021-12-25T17:59:03.535898Z",
          "shell.execute_reply": "2021-12-25T17:59:03.536555Z",
          "shell.execute_reply.started": "2021-12-25T17:40:51.096997Z"
        },
        "papermill": {
          "duration": 0.150642,
          "end_time": "2021-12-25T17:59:03.536734",
          "exception": false,
          "start_time": "2021-12-25T17:59:03.386092",
          "status": "completed"
        },
        "tags": [],
        "colab": {
          "base_uri": "https://localhost:8080/"
        },
        "id": "974318ec",
        "outputId": "bd6c60f3-78de-4051-9dc4-95764d57ffea"
      },
      "outputs": [
        {
          "output_type": "execute_result",
          "data": {
            "text/plain": [
              "123"
            ]
          },
          "metadata": {},
          "execution_count": 22
        }
      ],
      "source": [
        "# count values\n",
        "len(df['city'].unique().tolist())"
      ]
    },
    {
      "cell_type": "code",
      "execution_count": 23,
      "id": "bd7774bb",
      "metadata": {
        "execution": {
          "iopub.execute_input": "2021-12-25T17:59:03.818185Z",
          "iopub.status.busy": "2021-12-25T17:59:03.817108Z",
          "iopub.status.idle": "2021-12-25T17:59:03.823627Z",
          "shell.execute_reply": "2021-12-25T17:59:03.824258Z",
          "shell.execute_reply.started": "2021-12-25T17:40:51.105153Z"
        },
        "papermill": {
          "duration": 0.150391,
          "end_time": "2021-12-25T17:59:03.824454",
          "exception": false,
          "start_time": "2021-12-25T17:59:03.674063",
          "status": "completed"
        },
        "tags": [],
        "id": "bd7774bb"
      },
      "outputs": [],
      "source": [
        "# delete this features\n",
        "df.drop(['city'], axis=1,inplace=True)"
      ]
    },
    {
      "cell_type": "markdown",
      "id": "b8e1d65f",
      "metadata": {
        "papermill": {
          "duration": 0.138208,
          "end_time": "2021-12-25T17:59:04.100654",
          "exception": false,
          "start_time": "2021-12-25T17:59:03.962446",
          "status": "completed"
        },
        "tags": [],
        "id": "b8e1d65f"
      },
      "source": [
        "### City_development_index"
      ]
    },
    {
      "cell_type": "code",
      "execution_count": 24,
      "id": "50056cd2",
      "metadata": {
        "execution": {
          "iopub.execute_input": "2021-12-25T17:59:04.390020Z",
          "iopub.status.busy": "2021-12-25T17:59:04.389346Z",
          "iopub.status.idle": "2021-12-25T17:59:04.394450Z",
          "shell.execute_reply": "2021-12-25T17:59:04.393844Z",
          "shell.execute_reply.started": "2021-12-25T17:40:51.116670Z"
        },
        "papermill": {
          "duration": 0.153377,
          "end_time": "2021-12-25T17:59:04.394610",
          "exception": false,
          "start_time": "2021-12-25T17:59:04.241233",
          "status": "completed"
        },
        "tags": [],
        "colab": {
          "base_uri": "https://localhost:8080/"
        },
        "id": "50056cd2",
        "outputId": "2daa73ba-533b-477a-8f58-79c5e08472ce"
      },
      "outputs": [
        {
          "output_type": "execute_result",
          "data": {
            "text/plain": [
              "[0.92,\n",
              " 0.7759999999999999,\n",
              " 0.624,\n",
              " 0.789,\n",
              " 0.767,\n",
              " 0.764,\n",
              " 0.762,\n",
              " 0.913,\n",
              " 0.926,\n",
              " 0.8270000000000001,\n",
              " 0.843,\n",
              " 0.804,\n",
              " 0.855,\n",
              " 0.887,\n",
              " 0.91,\n",
              " 0.884,\n",
              " 0.924,\n",
              " 0.6659999999999999,\n",
              " 0.5579999999999999,\n",
              " 0.923,\n",
              " 0.794,\n",
              " 0.754,\n",
              " 0.939,\n",
              " 0.55,\n",
              " 0.865,\n",
              " 0.698,\n",
              " 0.893,\n",
              " 0.7959999999999999,\n",
              " 0.866,\n",
              " 0.682,\n",
              " 0.802,\n",
              " 0.579,\n",
              " 0.878,\n",
              " 0.897,\n",
              " 0.949,\n",
              " 0.925,\n",
              " 0.8959999999999999,\n",
              " 0.836,\n",
              " 0.693,\n",
              " 0.769,\n",
              " 0.775,\n",
              " 0.903,\n",
              " 0.555,\n",
              " 0.727,\n",
              " 0.64,\n",
              " 0.516,\n",
              " 0.743,\n",
              " 0.899,\n",
              " 0.915,\n",
              " 0.6890000000000001,\n",
              " 0.895,\n",
              " 0.89,\n",
              " 0.847,\n",
              " 0.527,\n",
              " 0.7659999999999999,\n",
              " 0.738,\n",
              " 0.647,\n",
              " 0.795,\n",
              " 0.74,\n",
              " 0.701,\n",
              " 0.493,\n",
              " 0.84,\n",
              " 0.691,\n",
              " 0.735,\n",
              " 0.742,\n",
              " 0.479,\n",
              " 0.722,\n",
              " 0.921,\n",
              " 0.848,\n",
              " 0.856,\n",
              " 0.898,\n",
              " 0.83,\n",
              " 0.73,\n",
              " 0.68,\n",
              " 0.725,\n",
              " 0.556,\n",
              " 0.448,\n",
              " 0.763,\n",
              " 0.745,\n",
              " 0.645,\n",
              " 0.7879999999999999,\n",
              " 0.78,\n",
              " 0.512,\n",
              " 0.7390000000000001,\n",
              " 0.563,\n",
              " 0.518,\n",
              " 0.8240000000000001,\n",
              " 0.487,\n",
              " 0.649,\n",
              " 0.7809999999999999,\n",
              " 0.625,\n",
              " 0.807,\n",
              " 0.664]"
            ]
          },
          "metadata": {},
          "execution_count": 24
        }
      ],
      "source": [
        "# check values\n",
        "df['city_development_index'].unique().tolist()"
      ]
    },
    {
      "cell_type": "code",
      "execution_count": 25,
      "id": "1683117c",
      "metadata": {
        "execution": {
          "iopub.execute_input": "2021-12-25T17:59:04.676260Z",
          "iopub.status.busy": "2021-12-25T17:59:04.675565Z",
          "iopub.status.idle": "2021-12-25T17:59:05.038789Z",
          "shell.execute_reply": "2021-12-25T17:59:05.039369Z",
          "shell.execute_reply.started": "2021-12-25T17:40:51.131795Z"
        },
        "papermill": {
          "duration": 0.505908,
          "end_time": "2021-12-25T17:59:05.039555",
          "exception": false,
          "start_time": "2021-12-25T17:59:04.533647",
          "status": "completed"
        },
        "tags": [],
        "colab": {
          "base_uri": "https://localhost:8080/",
          "height": 299
        },
        "id": "1683117c",
        "outputId": "ce2053ea-4cc0-4e0a-b832-aa5d2d96e2e0"
      },
      "outputs": [
        {
          "output_type": "execute_result",
          "data": {
            "text/plain": [
              "<matplotlib.axes._subplots.AxesSubplot at 0x7f99e7f09810>"
            ]
          },
          "metadata": {},
          "execution_count": 25
        },
        {
          "output_type": "display_data",
          "data": {
            "image/png": "[encoded data removed]",
            "text/plain": [
              "<Figure size 432x288 with 1 Axes>"
            ]
          },
          "metadata": {
            "needs_background": "light"
          }
        }
      ],
      "source": [
        "# visualize features\n",
        "sns.kdeplot(data=df, x=\"city_development_index\")\n"
      ]
    },
    {
      "cell_type": "code",
      "execution_count": 26,
      "id": "b3a7e18d",
      "metadata": {
        "execution": {
          "iopub.execute_input": "2021-12-25T17:59:05.325940Z",
          "iopub.status.busy": "2021-12-25T17:59:05.324845Z",
          "iopub.status.idle": "2021-12-25T17:59:05.739942Z",
          "shell.execute_reply": "2021-12-25T17:59:05.740537Z",
          "shell.execute_reply.started": "2021-12-25T17:40:51.450203Z"
        },
        "papermill": {
          "duration": 0.561507,
          "end_time": "2021-12-25T17:59:05.740739",
          "exception": false,
          "start_time": "2021-12-25T17:59:05.179232",
          "status": "completed"
        },
        "tags": [],
        "colab": {
          "base_uri": "https://localhost:8080/",
          "height": 297
        },
        "id": "b3a7e18d",
        "outputId": "010f6738-063c-449c-9b8b-81ce7adc964c"
      },
      "outputs": [
        {
          "output_type": "execute_result",
          "data": {
            "text/plain": [
              "<matplotlib.axes._subplots.AxesSubplot at 0x7f99df1d0b90>"
            ]
          },
          "metadata": {},
          "execution_count": 26
        },
        {
          "output_type": "display_data",
          "data": {
            "image/png": "[encoded data removed]",
            "text/plain": [
              "<Figure size 432x288 with 1 Axes>"
            ]
          },
          "metadata": {
            "needs_background": "light"
          }
        }
      ],
      "source": [
        "# compare this feature with target\n",
        "sns.kdeplot(data=df, x=\"city_development_index\", hue=\"target\")\n"
      ]
    },
    {
      "cell_type": "code",
      "execution_count": 27,
      "id": "b905b9ed",
      "metadata": {
        "execution": {
          "iopub.execute_input": "2021-12-25T17:59:06.033248Z",
          "iopub.status.busy": "2021-12-25T17:59:06.029243Z",
          "iopub.status.idle": "2021-12-25T17:59:06.261585Z",
          "shell.execute_reply": "2021-12-25T17:59:06.260934Z",
          "shell.execute_reply.started": "2021-12-25T17:40:51.801651Z"
        },
        "papermill": {
          "duration": 0.378936,
          "end_time": "2021-12-25T17:59:06.261739",
          "exception": false,
          "start_time": "2021-12-25T17:59:05.882803",
          "status": "completed"
        },
        "tags": [],
        "colab": {
          "base_uri": "https://localhost:8080/",
          "height": 351
        },
        "id": "b905b9ed",
        "outputId": "af3a4d2d-2966-4fce-a0c6-cff4a1315d1d"
      },
      "outputs": [
        {
          "output_type": "execute_result",
          "data": {
            "text/plain": [
              "<Figure size 864x360 with 0 Axes>"
            ]
          },
          "metadata": {},
          "execution_count": 27
        },
        {
          "output_type": "execute_result",
          "data": {
            "text/plain": [
              "<matplotlib.axes._subplots.AxesSubplot at 0x7f99df1aaed0>"
            ]
          },
          "metadata": {},
          "execution_count": 27
        },
        {
          "output_type": "display_data",
          "data": {
            "image/png": "[encoded data removed]",
            "text/plain": [
              "<Figure size 864x360 with 1 Axes>"
            ]
          },
          "metadata": {
            "needs_background": "light"
          }
        }
      ],
      "source": [
        "plt.figure(figsize=(12, 5))\n",
        "sns.boxplot(x='target',y='city_development_index',data=df)\n",
        "xlabel='Looking for job'\n",
        "ylabel = 'city_development_index'"
      ]
    },
    {
      "cell_type": "markdown",
      "id": "3e0b6976",
      "metadata": {
        "papermill": {
          "duration": 0.142161,
          "end_time": "2021-12-25T17:59:06.546209",
          "exception": false,
          "start_time": "2021-12-25T17:59:06.404048",
          "status": "completed"
        },
        "tags": [],
        "id": "3e0b6976"
      },
      "source": [
        "### gender"
      ]
    },
    {
      "cell_type": "code",
      "execution_count": 28,
      "id": "2a344150",
      "metadata": {
        "execution": {
          "iopub.execute_input": "2021-12-25T17:59:06.841616Z",
          "iopub.status.busy": "2021-12-25T17:59:06.840641Z",
          "iopub.status.idle": "2021-12-25T17:59:06.844498Z",
          "shell.execute_reply": "2021-12-25T17:59:06.845005Z",
          "shell.execute_reply.started": "2021-12-25T17:40:52.002321Z"
        },
        "papermill": {
          "duration": 0.155773,
          "end_time": "2021-12-25T17:59:06.845192",
          "exception": false,
          "start_time": "2021-12-25T17:59:06.689419",
          "status": "completed"
        },
        "tags": [],
        "colab": {
          "base_uri": "https://localhost:8080/"
        },
        "id": "2a344150",
        "outputId": "828fc296-4458-42af-8bb8-e01e6ef824e0"
      },
      "outputs": [
        {
          "output_type": "execute_result",
          "data": {
            "text/plain": [
              "Male      13221\n",
              "Female     1238\n",
              "Other       191\n",
              "Name: gender, dtype: int64"
            ]
          },
          "metadata": {},
          "execution_count": 28
        }
      ],
      "source": [
        "# check values of this features\n",
        "df['gender'].value_counts()"
      ]
    },
    {
      "cell_type": "code",
      "execution_count": 29,
      "id": "2721ddee",
      "metadata": {
        "execution": {
          "iopub.execute_input": "2021-12-25T17:59:07.144380Z",
          "iopub.status.busy": "2021-12-25T17:59:07.143251Z",
          "iopub.status.idle": "2021-12-25T17:59:07.348784Z",
          "shell.execute_reply": "2021-12-25T17:59:07.348118Z",
          "shell.execute_reply.started": "2021-12-25T17:40:52.013615Z"
        },
        "papermill": {
          "duration": 0.360748,
          "end_time": "2021-12-25T17:59:07.348941",
          "exception": false,
          "start_time": "2021-12-25T17:59:06.988193",
          "status": "completed"
        },
        "tags": [],
        "colab": {
          "base_uri": "https://localhost:8080/",
          "height": 313
        },
        "id": "2721ddee",
        "outputId": "28ea727b-5e4b-4474-8447-db6cf27d8d78"
      },
      "outputs": [
        {
          "output_type": "execute_result",
          "data": {
            "text/plain": [
              "<BarContainer object of 3 artists>"
            ]
          },
          "metadata": {},
          "execution_count": 29
        },
        {
          "output_type": "execute_result",
          "data": {
            "text/plain": [
              "Text(0.5, 1.0, 'Compare Gender')"
            ]
          },
          "metadata": {},
          "execution_count": 29
        },
        {
          "output_type": "execute_result",
          "data": {
            "text/plain": [
              "Text(0.5, 0, 'Gender')"
            ]
          },
          "metadata": {},
          "execution_count": 29
        },
        {
          "output_type": "execute_result",
          "data": {
            "text/plain": [
              "Text(0, 0.5, 'Number')"
            ]
          },
          "metadata": {},
          "execution_count": 29
        },
        {
          "output_type": "display_data",
          "data": {
            "image/png": "[encoded data removed]",
            "text/plain": [
              "<Figure size 432x288 with 1 Axes>"
            ]
          },
          "metadata": {
            "needs_background": "light"
          }
        }
      ],
      "source": [
        "# Visualize gender\n",
        "# create a figure and axis \n",
        "fig, ax = plt.subplots() \n",
        "# count the occurrence of each class \n",
        "data = df['gender'].value_counts() \n",
        "# get x and y data \n",
        "points = data.index \n",
        "frequency = data.values \n",
        "# create bar chart \n",
        "ax.bar(points, frequency) \n",
        "\n",
        "# set title and labels \n",
        "ax.set_title('Compare Gender') \n",
        "ax.set_xlabel('Gender') \n",
        "ax.set_ylabel('Number')"
      ]
    },
    {
      "cell_type": "code",
      "execution_count": 30,
      "id": "1865e78f",
      "metadata": {
        "execution": {
          "iopub.execute_input": "2021-12-25T17:59:07.640174Z",
          "iopub.status.busy": "2021-12-25T17:59:07.639151Z",
          "iopub.status.idle": "2021-12-25T17:59:07.647233Z",
          "shell.execute_reply": "2021-12-25T17:59:07.647776Z",
          "shell.execute_reply.started": "2021-12-25T17:40:52.202659Z"
        },
        "papermill": {
          "duration": 0.155864,
          "end_time": "2021-12-25T17:59:07.647957",
          "exception": false,
          "start_time": "2021-12-25T17:59:07.492093",
          "status": "completed"
        },
        "tags": [],
        "colab": {
          "base_uri": "https://localhost:8080/"
        },
        "id": "1865e78f",
        "outputId": "88b1d53a-85f0-4a81-d516-7a7c0d801342"
      },
      "outputs": [
        {
          "output_type": "execute_result",
          "data": {
            "text/plain": [
              "4508"
            ]
          },
          "metadata": {},
          "execution_count": 30
        }
      ],
      "source": [
        "# missings values \n",
        "df['gender'].isna().sum()"
      ]
    },
    {
      "cell_type": "code",
      "execution_count": 31,
      "id": "0b90c19a",
      "metadata": {
        "execution": {
          "iopub.execute_input": "2021-12-25T17:59:07.948836Z",
          "iopub.status.busy": "2021-12-25T17:59:07.946975Z",
          "iopub.status.idle": "2021-12-25T17:59:07.965873Z",
          "shell.execute_reply": "2021-12-25T17:59:07.966449Z",
          "shell.execute_reply.started": "2021-12-25T17:40:52.210981Z"
        },
        "papermill": {
          "duration": 0.174374,
          "end_time": "2021-12-25T17:59:07.966655",
          "exception": false,
          "start_time": "2021-12-25T17:59:07.792281",
          "status": "completed"
        },
        "tags": [],
        "id": "0b90c19a"
      },
      "outputs": [],
      "source": [
        "# filling missings values with random imputation, 50% female, 50% male\n",
        "from random import choice\n",
        "\n",
        "mask = df[\"gender\"].isna()\n",
        "\n",
        "df.loc[mask,[\"gender\"]] = df.loc[mask,[\"gender\"]].applymap(lambda _: choice([\"Male\",\"Female\"]))"
      ]
    },
    {
      "cell_type": "code",
      "execution_count": 32,
      "id": "6560275b",
      "metadata": {
        "execution": {
          "iopub.execute_input": "2021-12-25T17:59:08.270680Z",
          "iopub.status.busy": "2021-12-25T17:59:08.269943Z",
          "iopub.status.idle": "2021-12-25T17:59:08.277898Z",
          "shell.execute_reply": "2021-12-25T17:59:08.278454Z",
          "shell.execute_reply.started": "2021-12-25T17:40:52.236778Z"
        },
        "papermill": {
          "duration": 0.161466,
          "end_time": "2021-12-25T17:59:08.278662",
          "exception": false,
          "start_time": "2021-12-25T17:59:08.117196",
          "status": "completed"
        },
        "tags": [],
        "id": "6560275b"
      },
      "outputs": [],
      "source": [
        "# value \"Other\", in gender  is replace with female values.\n",
        "df['gender'].replace({\"Other\": \"Female\"}, inplace=True)"
      ]
    },
    {
      "cell_type": "code",
      "execution_count": 33,
      "id": "15e15073",
      "metadata": {
        "execution": {
          "iopub.execute_input": "2021-12-25T17:59:08.597742Z",
          "iopub.status.busy": "2021-12-25T17:59:08.596996Z",
          "iopub.status.idle": "2021-12-25T17:59:08.849758Z",
          "shell.execute_reply": "2021-12-25T17:59:08.850292Z",
          "shell.execute_reply.started": "2021-12-25T17:40:52.246734Z"
        },
        "papermill": {
          "duration": 0.419755,
          "end_time": "2021-12-25T17:59:08.850499",
          "exception": false,
          "start_time": "2021-12-25T17:59:08.430744",
          "status": "completed"
        },
        "tags": [],
        "colab": {
          "base_uri": "https://localhost:8080/",
          "height": 297
        },
        "id": "15e15073",
        "outputId": "cc85e14c-c2b4-411b-c311-c7f4ead6f646"
      },
      "outputs": [
        {
          "output_type": "execute_result",
          "data": {
            "text/plain": [
              "<matplotlib.axes._subplots.AxesSubplot at 0x7f99df04a2d0>"
            ]
          },
          "metadata": {},
          "execution_count": 33
        },
        {
          "output_type": "display_data",
          "data": {
            "image/png": "[encoded data removed]",
            "text/plain": [
              "<Figure size 432x288 with 1 Axes>"
            ]
          },
          "metadata": {
            "needs_background": "light"
          }
        }
      ],
      "source": [
        "# visualize this features with target\n",
        "sns.countplot(x=df.gender, hue=df.target, palette='light:#5A9')"
      ]
    },
    {
      "cell_type": "code",
      "execution_count": 34,
      "id": "23562908",
      "metadata": {
        "execution": {
          "iopub.execute_input": "2021-12-25T17:59:09.149884Z",
          "iopub.status.busy": "2021-12-25T17:59:09.148805Z",
          "iopub.status.idle": "2021-12-25T17:59:09.542214Z",
          "shell.execute_reply": "2021-12-25T17:59:09.542744Z",
          "shell.execute_reply.started": "2021-12-25T17:40:52.471494Z"
        },
        "papermill": {
          "duration": 0.54478,
          "end_time": "2021-12-25T17:59:09.542940",
          "exception": false,
          "start_time": "2021-12-25T17:59:08.998160",
          "status": "completed"
        },
        "tags": [],
        "colab": {
          "base_uri": "https://localhost:8080/",
          "height": 297
        },
        "id": "23562908",
        "outputId": "af48df47-f0b5-49fe-8ad9-1a1b0998a47c"
      },
      "outputs": [
        {
          "output_type": "execute_result",
          "data": {
            "text/plain": [
              "<matplotlib.axes._subplots.AxesSubplot at 0x7f99defce5d0>"
            ]
          },
          "metadata": {},
          "execution_count": 34
        },
        {
          "output_type": "display_data",
          "data": {
            "image/png": "[encoded data removed]",
            "text/plain": [
              "<Figure size 432x288 with 1 Axes>"
            ]
          },
          "metadata": {
            "needs_background": "light"
          }
        }
      ],
      "source": [
        "sns.barplot(x=\"gender\", y=\"target\", data=df)\n",
        "plt.show()"
      ]
    },
    {
      "cell_type": "code",
      "execution_count": 35,
      "id": "92a594ba",
      "metadata": {
        "execution": {
          "iopub.execute_input": "2021-12-25T17:59:09.844997Z",
          "iopub.status.busy": "2021-12-25T17:59:09.843809Z",
          "iopub.status.idle": "2021-12-25T17:59:09.877858Z",
          "shell.execute_reply": "2021-12-25T17:59:09.878540Z",
          "shell.execute_reply.started": "2021-12-25T17:40:52.775466Z"
        },
        "papermill": {
          "duration": 0.189144,
          "end_time": "2021-12-25T17:59:09.878726",
          "exception": false,
          "start_time": "2021-12-25T17:59:09.689582",
          "status": "completed"
        },
        "tags": [],
        "colab": {
          "base_uri": "https://localhost:8080/",
          "height": 256
        },
        "id": "92a594ba",
        "outputId": "c829f302-5622-405f-bdd2-c6d9b884bf10"
      },
      "outputs": [
        {
          "output_type": "execute_result",
          "data": {
            "text/html": [
              "\n",
              "  <div id=\"df-42fa0d25-a60a-423f-88bc-90f13646f65b\">\n",
              "    <div class=\"colab-df-container\">\n",
              "      <div>\n",
              "<style scoped>\n",
              "    .dataframe tbody tr th:only-of-type {\n",
              "        vertical-align: middle;\n",
              "    }\n",
              "\n",
              "    .dataframe tbody tr th {\n",
              "        vertical-align: top;\n",
              "    }\n",
              "\n",
              "    .dataframe thead th {\n",
              "        text-align: right;\n",
              "    }\n",
              "</style>\n",
              "<table border=\"1\" class=\"dataframe\">\n",
              "  <thead>\n",
              "    <tr style=\"text-align: right;\">\n",
              "      <th></th>\n",
              "      <th>city_development_index</th>\n",
              "      <th>gender</th>\n",
              "      <th>relevent_experience</th>\n",
              "      <th>enrolled_university</th>\n",
              "      <th>education_level</th>\n",
              "      <th>major_discipline</th>\n",
              "      <th>experience</th>\n",
              "      <th>company_size</th>\n",
              "      <th>company_type</th>\n",
              "      <th>last_new_job</th>\n",
              "      <th>training_hours</th>\n",
              "      <th>target</th>\n",
              "      <th>Sex_bin</th>\n",
              "    </tr>\n",
              "  </thead>\n",
              "  <tbody>\n",
              "    <tr>\n",
              "      <th>0</th>\n",
              "      <td>0.920</td>\n",
              "      <td>Male</td>\n",
              "      <td>Has relevent experience</td>\n",
              "      <td>no_enrollment</td>\n",
              "      <td>Graduate</td>\n",
              "      <td>STEM</td>\n",
              "      <td>&gt;20</td>\n",
              "      <td>NaN</td>\n",
              "      <td>NaN</td>\n",
              "      <td>1</td>\n",
              "      <td>36</td>\n",
              "      <td>1.0</td>\n",
              "      <td>0</td>\n",
              "    </tr>\n",
              "    <tr>\n",
              "      <th>1</th>\n",
              "      <td>0.776</td>\n",
              "      <td>Male</td>\n",
              "      <td>No relevent experience</td>\n",
              "      <td>no_enrollment</td>\n",
              "      <td>Graduate</td>\n",
              "      <td>STEM</td>\n",
              "      <td>15</td>\n",
              "      <td>50-99</td>\n",
              "      <td>Pvt Ltd</td>\n",
              "      <td>&gt;4</td>\n",
              "      <td>47</td>\n",
              "      <td>0.0</td>\n",
              "      <td>0</td>\n",
              "    </tr>\n",
              "    <tr>\n",
              "      <th>2</th>\n",
              "      <td>0.624</td>\n",
              "      <td>Male</td>\n",
              "      <td>No relevent experience</td>\n",
              "      <td>Full time course</td>\n",
              "      <td>Graduate</td>\n",
              "      <td>STEM</td>\n",
              "      <td>5</td>\n",
              "      <td>NaN</td>\n",
              "      <td>NaN</td>\n",
              "      <td>never</td>\n",
              "      <td>83</td>\n",
              "      <td>0.0</td>\n",
              "      <td>0</td>\n",
              "    </tr>\n",
              "    <tr>\n",
              "      <th>3</th>\n",
              "      <td>0.789</td>\n",
              "      <td>Female</td>\n",
              "      <td>No relevent experience</td>\n",
              "      <td>NaN</td>\n",
              "      <td>Graduate</td>\n",
              "      <td>Business Degree</td>\n",
              "      <td>&lt;1</td>\n",
              "      <td>NaN</td>\n",
              "      <td>Pvt Ltd</td>\n",
              "      <td>never</td>\n",
              "      <td>52</td>\n",
              "      <td>1.0</td>\n",
              "      <td>1</td>\n",
              "    </tr>\n",
              "  </tbody>\n",
              "</table>\n",
              "</div>\n",
              "      <button class=\"colab-df-convert\" onclick=\"convertToInteractive('df-42fa0d25-a60a-423f-88bc-90f13646f65b')\"\n",
              "              title=\"Convert this dataframe to an interactive table.\"\n",
              "              style=\"display:none;\">\n",
              "        \n",
              "  <svg xmlns=\"http://www.w3.org/2000/svg\" height=\"24px\"viewBox=\"0 0 24 24\"\n",
              "       width=\"24px\">\n",
              "    <path d=\"M0 0h24v24H0V0z\" fill=\"none\"/>\n",
              "    <path d=\"M18.56 5.44l.94 2.06.94-2.06 2.06-.94-2.06-.94-.94-2.06-.94 2.06-2.06.94zm-11 1L8.5 8.5l.94-2.06 2.06-.94-2.06-.94L8.5 2.5l-.94 2.06-2.06.94zm10 10l.94 2.06.94-2.06 2.06-.94-2.06-.94-.94-2.06-.94 2.06-2.06.94z\"/><path d=\"M17.41 7.96l-1.37-1.37c-.4-.4-.92-.59-1.43-.59-.52 0-1.04.2-1.43.59L10.3 9.45l-7.72 7.72c-.78.78-.78 2.05 0 2.83L4 21.41c.39.39.9.59 1.41.59.51 0 1.02-.2 1.41-.59l7.78-7.78 2.81-2.81c.8-.78.8-2.07 0-2.86zM5.41 20L4 18.59l7.72-7.72 1.47 1.35L5.41 20z\"/>\n",
              "  </svg>\n",
              "      </button>\n",
              "      \n",
              "  <style>\n",
              "    .colab-df-container {\n",
              "      display:flex;\n",
              "      flex-wrap:wrap;\n",
              "      gap: 12px;\n",
              "    }\n",
              "\n",
              "    .colab-df-convert {\n",
              "      background-color: #E8F0FE;\n",
              "      border: none;\n",
              "      border-radius: 50%;\n",
              "      cursor: pointer;\n",
              "      display: none;\n",
              "      fill: #1967D2;\n",
              "      height: 32px;\n",
              "      padding: 0 0 0 0;\n",
              "      width: 32px;\n",
              "    }\n",
              "\n",
              "    .colab-df-convert:hover {\n",
              "      background-color: #E2EBFA;\n",
              "      box-shadow: 0px 1px 2px rgba(60, 64, 67, 0.3), 0px 1px 3px 1px rgba(60, 64, 67, 0.15);\n",
              "      fill: #174EA6;\n",
              "    }\n",
              "\n",
              "    [theme=dark] .colab-df-convert {\n",
              "      background-color: #3B4455;\n",
              "      fill: #D2E3FC;\n",
              "    }\n",
              "\n",
              "    [theme=dark] .colab-df-convert:hover {\n",
              "      background-color: #434B5C;\n",
              "      box-shadow: 0px 1px 3px 1px rgba(0, 0, 0, 0.15);\n",
              "      filter: drop-shadow(0px 1px 2px rgba(0, 0, 0, 0.3));\n",
              "      fill: #FFFFFF;\n",
              "    }\n",
              "  </style>\n",
              "\n",
              "      <script>\n",
              "        const buttonEl =\n",
              "          document.querySelector('#df-42fa0d25-a60a-423f-88bc-90f13646f65b button.colab-df-convert');\n",
              "        buttonEl.style.display =\n",
              "          google.colab.kernel.accessAllowed ? 'block' : 'none';\n",
              "\n",
              "        async function convertToInteractive(key) {\n",
              "          const element = document.querySelector('#df-42fa0d25-a60a-423f-88bc-90f13646f65b');\n",
              "          const dataTable =\n",
              "            await google.colab.kernel.invokeFunction('convertToInteractive',\n",
              "                                                     [key], {});\n",
              "          if (!dataTable) return;\n",
              "\n",
              "          const docLinkHtml = 'Like what you see? Visit the ' +\n",
              "            '<a target=\"_blank\" href=https://colab.research.google.com/notebooks/data_table.ipynb>data table notebook</a>'\n",
              "            + ' to learn more about interactive tables.';\n",
              "          element.innerHTML = '';\n",
              "          dataTable['output_type'] = 'display_data';\n",
              "          await google.colab.output.renderOutput(dataTable, element);\n",
              "          const docLink = document.createElement('div');\n",
              "          docLink.innerHTML = docLinkHtml;\n",
              "          element.appendChild(docLink);\n",
              "        }\n",
              "      </script>\n",
              "    </div>\n",
              "  </div>\n",
              "  "
            ],
            "text/plain": [
              "   city_development_index  gender  ... target Sex_bin\n",
              "0                   0.920    Male  ...    1.0       0\n",
              "1                   0.776    Male  ...    0.0       0\n",
              "2                   0.624    Male  ...    0.0       0\n",
              "3                   0.789  Female  ...    1.0       1\n",
              "\n",
              "[4 rows x 13 columns]"
            ]
          },
          "metadata": {},
          "execution_count": 35
        }
      ],
      "source": [
        "# Binarize male y female feature.\n",
        "df['Sex_bin'] = df['gender']\n",
        "df = df.replace({'Sex_bin': {'Male': 0, 'Female': 1}})\n",
        "df.head(4)"
      ]
    },
    {
      "cell_type": "code",
      "execution_count": 36,
      "id": "cb81f16a",
      "metadata": {
        "execution": {
          "iopub.execute_input": "2021-12-25T17:59:10.175721Z",
          "iopub.status.busy": "2021-12-25T17:59:10.174986Z",
          "iopub.status.idle": "2021-12-25T17:59:10.180555Z",
          "shell.execute_reply": "2021-12-25T17:59:10.181213Z",
          "shell.execute_reply.started": "2021-12-25T17:40:52.808050Z"
        },
        "papermill": {
          "duration": 0.157381,
          "end_time": "2021-12-25T17:59:10.181536",
          "exception": false,
          "start_time": "2021-12-25T17:59:10.024155",
          "status": "completed"
        },
        "tags": [],
        "id": "cb81f16a"
      },
      "outputs": [],
      "source": [
        "# delete this columns\n",
        "df.drop(['gender'], axis=1,inplace=True)\n"
      ]
    },
    {
      "cell_type": "markdown",
      "id": "4e2d9be5",
      "metadata": {
        "papermill": {
          "duration": 0.148074,
          "end_time": "2021-12-25T17:59:10.478059",
          "exception": false,
          "start_time": "2021-12-25T17:59:10.329985",
          "status": "completed"
        },
        "tags": [],
        "id": "4e2d9be5"
      },
      "source": [
        "### Relevent_experience"
      ]
    },
    {
      "cell_type": "code",
      "execution_count": 37,
      "id": "37e0cc31",
      "metadata": {
        "execution": {
          "iopub.execute_input": "2021-12-25T17:59:10.774737Z",
          "iopub.status.busy": "2021-12-25T17:59:10.774050Z",
          "iopub.status.idle": "2021-12-25T17:59:11.005321Z",
          "shell.execute_reply": "2021-12-25T17:59:11.004629Z",
          "shell.execute_reply.started": "2021-12-25T17:40:52.818058Z"
        },
        "papermill": {
          "duration": 0.380768,
          "end_time": "2021-12-25T17:59:11.005476",
          "exception": false,
          "start_time": "2021-12-25T17:59:10.624708",
          "status": "completed"
        },
        "tags": [],
        "colab": {
          "base_uri": "https://localhost:8080/",
          "height": 297
        },
        "id": "37e0cc31",
        "outputId": "1995ace0-7c38-42c4-b96a-55e56ad358bc"
      },
      "outputs": [
        {
          "output_type": "execute_result",
          "data": {
            "text/plain": [
              "<matplotlib.axes._subplots.AxesSubplot at 0x7f99defa5990>"
            ]
          },
          "metadata": {},
          "execution_count": 37
        },
        {
          "output_type": "display_data",
          "data": {
            "image/png": "[encoded data removed]",
            "text/plain": [
              "<Figure size 432x288 with 1 Axes>"
            ]
          },
          "metadata": {
            "needs_background": "light"
          }
        }
      ],
      "source": [
        "# check values\n",
        "sns.countplot(x=df.relevent_experience)\n"
      ]
    },
    {
      "cell_type": "code",
      "execution_count": 38,
      "id": "af8dc476",
      "metadata": {
        "execution": {
          "iopub.execute_input": "2021-12-25T17:59:11.320660Z",
          "iopub.status.busy": "2021-12-25T17:59:11.319937Z",
          "iopub.status.idle": "2021-12-25T17:59:11.569684Z",
          "shell.execute_reply": "2021-12-25T17:59:11.569104Z",
          "shell.execute_reply.started": "2021-12-25T17:40:53.011964Z"
        },
        "papermill": {
          "duration": 0.415452,
          "end_time": "2021-12-25T17:59:11.569844",
          "exception": false,
          "start_time": "2021-12-25T17:59:11.154392",
          "status": "completed"
        },
        "tags": [],
        "colab": {
          "base_uri": "https://localhost:8080/",
          "height": 297
        },
        "id": "af8dc476",
        "outputId": "2dd3941f-3ab0-46f2-967b-19c7ea8fd832"
      },
      "outputs": [
        {
          "output_type": "execute_result",
          "data": {
            "text/plain": [
              "<matplotlib.axes._subplots.AxesSubplot at 0x7f99def177d0>"
            ]
          },
          "metadata": {},
          "execution_count": 38
        },
        {
          "output_type": "display_data",
          "data": {
            "image/png": "[encoded data removed]",
            "text/plain": [
              "<Figure size 432x288 with 1 Axes>"
            ]
          },
          "metadata": {
            "needs_background": "light"
          }
        }
      ],
      "source": [
        "# compare with target\n",
        "sns.countplot(x=df.relevent_experience, hue=df.target, palette='flare', dodge=False) "
      ]
    },
    {
      "cell_type": "code",
      "execution_count": 39,
      "id": "a70c5e67",
      "metadata": {
        "execution": {
          "iopub.execute_input": "2021-12-25T17:59:11.877085Z",
          "iopub.status.busy": "2021-12-25T17:59:11.876428Z",
          "iopub.status.idle": "2021-12-25T17:59:11.903484Z",
          "shell.execute_reply": "2021-12-25T17:59:11.904023Z",
          "shell.execute_reply.started": "2021-12-25T17:40:53.229451Z"
        },
        "papermill": {
          "duration": 0.184352,
          "end_time": "2021-12-25T17:59:11.904226",
          "exception": false,
          "start_time": "2021-12-25T17:59:11.719874",
          "status": "completed"
        },
        "tags": [],
        "colab": {
          "base_uri": "https://localhost:8080/",
          "height": 143
        },
        "id": "a70c5e67",
        "outputId": "d865bb2e-b521-457c-8a91-c63ebc4857bb"
      },
      "outputs": [
        {
          "output_type": "execute_result",
          "data": {
            "text/html": [
              "\n",
              "  <div id=\"df-9c3ec31f-bc1f-4f21-b304-b53d45c8fd27\">\n",
              "    <div class=\"colab-df-container\">\n",
              "      <div>\n",
              "<style scoped>\n",
              "    .dataframe tbody tr th:only-of-type {\n",
              "        vertical-align: middle;\n",
              "    }\n",
              "\n",
              "    .dataframe tbody tr th {\n",
              "        vertical-align: top;\n",
              "    }\n",
              "\n",
              "    .dataframe thead th {\n",
              "        text-align: right;\n",
              "    }\n",
              "</style>\n",
              "<table border=\"1\" class=\"dataframe\">\n",
              "  <thead>\n",
              "    <tr style=\"text-align: right;\">\n",
              "      <th>Sex_bin</th>\n",
              "      <th>0</th>\n",
              "      <th>1</th>\n",
              "    </tr>\n",
              "    <tr>\n",
              "      <th>relevent_experience</th>\n",
              "      <th></th>\n",
              "      <th></th>\n",
              "    </tr>\n",
              "  </thead>\n",
              "  <tbody>\n",
              "    <tr>\n",
              "      <th>Has relevent experience</th>\n",
              "      <td>73.575163</td>\n",
              "      <td>65.293315</td>\n",
              "    </tr>\n",
              "    <tr>\n",
              "      <th>No relevent experience</th>\n",
              "      <td>26.424837</td>\n",
              "      <td>34.706685</td>\n",
              "    </tr>\n",
              "  </tbody>\n",
              "</table>\n",
              "</div>\n",
              "      <button class=\"colab-df-convert\" onclick=\"convertToInteractive('df-9c3ec31f-bc1f-4f21-b304-b53d45c8fd27')\"\n",
              "              title=\"Convert this dataframe to an interactive table.\"\n",
              "              style=\"display:none;\">\n",
              "        \n",
              "  <svg xmlns=\"http://www.w3.org/2000/svg\" height=\"24px\"viewBox=\"0 0 24 24\"\n",
              "       width=\"24px\">\n",
              "    <path d=\"M0 0h24v24H0V0z\" fill=\"none\"/>\n",
              "    <path d=\"M18.56 5.44l.94 2.06.94-2.06 2.06-.94-2.06-.94-.94-2.06-.94 2.06-2.06.94zm-11 1L8.5 8.5l.94-2.06 2.06-.94-2.06-.94L8.5 2.5l-.94 2.06-2.06.94zm10 10l.94 2.06.94-2.06 2.06-.94-2.06-.94-.94-2.06-.94 2.06-2.06.94z\"/><path d=\"M17.41 7.96l-1.37-1.37c-.4-.4-.92-.59-1.43-.59-.52 0-1.04.2-1.43.59L10.3 9.45l-7.72 7.72c-.78.78-.78 2.05 0 2.83L4 21.41c.39.39.9.59 1.41.59.51 0 1.02-.2 1.41-.59l7.78-7.78 2.81-2.81c.8-.78.8-2.07 0-2.86zM5.41 20L4 18.59l7.72-7.72 1.47 1.35L5.41 20z\"/>\n",
              "  </svg>\n",
              "      </button>\n",
              "      \n",
              "  <style>\n",
              "    .colab-df-container {\n",
              "      display:flex;\n",
              "      flex-wrap:wrap;\n",
              "      gap: 12px;\n",
              "    }\n",
              "\n",
              "    .colab-df-convert {\n",
              "      background-color: #E8F0FE;\n",
              "      border: none;\n",
              "      border-radius: 50%;\n",
              "      cursor: pointer;\n",
              "      display: none;\n",
              "      fill: #1967D2;\n",
              "      height: 32px;\n",
              "      padding: 0 0 0 0;\n",
              "      width: 32px;\n",
              "    }\n",
              "\n",
              "    .colab-df-convert:hover {\n",
              "      background-color: #E2EBFA;\n",
              "      box-shadow: 0px 1px 2px rgba(60, 64, 67, 0.3), 0px 1px 3px 1px rgba(60, 64, 67, 0.15);\n",
              "      fill: #174EA6;\n",
              "    }\n",
              "\n",
              "    [theme=dark] .colab-df-convert {\n",
              "      background-color: #3B4455;\n",
              "      fill: #D2E3FC;\n",
              "    }\n",
              "\n",
              "    [theme=dark] .colab-df-convert:hover {\n",
              "      background-color: #434B5C;\n",
              "      box-shadow: 0px 1px 3px 1px rgba(0, 0, 0, 0.15);\n",
              "      filter: drop-shadow(0px 1px 2px rgba(0, 0, 0, 0.3));\n",
              "      fill: #FFFFFF;\n",
              "    }\n",
              "  </style>\n",
              "\n",
              "      <script>\n",
              "        const buttonEl =\n",
              "          document.querySelector('#df-9c3ec31f-bc1f-4f21-b304-b53d45c8fd27 button.colab-df-convert');\n",
              "        buttonEl.style.display =\n",
              "          google.colab.kernel.accessAllowed ? 'block' : 'none';\n",
              "\n",
              "        async function convertToInteractive(key) {\n",
              "          const element = document.querySelector('#df-9c3ec31f-bc1f-4f21-b304-b53d45c8fd27');\n",
              "          const dataTable =\n",
              "            await google.colab.kernel.invokeFunction('convertToInteractive',\n",
              "                                                     [key], {});\n",
              "          if (!dataTable) return;\n",
              "\n",
              "          const docLinkHtml = 'Like what you see? Visit the ' +\n",
              "            '<a target=\"_blank\" href=https://colab.research.google.com/notebooks/data_table.ipynb>data table notebook</a>'\n",
              "            + ' to learn more about interactive tables.';\n",
              "          element.innerHTML = '';\n",
              "          dataTable['output_type'] = 'display_data';\n",
              "          await google.colab.output.renderOutput(dataTable, element);\n",
              "          const docLink = document.createElement('div');\n",
              "          docLink.innerHTML = docLinkHtml;\n",
              "          element.appendChild(docLink);\n",
              "        }\n",
              "      </script>\n",
              "    </div>\n",
              "  </div>\n",
              "  "
            ],
            "text/plain": [
              "Sex_bin                          0          1\n",
              "relevent_experience                          \n",
              "Has relevent experience  73.575163  65.293315\n",
              "No relevent experience   26.424837  34.706685"
            ]
          },
          "metadata": {},
          "execution_count": 39
        }
      ],
      "source": [
        "# compare with gender\n",
        "pd.crosstab(df['relevent_experience'], df['Sex_bin'], margins=False).apply(lambda r:(r/r.sum())*100, axis=0)\n"
      ]
    },
    {
      "cell_type": "code",
      "execution_count": 40,
      "id": "539f6925",
      "metadata": {
        "execution": {
          "iopub.execute_input": "2021-12-25T17:59:12.208518Z",
          "iopub.status.busy": "2021-12-25T17:59:12.207466Z",
          "iopub.status.idle": "2021-12-25T17:59:12.231366Z",
          "shell.execute_reply": "2021-12-25T17:59:12.231959Z",
          "shell.execute_reply.started": "2021-12-25T17:40:53.259371Z"
        },
        "papermill": {
          "duration": 0.178537,
          "end_time": "2021-12-25T17:59:12.232156",
          "exception": false,
          "start_time": "2021-12-25T17:59:12.053619",
          "status": "completed"
        },
        "tags": [],
        "id": "539f6925"
      },
      "outputs": [],
      "source": [
        "# Binarize Relevent_ experience\n",
        "df['relev_exp_bin'] = df['relevent_experience']\n",
        "df = df.replace({'relev_exp_bin': {'Has relevent experience': 1, 'No relevent experience': 0}})"
      ]
    },
    {
      "cell_type": "code",
      "execution_count": 41,
      "id": "1c2cd93f",
      "metadata": {
        "execution": {
          "iopub.execute_input": "2021-12-25T17:59:12.539227Z",
          "iopub.status.busy": "2021-12-25T17:59:12.538180Z",
          "iopub.status.idle": "2021-12-25T17:59:12.545096Z",
          "shell.execute_reply": "2021-12-25T17:59:12.545666Z",
          "shell.execute_reply.started": "2021-12-25T17:40:53.280827Z"
        },
        "papermill": {
          "duration": 0.164028,
          "end_time": "2021-12-25T17:59:12.545851",
          "exception": false,
          "start_time": "2021-12-25T17:59:12.381823",
          "status": "completed"
        },
        "tags": [],
        "id": "1c2cd93f"
      },
      "outputs": [],
      "source": [
        "# delete this features\n",
        "df.drop(['relevent_experience'], axis=1,inplace=True)\n"
      ]
    },
    {
      "cell_type": "markdown",
      "id": "1ac87193",
      "metadata": {
        "papermill": {
          "duration": 0.15056,
          "end_time": "2021-12-25T17:59:12.847374",
          "exception": false,
          "start_time": "2021-12-25T17:59:12.696814",
          "status": "completed"
        },
        "tags": [],
        "id": "1ac87193"
      },
      "source": [
        "### education_level"
      ]
    },
    {
      "cell_type": "code",
      "execution_count": 42,
      "id": "e37306e2",
      "metadata": {
        "execution": {
          "iopub.execute_input": "2021-12-25T17:59:13.160358Z",
          "iopub.status.busy": "2021-12-25T17:59:13.159529Z",
          "iopub.status.idle": "2021-12-25T17:59:13.162955Z",
          "shell.execute_reply": "2021-12-25T17:59:13.163509Z",
          "shell.execute_reply.started": "2021-12-25T17:40:53.288821Z"
        },
        "papermill": {
          "duration": 0.163929,
          "end_time": "2021-12-25T17:59:13.163698",
          "exception": false,
          "start_time": "2021-12-25T17:59:12.999769",
          "status": "completed"
        },
        "tags": [],
        "colab": {
          "base_uri": "https://localhost:8080/"
        },
        "id": "e37306e2",
        "outputId": "704e94b8-91cf-4ce9-f61e-e99fb07532ff"
      },
      "outputs": [
        {
          "output_type": "execute_result",
          "data": {
            "text/plain": [
              "460"
            ]
          },
          "metadata": {},
          "execution_count": 42
        }
      ],
      "source": [
        "# Missin values\n",
        "df['education_level'].isna().sum()\n"
      ]
    },
    {
      "cell_type": "code",
      "execution_count": 43,
      "id": "07216588",
      "metadata": {
        "execution": {
          "iopub.execute_input": "2021-12-25T17:59:13.470364Z",
          "iopub.status.busy": "2021-12-25T17:59:13.469294Z",
          "iopub.status.idle": "2021-12-25T17:59:13.476539Z",
          "shell.execute_reply": "2021-12-25T17:59:13.475981Z",
          "shell.execute_reply.started": "2021-12-25T17:40:53.303475Z"
        },
        "papermill": {
          "duration": 0.160716,
          "end_time": "2021-12-25T17:59:13.476703",
          "exception": false,
          "start_time": "2021-12-25T17:59:13.315987",
          "status": "completed"
        },
        "tags": [],
        "id": "07216588"
      },
      "outputs": [],
      "source": [
        "# filling missing values\n",
        "df['education_level'].fillna('High School', inplace=True)"
      ]
    },
    {
      "cell_type": "code",
      "execution_count": 44,
      "id": "993913d2",
      "metadata": {
        "execution": {
          "iopub.execute_input": "2021-12-25T17:59:13.806606Z",
          "iopub.status.busy": "2021-12-25T17:59:13.805460Z",
          "iopub.status.idle": "2021-12-25T17:59:13.974096Z",
          "shell.execute_reply": "2021-12-25T17:59:13.974676Z",
          "shell.execute_reply.started": "2021-12-25T17:40:53.313791Z"
        },
        "papermill": {
          "duration": 0.348877,
          "end_time": "2021-12-25T17:59:13.974861",
          "exception": false,
          "start_time": "2021-12-25T17:59:13.625984",
          "status": "completed"
        },
        "tags": [],
        "colab": {
          "base_uri": "https://localhost:8080/",
          "height": 482
        },
        "id": "993913d2",
        "outputId": "b9b088e9-19cf-4042-a158-de832cf3f59b"
      },
      "outputs": [
        {
          "output_type": "display_data",
          "data": {
            "image/png": "[encoded data removed]",
            "text/plain": [
              "<Figure size 576x576 with 1 Axes>"
            ]
          },
          "metadata": {}
        }
      ],
      "source": [
        "# visualize data\n",
        "labels = list(df[\"education_level\"].value_counts().index)\n",
        "values = list(df[\"education_level\"].value_counts().values)\n",
        "\n",
        "plt.figure(figsize=(8,8))\n",
        "plt.pie(values, labels=labels, autopct=\"%1.1f%%\",\n",
        "        colors=[\"#7fcc00\", \"#ff3a33\", \"#f7ff66\", \"#3339ff\", \"#99ffa9\"],\n",
        "        shadow=True, explode = [0.03, 0.03, 0.03, 0.03, 0.03],\n",
        "        startangle=270)\n",
        "plt.title(\"Education Level\");"
      ]
    },
    {
      "cell_type": "code",
      "execution_count": 45,
      "id": "335c7920",
      "metadata": {
        "execution": {
          "iopub.execute_input": "2021-12-25T17:59:14.319113Z",
          "iopub.status.busy": "2021-12-25T17:59:14.318110Z",
          "iopub.status.idle": "2021-12-25T17:59:14.658483Z",
          "shell.execute_reply": "2021-12-25T17:59:14.659144Z",
          "shell.execute_reply.started": "2021-12-25T17:40:53.473663Z"
        },
        "papermill": {
          "duration": 0.533661,
          "end_time": "2021-12-25T17:59:14.659346",
          "exception": false,
          "start_time": "2021-12-25T17:59:14.125685",
          "status": "completed"
        },
        "tags": [],
        "colab": {
          "base_uri": "https://localhost:8080/",
          "height": 387
        },
        "id": "335c7920",
        "outputId": "a0fbf092-cb8a-4b9d-fa86-da8d98fc0562"
      },
      "outputs": [
        {
          "output_type": "execute_result",
          "data": {
            "text/plain": [
              "<seaborn.axisgrid.FacetGrid at 0x7f99def9e090>"
            ]
          },
          "metadata": {},
          "execution_count": 45
        },
        {
          "output_type": "display_data",
          "data": {
            "image/png": "[encoded data removed]",
            "text/plain": [
              "<Figure size 360x360 with 1 Axes>"
            ]
          },
          "metadata": {
            "needs_background": "light"
          }
        }
      ],
      "source": [
        "# compare this feature with target\n",
        "sns.catplot(x=\"education_level\", y=\"target\", data=df, kind=\"bar\", ci=None)"
      ]
    },
    {
      "cell_type": "markdown",
      "id": "9cf72e28",
      "metadata": {
        "papermill": {
          "duration": 0.152284,
          "end_time": "2021-12-25T17:59:14.964018",
          "exception": false,
          "start_time": "2021-12-25T17:59:14.811734",
          "status": "completed"
        },
        "tags": [],
        "id": "9cf72e28"
      },
      "source": [
        "### enrolled_university"
      ]
    },
    {
      "cell_type": "code",
      "execution_count": 46,
      "id": "9c255c5d",
      "metadata": {
        "execution": {
          "iopub.execute_input": "2021-12-25T17:59:15.278045Z",
          "iopub.status.busy": "2021-12-25T17:59:15.276966Z",
          "iopub.status.idle": "2021-12-25T17:59:15.520815Z",
          "shell.execute_reply": "2021-12-25T17:59:15.519880Z",
          "shell.execute_reply.started": "2021-12-25T17:40:53.750928Z"
        },
        "papermill": {
          "duration": 0.401592,
          "end_time": "2021-12-25T17:59:15.520973",
          "exception": false,
          "start_time": "2021-12-25T17:59:15.119381",
          "status": "completed"
        },
        "tags": [],
        "colab": {
          "base_uri": "https://localhost:8080/",
          "height": 297
        },
        "id": "9c255c5d",
        "outputId": "0ba920ca-a71f-4fc5-ba0b-ddb2e94a40b7"
      },
      "outputs": [
        {
          "output_type": "execute_result",
          "data": {
            "text/plain": [
              "<matplotlib.axes._subplots.AxesSubplot at 0x7f99df0e3610>"
            ]
          },
          "metadata": {},
          "execution_count": 46
        },
        {
          "output_type": "display_data",
          "data": {
            "image/png": "[encoded data removed]",
            "text/plain": [
              "<Figure size 432x288 with 1 Axes>"
            ]
          },
          "metadata": {
            "needs_background": "light"
          }
        }
      ],
      "source": [
        "# check values\n",
        "sns.countplot(y= df['enrolled_university'], palette=\"Blues\")\n"
      ]
    },
    {
      "cell_type": "code",
      "execution_count": 47,
      "id": "5eefde57",
      "metadata": {
        "execution": {
          "iopub.execute_input": "2021-12-25T17:59:15.831097Z",
          "iopub.status.busy": "2021-12-25T17:59:15.830456Z",
          "iopub.status.idle": "2021-12-25T17:59:15.836109Z",
          "shell.execute_reply": "2021-12-25T17:59:15.836802Z",
          "shell.execute_reply.started": "2021-12-25T17:40:53.953282Z"
        },
        "papermill": {
          "duration": 0.163273,
          "end_time": "2021-12-25T17:59:15.836981",
          "exception": false,
          "start_time": "2021-12-25T17:59:15.673708",
          "status": "completed"
        },
        "tags": [],
        "id": "5eefde57"
      },
      "outputs": [],
      "source": [
        "df.drop(['enrolled_university'],axis=1,inplace=True) \n",
        "# delete this columns because is not useful"
      ]
    },
    {
      "cell_type": "markdown",
      "id": "f795c88a",
      "metadata": {
        "papermill": {
          "duration": 0.155269,
          "end_time": "2021-12-25T17:59:16.145552",
          "exception": false,
          "start_time": "2021-12-25T17:59:15.990283",
          "status": "completed"
        },
        "tags": [],
        "id": "f795c88a"
      },
      "source": [
        "### major_discipline"
      ]
    },
    {
      "cell_type": "code",
      "execution_count": 48,
      "id": "9c10de8d",
      "metadata": {
        "execution": {
          "iopub.execute_input": "2021-12-25T17:59:16.478910Z",
          "iopub.status.busy": "2021-12-25T17:59:16.478180Z",
          "iopub.status.idle": "2021-12-25T17:59:16.721590Z",
          "shell.execute_reply": "2021-12-25T17:59:16.720919Z",
          "shell.execute_reply.started": "2021-12-25T17:40:53.960480Z"
        },
        "papermill": {
          "duration": 0.422427,
          "end_time": "2021-12-25T17:59:16.721740",
          "exception": false,
          "start_time": "2021-12-25T17:59:16.299313",
          "status": "completed"
        },
        "tags": [],
        "colab": {
          "base_uri": "https://localhost:8080/",
          "height": 297
        },
        "id": "9c10de8d",
        "outputId": "d048b9aa-43ae-49f2-fd7d-4150b7643ec8"
      },
      "outputs": [
        {
          "output_type": "execute_result",
          "data": {
            "text/plain": [
              "<matplotlib.axes._subplots.AxesSubplot at 0x7f99deef6190>"
            ]
          },
          "metadata": {},
          "execution_count": 48
        },
        {
          "output_type": "display_data",
          "data": {
            "image/png": "[encoded data removed]",
            "text/plain": [
              "<Figure size 432x288 with 1 Axes>"
            ]
          },
          "metadata": {
            "needs_background": "light"
          }
        }
      ],
      "source": [
        "# check values\n",
        "sns.countplot(x=df.major_discipline, palette=\"Set3\")"
      ]
    },
    {
      "cell_type": "code",
      "execution_count": 49,
      "id": "ffc18254",
      "metadata": {
        "execution": {
          "iopub.execute_input": "2021-12-25T17:59:17.043053Z",
          "iopub.status.busy": "2021-12-25T17:59:17.042368Z",
          "iopub.status.idle": "2021-12-25T17:59:17.062028Z",
          "shell.execute_reply": "2021-12-25T17:59:17.062610Z",
          "shell.execute_reply.started": "2021-12-25T17:40:54.186481Z"
        },
        "papermill": {
          "duration": 0.186001,
          "end_time": "2021-12-25T17:59:17.062810",
          "exception": false,
          "start_time": "2021-12-25T17:59:16.876809",
          "status": "completed"
        },
        "tags": [],
        "colab": {
          "base_uri": "https://localhost:8080/",
          "height": 235
        },
        "id": "ffc18254",
        "outputId": "3fff89e6-6d22-47f2-af83-767465c5d9db"
      },
      "outputs": [
        {
          "output_type": "execute_result",
          "data": {
            "text/html": [
              "\n",
              "  <div id=\"df-a702d9bb-73ba-45a3-971a-b51f56992b72\">\n",
              "    <div class=\"colab-df-container\">\n",
              "      <div>\n",
              "<style scoped>\n",
              "    .dataframe tbody tr th:only-of-type {\n",
              "        vertical-align: middle;\n",
              "    }\n",
              "\n",
              "    .dataframe tbody tr th {\n",
              "        vertical-align: top;\n",
              "    }\n",
              "\n",
              "    .dataframe thead th {\n",
              "        text-align: right;\n",
              "    }\n",
              "</style>\n",
              "<table border=\"1\" class=\"dataframe\">\n",
              "  <thead>\n",
              "    <tr style=\"text-align: right;\">\n",
              "      <th>target</th>\n",
              "      <th>0.0</th>\n",
              "      <th>1.0</th>\n",
              "    </tr>\n",
              "    <tr>\n",
              "      <th>major_discipline</th>\n",
              "      <th></th>\n",
              "      <th></th>\n",
              "    </tr>\n",
              "  </thead>\n",
              "  <tbody>\n",
              "    <tr>\n",
              "      <th>Arts</th>\n",
              "      <td>1.650574</td>\n",
              "      <td>1.253548</td>\n",
              "    </tr>\n",
              "    <tr>\n",
              "      <th>Business Degree</th>\n",
              "      <td>1.988941</td>\n",
              "      <td>2.034059</td>\n",
              "    </tr>\n",
              "    <tr>\n",
              "      <th>Humanities</th>\n",
              "      <td>4.357514</td>\n",
              "      <td>3.334910</td>\n",
              "    </tr>\n",
              "    <tr>\n",
              "      <th>No Major</th>\n",
              "      <td>1.386482</td>\n",
              "      <td>1.300851</td>\n",
              "    </tr>\n",
              "    <tr>\n",
              "      <th>Other</th>\n",
              "      <td>2.302550</td>\n",
              "      <td>2.412488</td>\n",
              "    </tr>\n",
              "    <tr>\n",
              "      <th>STEM</th>\n",
              "      <td>88.313939</td>\n",
              "      <td>89.664144</td>\n",
              "    </tr>\n",
              "  </tbody>\n",
              "</table>\n",
              "</div>\n",
              "      <button class=\"colab-df-convert\" onclick=\"convertToInteractive('df-a702d9bb-73ba-45a3-971a-b51f56992b72')\"\n",
              "              title=\"Convert this dataframe to an interactive table.\"\n",
              "              style=\"display:none;\">\n",
              "        \n",
              "  <svg xmlns=\"http://www.w3.org/2000/svg\" height=\"24px\"viewBox=\"0 0 24 24\"\n",
              "       width=\"24px\">\n",
              "    <path d=\"M0 0h24v24H0V0z\" fill=\"none\"/>\n",
              "    <path d=\"M18.56 5.44l.94 2.06.94-2.06 2.06-.94-2.06-.94-.94-2.06-.94 2.06-2.06.94zm-11 1L8.5 8.5l.94-2.06 2.06-.94-2.06-.94L8.5 2.5l-.94 2.06-2.06.94zm10 10l.94 2.06.94-2.06 2.06-.94-2.06-.94-.94-2.06-.94 2.06-2.06.94z\"/><path d=\"M17.41 7.96l-1.37-1.37c-.4-.4-.92-.59-1.43-.59-.52 0-1.04.2-1.43.59L10.3 9.45l-7.72 7.72c-.78.78-.78 2.05 0 2.83L4 21.41c.39.39.9.59 1.41.59.51 0 1.02-.2 1.41-.59l7.78-7.78 2.81-2.81c.8-.78.8-2.07 0-2.86zM5.41 20L4 18.59l7.72-7.72 1.47 1.35L5.41 20z\"/>\n",
              "  </svg>\n",
              "      </button>\n",
              "      \n",
              "  <style>\n",
              "    .colab-df-container {\n",
              "      display:flex;\n",
              "      flex-wrap:wrap;\n",
              "      gap: 12px;\n",
              "    }\n",
              "\n",
              "    .colab-df-convert {\n",
              "      background-color: #E8F0FE;\n",
              "      border: none;\n",
              "      border-radius: 50%;\n",
              "      cursor: pointer;\n",
              "      display: none;\n",
              "      fill: #1967D2;\n",
              "      height: 32px;\n",
              "      padding: 0 0 0 0;\n",
              "      width: 32px;\n",
              "    }\n",
              "\n",
              "    .colab-df-convert:hover {\n",
              "      background-color: #E2EBFA;\n",
              "      box-shadow: 0px 1px 2px rgba(60, 64, 67, 0.3), 0px 1px 3px 1px rgba(60, 64, 67, 0.15);\n",
              "      fill: #174EA6;\n",
              "    }\n",
              "\n",
              "    [theme=dark] .colab-df-convert {\n",
              "      background-color: #3B4455;\n",
              "      fill: #D2E3FC;\n",
              "    }\n",
              "\n",
              "    [theme=dark] .colab-df-convert:hover {\n",
              "      background-color: #434B5C;\n",
              "      box-shadow: 0px 1px 3px 1px rgba(0, 0, 0, 0.15);\n",
              "      filter: drop-shadow(0px 1px 2px rgba(0, 0, 0, 0.3));\n",
              "      fill: #FFFFFF;\n",
              "    }\n",
              "  </style>\n",
              "\n",
              "      <script>\n",
              "        const buttonEl =\n",
              "          document.querySelector('#df-a702d9bb-73ba-45a3-971a-b51f56992b72 button.colab-df-convert');\n",
              "        buttonEl.style.display =\n",
              "          google.colab.kernel.accessAllowed ? 'block' : 'none';\n",
              "\n",
              "        async function convertToInteractive(key) {\n",
              "          const element = document.querySelector('#df-a702d9bb-73ba-45a3-971a-b51f56992b72');\n",
              "          const dataTable =\n",
              "            await google.colab.kernel.invokeFunction('convertToInteractive',\n",
              "                                                     [key], {});\n",
              "          if (!dataTable) return;\n",
              "\n",
              "          const docLinkHtml = 'Like what you see? Visit the ' +\n",
              "            '<a target=\"_blank\" href=https://colab.research.google.com/notebooks/data_table.ipynb>data table notebook</a>'\n",
              "            + ' to learn more about interactive tables.';\n",
              "          element.innerHTML = '';\n",
              "          dataTable['output_type'] = 'display_data';\n",
              "          await google.colab.output.renderOutput(dataTable, element);\n",
              "          const docLink = document.createElement('div');\n",
              "          docLink.innerHTML = docLinkHtml;\n",
              "          element.appendChild(docLink);\n",
              "        }\n",
              "      </script>\n",
              "    </div>\n",
              "  </div>\n",
              "  "
            ],
            "text/plain": [
              "target                  0.0        1.0\n",
              "major_discipline                      \n",
              "Arts               1.650574   1.253548\n",
              "Business Degree    1.988941   2.034059\n",
              "Humanities         4.357514   3.334910\n",
              "No Major           1.386482   1.300851\n",
              "Other              2.302550   2.412488\n",
              "STEM              88.313939  89.664144"
            ]
          },
          "metadata": {},
          "execution_count": 49
        }
      ],
      "source": [
        "# compare this features with target\n",
        "pd.crosstab(df['major_discipline'], df['target'], margins=False).apply(lambda r:(r/r.sum())*100, axis=0)"
      ]
    },
    {
      "cell_type": "code",
      "execution_count": 50,
      "id": "b4326c1f",
      "metadata": {
        "execution": {
          "iopub.execute_input": "2021-12-25T17:59:17.398867Z",
          "iopub.status.busy": "2021-12-25T17:59:17.376385Z",
          "iopub.status.idle": "2021-12-25T17:59:17.739364Z",
          "shell.execute_reply": "2021-12-25T17:59:17.739965Z",
          "shell.execute_reply.started": "2021-12-25T17:40:54.212361Z"
        },
        "papermill": {
          "duration": 0.521844,
          "end_time": "2021-12-25T17:59:17.740154",
          "exception": false,
          "start_time": "2021-12-25T17:59:17.218310",
          "status": "completed"
        },
        "tags": [],
        "colab": {
          "base_uri": "https://localhost:8080/",
          "height": 353
        },
        "id": "b4326c1f",
        "outputId": "254142f1-5870-4d95-bb42-e5ecc044b5cc"
      },
      "outputs": [
        {
          "output_type": "execute_result",
          "data": {
            "text/plain": [
              "<Figure size 576x360 with 0 Axes>"
            ]
          },
          "metadata": {},
          "execution_count": 50
        },
        {
          "output_type": "execute_result",
          "data": {
            "text/plain": [
              "<matplotlib.axes._subplots.AxesSubplot at 0x7f99ded90d50>"
            ]
          },
          "metadata": {},
          "execution_count": 50
        },
        {
          "output_type": "display_data",
          "data": {
            "image/png": "[encoded data removed]",
            "text/plain": [
              "<Figure size 576x360 with 1 Axes>"
            ]
          },
          "metadata": {
            "needs_background": "light"
          }
        }
      ],
      "source": [
        "# visualize this feature with target.\n",
        "plt.figure(figsize=(8, 5))\n",
        "sns.set_style('whitegrid')\n",
        "sns.countplot(x = 'major_discipline',hue='target',data=df)"
      ]
    },
    {
      "cell_type": "code",
      "execution_count": 51,
      "id": "e613e122",
      "metadata": {
        "execution": {
          "iopub.execute_input": "2021-12-25T17:59:18.061282Z",
          "iopub.status.busy": "2021-12-25T17:59:18.060577Z",
          "iopub.status.idle": "2021-12-25T17:59:18.064037Z",
          "shell.execute_reply": "2021-12-25T17:59:18.063505Z",
          "shell.execute_reply.started": "2021-12-25T17:40:54.513912Z"
        },
        "papermill": {
          "duration": 0.167699,
          "end_time": "2021-12-25T17:59:18.064248",
          "exception": false,
          "start_time": "2021-12-25T17:59:17.896549",
          "status": "completed"
        },
        "tags": [],
        "id": "e613e122"
      },
      "outputs": [],
      "source": [
        "# delete this feature, is note very helpful\n",
        "df.drop(['major_discipline'], axis=1,inplace=True)\n"
      ]
    },
    {
      "cell_type": "markdown",
      "id": "10d90a18",
      "metadata": {
        "papermill": {
          "duration": 0.157151,
          "end_time": "2021-12-25T17:59:18.376085",
          "exception": false,
          "start_time": "2021-12-25T17:59:18.218934",
          "status": "completed"
        },
        "tags": [],
        "id": "10d90a18"
      },
      "source": [
        "### Experience"
      ]
    },
    {
      "cell_type": "code",
      "execution_count": 52,
      "id": "06564014",
      "metadata": {
        "execution": {
          "iopub.execute_input": "2021-12-25T17:59:18.697003Z",
          "iopub.status.busy": "2021-12-25T17:59:18.696279Z",
          "iopub.status.idle": "2021-12-25T17:59:18.700904Z",
          "shell.execute_reply": "2021-12-25T17:59:18.700352Z",
          "shell.execute_reply.started": "2021-12-25T17:40:54.522485Z"
        },
        "papermill": {
          "duration": 0.16834,
          "end_time": "2021-12-25T17:59:18.701060",
          "exception": false,
          "start_time": "2021-12-25T17:59:18.532720",
          "status": "completed"
        },
        "tags": [],
        "colab": {
          "base_uri": "https://localhost:8080/"
        },
        "id": "06564014",
        "outputId": "860347e5-2b10-40a3-80ce-2620be790b73"
      },
      "outputs": [
        {
          "output_type": "execute_result",
          "data": {
            "text/plain": [
              "65"
            ]
          },
          "metadata": {},
          "execution_count": 52
        }
      ],
      "source": [
        "# missing values\n",
        "df['experience'].isna().sum()"
      ]
    },
    {
      "cell_type": "code",
      "execution_count": 53,
      "id": "344af52d",
      "metadata": {
        "execution": {
          "iopub.execute_input": "2021-12-25T17:59:19.027902Z",
          "iopub.status.busy": "2021-12-25T17:59:19.026976Z",
          "iopub.status.idle": "2021-12-25T17:59:19.030274Z",
          "shell.execute_reply": "2021-12-25T17:59:19.029655Z",
          "shell.execute_reply.started": "2021-12-25T17:40:54.538142Z"
        },
        "papermill": {
          "duration": 0.169362,
          "end_time": "2021-12-25T17:59:19.030457",
          "exception": false,
          "start_time": "2021-12-25T17:59:18.861095",
          "status": "completed"
        },
        "tags": [],
        "id": "344af52d"
      },
      "outputs": [],
      "source": [
        "df['experience'].fillna(\"0\", inplace=True)"
      ]
    },
    {
      "cell_type": "code",
      "execution_count": 54,
      "id": "07b07414",
      "metadata": {
        "execution": {
          "iopub.execute_input": "2021-12-25T17:59:19.356681Z",
          "iopub.status.busy": "2021-12-25T17:59:19.355939Z",
          "iopub.status.idle": "2021-12-25T17:59:19.359114Z",
          "shell.execute_reply": "2021-12-25T17:59:19.359774Z",
          "shell.execute_reply.started": "2021-12-25T17:40:54.551445Z"
        },
        "papermill": {
          "duration": 0.169427,
          "end_time": "2021-12-25T17:59:19.359959",
          "exception": false,
          "start_time": "2021-12-25T17:59:19.190532",
          "status": "completed"
        },
        "tags": [],
        "id": "07b07414"
      },
      "outputs": [],
      "source": [
        "df[\"experience\"].replace({\">20\": \"21\",\"<1\":\"0\"}, inplace=True)"
      ]
    },
    {
      "cell_type": "code",
      "execution_count": 55,
      "id": "c1f1f26d",
      "metadata": {
        "execution": {
          "iopub.execute_input": "2021-12-25T17:59:19.675995Z",
          "iopub.status.busy": "2021-12-25T17:59:19.675290Z",
          "iopub.status.idle": "2021-12-25T17:59:19.695444Z",
          "shell.execute_reply": "2021-12-25T17:59:19.695997Z",
          "shell.execute_reply.started": "2021-12-25T17:40:54.564652Z"
        },
        "papermill": {
          "duration": 0.180008,
          "end_time": "2021-12-25T17:59:19.696198",
          "exception": false,
          "start_time": "2021-12-25T17:59:19.516190",
          "status": "completed"
        },
        "tags": [],
        "id": "c1f1f26d"
      },
      "outputs": [],
      "source": [
        "df[\"experience\"] = pd.to_numeric(df[\"experience\"])"
      ]
    },
    {
      "cell_type": "code",
      "execution_count": 56,
      "id": "da337225",
      "metadata": {
        "execution": {
          "iopub.execute_input": "2021-12-25T17:59:20.012396Z",
          "iopub.status.busy": "2021-12-25T17:59:20.011668Z",
          "iopub.status.idle": "2021-12-25T17:59:20.016016Z",
          "shell.execute_reply": "2021-12-25T17:59:20.016618Z",
          "shell.execute_reply.started": "2021-12-25T17:40:54.585505Z"
        },
        "papermill": {
          "duration": 0.16482,
          "end_time": "2021-12-25T17:59:20.016808",
          "exception": false,
          "start_time": "2021-12-25T17:59:19.851988",
          "status": "completed"
        },
        "tags": [],
        "id": "da337225"
      },
      "outputs": [],
      "source": [
        "df[\"experience\"] = pd.to_numeric(df[\"experience\"])"
      ]
    },
    {
      "cell_type": "code",
      "execution_count": 57,
      "id": "3d329ac7",
      "metadata": {
        "execution": {
          "iopub.execute_input": "2021-12-25T17:59:20.339671Z",
          "iopub.status.busy": "2021-12-25T17:59:20.338619Z",
          "iopub.status.idle": "2021-12-25T17:59:20.344595Z",
          "shell.execute_reply": "2021-12-25T17:59:20.345229Z",
          "shell.execute_reply.started": "2021-12-25T17:40:54.592431Z"
        },
        "papermill": {
          "duration": 0.171558,
          "end_time": "2021-12-25T17:59:20.345425",
          "exception": false,
          "start_time": "2021-12-25T17:59:20.173867",
          "status": "completed"
        },
        "tags": [],
        "colab": {
          "base_uri": "https://localhost:8080/"
        },
        "id": "3d329ac7",
        "outputId": "cada83aa-261e-4dbf-ce92-9b7777db1a43"
      },
      "outputs": [
        {
          "output_type": "execute_result",
          "data": {
            "text/plain": [
              "dtype('int64')"
            ]
          },
          "metadata": {},
          "execution_count": 57
        }
      ],
      "source": [
        "df[\"experience\"].dtypes"
      ]
    },
    {
      "cell_type": "code",
      "execution_count": 58,
      "id": "be9ca141",
      "metadata": {
        "execution": {
          "iopub.execute_input": "2021-12-25T17:59:20.726088Z",
          "iopub.status.busy": "2021-12-25T17:59:20.725025Z",
          "iopub.status.idle": "2021-12-25T17:59:22.197394Z",
          "shell.execute_reply": "2021-12-25T17:59:22.196698Z",
          "shell.execute_reply.started": "2021-12-25T17:40:54.607048Z"
        },
        "papermill": {
          "duration": 1.634071,
          "end_time": "2021-12-25T17:59:22.197552",
          "exception": false,
          "start_time": "2021-12-25T17:59:20.563481",
          "status": "completed"
        },
        "tags": [],
        "colab": {
          "base_uri": "https://localhost:8080/",
          "height": 459
        },
        "id": "be9ca141",
        "outputId": "ce2b9ff3-fb95-4b4b-9229-2e3c6be0314f"
      },
      "outputs": [
        {
          "output_type": "execute_result",
          "data": {
            "text/plain": [
              "<Figure size 1080x504 with 0 Axes>"
            ]
          },
          "metadata": {},
          "execution_count": 58
        },
        {
          "output_type": "execute_result",
          "data": {
            "text/plain": [
              "<matplotlib.axes._subplots.AxesSubplot at 0x7f99deccbb10>"
            ]
          },
          "metadata": {},
          "execution_count": 58
        },
        {
          "output_type": "display_data",
          "data": {
            "image/png": "[encoded data removed]",
            "text/plain": [
              "<Figure size 1080x504 with 1 Axes>"
            ]
          },
          "metadata": {}
        }
      ],
      "source": [
        "# visuealize with target\n",
        "plt.figure(figsize= [15.0, 7.0])\n",
        "sns.barplot(x=\"experience\", y=\"target\", data=df)"
      ]
    },
    {
      "cell_type": "code",
      "execution_count": 59,
      "id": "32537930",
      "metadata": {
        "execution": {
          "iopub.execute_input": "2021-12-25T17:59:22.521447Z",
          "iopub.status.busy": "2021-12-25T17:59:22.520710Z",
          "iopub.status.idle": "2021-12-25T17:59:22.546178Z",
          "shell.execute_reply": "2021-12-25T17:59:22.546758Z",
          "shell.execute_reply.started": "2021-12-25T17:40:55.588628Z"
        },
        "papermill": {
          "duration": 0.190103,
          "end_time": "2021-12-25T17:59:22.546951",
          "exception": false,
          "start_time": "2021-12-25T17:59:22.356848",
          "status": "completed"
        },
        "tags": [],
        "id": "32537930"
      },
      "outputs": [],
      "source": [
        "# Imputation\n",
        "bins = [0, 5, 10, 15, 20, np.inf]\n",
        "labels = ['0-5', '5-10', '10-15', '15-20', '+20']\n",
        "for score in df:\n",
        "    df['years_experience'] = pd.cut(df[\"experience\"], bins=bins, labels=labels)"
      ]
    },
    {
      "cell_type": "code",
      "execution_count": 60,
      "id": "b5997986",
      "metadata": {
        "execution": {
          "iopub.execute_input": "2021-12-25T17:59:22.868430Z",
          "iopub.status.busy": "2021-12-25T17:59:22.867719Z",
          "iopub.status.idle": "2021-12-25T17:59:23.465830Z",
          "shell.execute_reply": "2021-12-25T17:59:23.464723Z",
          "shell.execute_reply.started": "2021-12-25T17:40:55.622846Z"
        },
        "papermill": {
          "duration": 0.760353,
          "end_time": "2021-12-25T17:59:23.466006",
          "exception": false,
          "start_time": "2021-12-25T17:59:22.705653",
          "status": "completed"
        },
        "tags": [],
        "colab": {
          "base_uri": "https://localhost:8080/",
          "height": 461
        },
        "id": "b5997986",
        "outputId": "adbf19df-4e61-419d-95f2-dc0c75bc66d2"
      },
      "outputs": [
        {
          "output_type": "execute_result",
          "data": {
            "text/plain": [
              "<Figure size 1080x504 with 0 Axes>"
            ]
          },
          "metadata": {},
          "execution_count": 60
        },
        {
          "output_type": "execute_result",
          "data": {
            "text/plain": [
              "<matplotlib.axes._subplots.AxesSubplot at 0x7f99decfda50>"
            ]
          },
          "metadata": {},
          "execution_count": 60
        },
        {
          "output_type": "display_data",
          "data": {
            "image/png": "[encoded data removed]",
            "text/plain": [
              "<Figure size 1080x504 with 1 Axes>"
            ]
          },
          "metadata": {}
        }
      ],
      "source": [
        "plt.figure(figsize= [15.0, 7.0])\n",
        "sns.barplot(x=\"years_experience\", y=\"target\", data=df)"
      ]
    },
    {
      "cell_type": "code",
      "execution_count": 61,
      "id": "691003cc",
      "metadata": {
        "execution": {
          "iopub.execute_input": "2021-12-25T17:59:23.790044Z",
          "iopub.status.busy": "2021-12-25T17:59:23.789380Z",
          "iopub.status.idle": "2021-12-25T17:59:23.795173Z",
          "shell.execute_reply": "2021-12-25T17:59:23.795800Z",
          "shell.execute_reply.started": "2021-12-25T17:40:56.080525Z"
        },
        "papermill": {
          "duration": 0.168646,
          "end_time": "2021-12-25T17:59:23.795987",
          "exception": false,
          "start_time": "2021-12-25T17:59:23.627341",
          "status": "completed"
        },
        "tags": [],
        "id": "691003cc"
      },
      "outputs": [],
      "source": [
        "df.drop(['experience'], axis=1,inplace=True)\n"
      ]
    },
    {
      "cell_type": "markdown",
      "id": "3c277f36",
      "metadata": {
        "papermill": {
          "duration": 0.158834,
          "end_time": "2021-12-25T17:59:24.115087",
          "exception": false,
          "start_time": "2021-12-25T17:59:23.956253",
          "status": "completed"
        },
        "tags": [],
        "id": "3c277f36"
      },
      "source": [
        "### company_size"
      ]
    },
    {
      "cell_type": "code",
      "execution_count": 62,
      "id": "f09b5d42",
      "metadata": {
        "execution": {
          "iopub.execute_input": "2021-12-25T17:59:24.442323Z",
          "iopub.status.busy": "2021-12-25T17:59:24.441469Z",
          "iopub.status.idle": "2021-12-25T17:59:24.759695Z",
          "shell.execute_reply": "2021-12-25T17:59:24.760282Z",
          "shell.execute_reply.started": "2021-12-25T17:40:56.088312Z"
        },
        "papermill": {
          "duration": 0.484292,
          "end_time": "2021-12-25T17:59:24.760492",
          "exception": false,
          "start_time": "2021-12-25T17:59:24.276200",
          "status": "completed"
        },
        "tags": [],
        "colab": {
          "base_uri": "https://localhost:8080/",
          "height": 297
        },
        "id": "f09b5d42",
        "outputId": "e17995ca-b160-44e6-a051-f563dfab7961"
      },
      "outputs": [
        {
          "output_type": "execute_result",
          "data": {
            "text/plain": [
              "<matplotlib.axes._subplots.AxesSubplot at 0x7f99deb7c0d0>"
            ]
          },
          "metadata": {},
          "execution_count": 62
        },
        {
          "output_type": "display_data",
          "data": {
            "image/png": "[encoded data removed]",
            "text/plain": [
              "<Figure size 432x288 with 1 Axes>"
            ]
          },
          "metadata": {}
        }
      ],
      "source": [
        "sns.countplot(x=df.company_size, palette=\"Set3\")\n"
      ]
    },
    {
      "cell_type": "code",
      "execution_count": 63,
      "id": "ad5afb1d",
      "metadata": {
        "execution": {
          "iopub.execute_input": "2021-12-25T17:59:25.087258Z",
          "iopub.status.busy": "2021-12-25T17:59:25.086607Z",
          "iopub.status.idle": "2021-12-25T17:59:25.093365Z",
          "shell.execute_reply": "2021-12-25T17:59:25.093933Z",
          "shell.execute_reply.started": "2021-12-25T17:40:56.486872Z"
        },
        "papermill": {
          "duration": 0.172208,
          "end_time": "2021-12-25T17:59:25.094114",
          "exception": false,
          "start_time": "2021-12-25T17:59:24.921906",
          "status": "completed"
        },
        "tags": [],
        "colab": {
          "base_uri": "https://localhost:8080/"
        },
        "id": "ad5afb1d",
        "outputId": "296da0dc-2cf9-433d-f722-087985b55b3a"
      },
      "outputs": [
        {
          "output_type": "execute_result",
          "data": {
            "text/plain": [
              "5938"
            ]
          },
          "metadata": {},
          "execution_count": 63
        }
      ],
      "source": [
        "# Missing values.\n",
        "df['company_size'].isna().sum()"
      ]
    },
    {
      "cell_type": "code",
      "execution_count": 64,
      "id": "f1527926",
      "metadata": {
        "execution": {
          "iopub.execute_input": "2021-12-25T17:59:25.467518Z",
          "iopub.status.busy": "2021-12-25T17:59:25.466789Z",
          "iopub.status.idle": "2021-12-25T17:59:25.475383Z",
          "shell.execute_reply": "2021-12-25T17:59:25.475933Z",
          "shell.execute_reply.started": "2021-12-25T17:40:56.494108Z"
        },
        "papermill": {
          "duration": 0.179466,
          "end_time": "2021-12-25T17:59:25.476203",
          "exception": false,
          "start_time": "2021-12-25T17:59:25.296737",
          "status": "completed"
        },
        "tags": [],
        "id": "f1527926"
      },
      "outputs": [],
      "source": [
        "df['company_size'].fillna(method='ffill', limit=1, inplace=True)"
      ]
    },
    {
      "cell_type": "code",
      "execution_count": 65,
      "id": "c6cb7a04",
      "metadata": {
        "execution": {
          "iopub.execute_input": "2021-12-25T17:59:25.800989Z",
          "iopub.status.busy": "2021-12-25T17:59:25.800183Z",
          "iopub.status.idle": "2021-12-25T17:59:25.809030Z",
          "shell.execute_reply": "2021-12-25T17:59:25.809612Z",
          "shell.execute_reply.started": "2021-12-25T17:40:56.513382Z"
        },
        "papermill": {
          "duration": 0.172018,
          "end_time": "2021-12-25T17:59:25.809799",
          "exception": false,
          "start_time": "2021-12-25T17:59:25.637781",
          "status": "completed"
        },
        "tags": [],
        "id": "c6cb7a04"
      },
      "outputs": [],
      "source": [
        "df['company_size'].fillna(method='bfill', limit=1, inplace=True)"
      ]
    },
    {
      "cell_type": "code",
      "execution_count": 66,
      "id": "ed0796cb",
      "metadata": {
        "execution": {
          "iopub.execute_input": "2021-12-25T17:59:26.138542Z",
          "iopub.status.busy": "2021-12-25T17:59:26.137795Z",
          "iopub.status.idle": "2021-12-25T17:59:26.146955Z",
          "shell.execute_reply": "2021-12-25T17:59:26.147556Z",
          "shell.execute_reply.started": "2021-12-25T17:40:56.523474Z"
        },
        "papermill": {
          "duration": 0.177074,
          "end_time": "2021-12-25T17:59:26.147750",
          "exception": false,
          "start_time": "2021-12-25T17:59:25.970676",
          "status": "completed"
        },
        "tags": [],
        "id": "ed0796cb"
      },
      "outputs": [],
      "source": [
        "# Imputation, reduce values\n",
        "df['company_size'] = df.company_size.replace({'50-99':\"Medium\",\n",
        "\"<10\":\"Small\",\n",
        "\"10000+\":\"Big\",\n",
        "\"5000-9999\": \"Big\",\n",
        "\"1000-4999\":\"Big\",\n",
        "\"10/49\":\"Small\",\n",
        "\"100-500\":\"Medium\",\n",
        "\"500-999\":\"Big\"})"
      ]
    },
    {
      "cell_type": "code",
      "execution_count": 67,
      "id": "68c09ae8",
      "metadata": {
        "execution": {
          "iopub.execute_input": "2021-12-25T17:59:26.474740Z",
          "iopub.status.busy": "2021-12-25T17:59:26.474033Z",
          "iopub.status.idle": "2021-12-25T17:59:26.942937Z",
          "shell.execute_reply": "2021-12-25T17:59:26.942201Z",
          "shell.execute_reply.started": "2021-12-25T17:40:56.540084Z"
        },
        "papermill": {
          "duration": 0.633079,
          "end_time": "2021-12-25T17:59:26.943103",
          "exception": false,
          "start_time": "2021-12-25T17:59:26.310024",
          "status": "completed"
        },
        "tags": [],
        "colab": {
          "base_uri": "https://localhost:8080/",
          "height": 353
        },
        "id": "68c09ae8",
        "outputId": "1a49b29b-381a-4d26-923e-0da39867c25f"
      },
      "outputs": [
        {
          "output_type": "execute_result",
          "data": {
            "text/plain": [
              "<Figure size 576x360 with 0 Axes>"
            ]
          },
          "metadata": {},
          "execution_count": 67
        },
        {
          "output_type": "execute_result",
          "data": {
            "text/plain": [
              "<matplotlib.axes._subplots.AxesSubplot at 0x7f99dea84950>"
            ]
          },
          "metadata": {},
          "execution_count": 67
        },
        {
          "output_type": "display_data",
          "data": {
            "image/png": "[encoded data removed]",
            "text/plain": [
              "<Figure size 576x360 with 1 Axes>"
            ]
          },
          "metadata": {}
        }
      ],
      "source": [
        "# compare with target\n",
        "plt.figure(figsize=(8, 5))\n",
        "sns.set_style('whitegrid')\n",
        "sns.countplot(x = 'company_size',hue='target',data=df)"
      ]
    },
    {
      "cell_type": "code",
      "execution_count": 68,
      "id": "3cdf032f",
      "metadata": {
        "execution": {
          "iopub.execute_input": "2021-12-25T17:59:27.272488Z",
          "iopub.status.busy": "2021-12-25T17:59:27.271405Z",
          "iopub.status.idle": "2021-12-25T17:59:27.279915Z",
          "shell.execute_reply": "2021-12-25T17:59:27.280626Z",
          "shell.execute_reply.started": "2021-12-25T17:40:56.783968Z"
        },
        "papermill": {
          "duration": 0.173298,
          "end_time": "2021-12-25T17:59:27.280809",
          "exception": false,
          "start_time": "2021-12-25T17:59:27.107511",
          "status": "completed"
        },
        "tags": [],
        "colab": {
          "base_uri": "https://localhost:8080/"
        },
        "id": "3cdf032f",
        "outputId": "b206400d-1eeb-42d9-b35e-50ee7f9672e0"
      },
      "outputs": [
        {
          "output_type": "execute_result",
          "data": {
            "text/plain": [
              "538"
            ]
          },
          "metadata": {},
          "execution_count": 68
        }
      ],
      "source": [
        "# Missing values.\n",
        "df['company_size'].isna().sum()"
      ]
    },
    {
      "cell_type": "code",
      "execution_count": 69,
      "id": "f4a1be83",
      "metadata": {
        "execution": {
          "iopub.execute_input": "2021-12-25T17:59:27.616560Z",
          "iopub.status.busy": "2021-12-25T17:59:27.615803Z",
          "iopub.status.idle": "2021-12-25T17:59:27.618638Z",
          "shell.execute_reply": "2021-12-25T17:59:27.619268Z",
          "shell.execute_reply.started": "2021-12-25T17:40:56.792276Z"
        },
        "papermill": {
          "duration": 0.173754,
          "end_time": "2021-12-25T17:59:27.619478",
          "exception": false,
          "start_time": "2021-12-25T17:59:27.445724",
          "status": "completed"
        },
        "tags": [],
        "id": "f4a1be83"
      },
      "outputs": [],
      "source": [
        "df['company_size'] = df.company_size.fillna(\"Small\")\n"
      ]
    },
    {
      "cell_type": "markdown",
      "id": "f782dc56",
      "metadata": {
        "papermill": {
          "duration": 0.161546,
          "end_time": "2021-12-25T17:59:27.943106",
          "exception": false,
          "start_time": "2021-12-25T17:59:27.781560",
          "status": "completed"
        },
        "tags": [],
        "id": "f782dc56"
      },
      "source": [
        "### Company_type\n"
      ]
    },
    {
      "cell_type": "code",
      "execution_count": 70,
      "id": "08d4b91d",
      "metadata": {
        "execution": {
          "iopub.execute_input": "2021-12-25T17:59:28.274591Z",
          "iopub.status.busy": "2021-12-25T17:59:28.273826Z",
          "iopub.status.idle": "2021-12-25T17:59:28.600224Z",
          "shell.execute_reply": "2021-12-25T17:59:28.599641Z",
          "shell.execute_reply.started": "2021-12-25T17:40:56.804562Z"
        },
        "papermill": {
          "duration": 0.493756,
          "end_time": "2021-12-25T17:59:28.600411",
          "exception": false,
          "start_time": "2021-12-25T17:59:28.106655",
          "status": "completed"
        },
        "tags": [],
        "colab": {
          "base_uri": "https://localhost:8080/",
          "height": 297
        },
        "id": "08d4b91d",
        "outputId": "e0481714-5e42-4083-f710-2f2031fde8de"
      },
      "outputs": [
        {
          "output_type": "execute_result",
          "data": {
            "text/plain": [
              "<matplotlib.axes._subplots.AxesSubplot at 0x7f99dea76410>"
            ]
          },
          "metadata": {},
          "execution_count": 70
        },
        {
          "output_type": "display_data",
          "data": {
            "image/png": "[encoded data removed]",
            "text/plain": [
              "<Figure size 432x288 with 1 Axes>"
            ]
          },
          "metadata": {}
        }
      ],
      "source": [
        "sns.countplot(y= df['company_type'], palette=\"Blues\") \n"
      ]
    },
    {
      "cell_type": "code",
      "execution_count": 71,
      "id": "149f5784",
      "metadata": {
        "execution": {
          "iopub.execute_input": "2021-12-25T17:59:28.935785Z",
          "iopub.status.busy": "2021-12-25T17:59:28.935081Z",
          "iopub.status.idle": "2021-12-25T17:59:29.317876Z",
          "shell.execute_reply": "2021-12-25T17:59:29.318413Z",
          "shell.execute_reply.started": "2021-12-25T17:40:57.063217Z"
        },
        "papermill": {
          "duration": 0.551881,
          "end_time": "2021-12-25T17:59:29.318602",
          "exception": false,
          "start_time": "2021-12-25T17:59:28.766721",
          "status": "completed"
        },
        "tags": [],
        "colab": {
          "base_uri": "https://localhost:8080/",
          "height": 351
        },
        "id": "149f5784",
        "outputId": "34e9ffc8-517c-4c09-ed32-374433756305"
      },
      "outputs": [
        {
          "output_type": "execute_result",
          "data": {
            "text/plain": [
              "<Figure size 720x360 with 0 Axes>"
            ]
          },
          "metadata": {},
          "execution_count": 71
        },
        {
          "output_type": "execute_result",
          "data": {
            "text/plain": [
              "<matplotlib.axes._subplots.AxesSubplot at 0x7f99dea7b7d0>"
            ]
          },
          "metadata": {},
          "execution_count": 71
        },
        {
          "output_type": "display_data",
          "data": {
            "image/png": "[encoded data removed]",
            "text/plain": [
              "<Figure size 720x360 with 1 Axes>"
            ]
          },
          "metadata": {}
        }
      ],
      "source": [
        "# compare with target\n",
        "plt.figure(figsize=(10, 5))\n",
        "sns.set_style('whitegrid')\n",
        "sns.countplot(x = 'company_type',hue='target',data=df,palette='winter_r')"
      ]
    },
    {
      "cell_type": "code",
      "execution_count": 72,
      "id": "7ee7b0ce",
      "metadata": {
        "execution": {
          "iopub.execute_input": "2021-12-25T17:59:29.657354Z",
          "iopub.status.busy": "2021-12-25T17:59:29.656625Z",
          "iopub.status.idle": "2021-12-25T17:59:29.665360Z",
          "shell.execute_reply": "2021-12-25T17:59:29.664663Z",
          "shell.execute_reply.started": "2021-12-25T17:40:57.361995Z"
        },
        "papermill": {
          "duration": 0.179032,
          "end_time": "2021-12-25T17:59:29.665514",
          "exception": false,
          "start_time": "2021-12-25T17:59:29.486482",
          "status": "completed"
        },
        "tags": [],
        "colab": {
          "base_uri": "https://localhost:8080/"
        },
        "id": "7ee7b0ce",
        "outputId": "c6865630-3143-4c0c-d6f7-7488cfdaca70"
      },
      "outputs": [
        {
          "output_type": "execute_result",
          "data": {
            "text/plain": [
              "32.04927445453596"
            ]
          },
          "metadata": {},
          "execution_count": 72
        }
      ],
      "source": [
        "# missing values\n",
        "df['company_type'].isnull().sum()/len(df)*100"
      ]
    },
    {
      "cell_type": "code",
      "execution_count": 73,
      "id": "74228b45",
      "metadata": {
        "execution": {
          "iopub.execute_input": "2021-12-25T17:59:30.003046Z",
          "iopub.status.busy": "2021-12-25T17:59:30.002349Z",
          "iopub.status.idle": "2021-12-25T17:59:30.005450Z",
          "shell.execute_reply": "2021-12-25T17:59:30.006032Z",
          "shell.execute_reply.started": "2021-12-25T17:40:57.370681Z"
        },
        "papermill": {
          "duration": 0.174727,
          "end_time": "2021-12-25T17:59:30.006224",
          "exception": false,
          "start_time": "2021-12-25T17:59:29.831497",
          "status": "completed"
        },
        "tags": [],
        "id": "74228b45"
      },
      "outputs": [],
      "source": [
        "#Too much missing values, so we delete this features\n",
        "df.drop(['company_type'], axis=1,inplace=True)\n"
      ]
    },
    {
      "cell_type": "markdown",
      "id": "5772301e",
      "metadata": {
        "papermill": {
          "duration": 0.17381,
          "end_time": "2021-12-25T17:59:30.346455",
          "exception": false,
          "start_time": "2021-12-25T17:59:30.172645",
          "status": "completed"
        },
        "tags": [],
        "id": "5772301e"
      },
      "source": [
        "### last_new_job"
      ]
    },
    {
      "cell_type": "code",
      "execution_count": 74,
      "id": "7fcf72ce",
      "metadata": {
        "execution": {
          "iopub.execute_input": "2021-12-25T17:59:30.681668Z",
          "iopub.status.busy": "2021-12-25T17:59:30.680805Z",
          "iopub.status.idle": "2021-12-25T17:59:30.686751Z",
          "shell.execute_reply": "2021-12-25T17:59:30.687409Z",
          "shell.execute_reply.started": "2021-12-25T17:40:57.383005Z"
        },
        "papermill": {
          "duration": 0.174026,
          "end_time": "2021-12-25T17:59:30.687591",
          "exception": false,
          "start_time": "2021-12-25T17:59:30.513565",
          "status": "completed"
        },
        "tags": [],
        "id": "7fcf72ce"
      },
      "outputs": [],
      "source": [
        "# missing values\n",
        "df['last_new_job'].fillna('never', inplace=True)"
      ]
    },
    {
      "cell_type": "code",
      "execution_count": 75,
      "id": "8da90131",
      "metadata": {
        "execution": {
          "iopub.execute_input": "2021-12-25T17:59:31.022590Z",
          "iopub.status.busy": "2021-12-25T17:59:31.021900Z",
          "iopub.status.idle": "2021-12-25T17:59:31.029878Z",
          "shell.execute_reply": "2021-12-25T17:59:31.030470Z",
          "shell.execute_reply.started": "2021-12-25T17:40:57.398490Z"
        },
        "papermill": {
          "duration": 0.176575,
          "end_time": "2021-12-25T17:59:31.030651",
          "exception": false,
          "start_time": "2021-12-25T17:59:30.854076",
          "status": "completed"
        },
        "tags": [],
        "id": "8da90131"
      },
      "outputs": [],
      "source": [
        "# replace values\n",
        "df[\"last_new_job\"].replace({\">4\": \"5\",\"never\":\"0\"}, inplace=True)"
      ]
    },
    {
      "cell_type": "code",
      "execution_count": 76,
      "id": "ede1ca86",
      "metadata": {
        "execution": {
          "iopub.execute_input": "2021-12-25T17:59:31.424731Z",
          "iopub.status.busy": "2021-12-25T17:59:31.423759Z",
          "iopub.status.idle": "2021-12-25T17:59:31.427198Z",
          "shell.execute_reply": "2021-12-25T17:59:31.427832Z",
          "shell.execute_reply.started": "2021-12-25T17:40:57.412533Z"
        },
        "papermill": {
          "duration": 0.232505,
          "end_time": "2021-12-25T17:59:31.428025",
          "exception": false,
          "start_time": "2021-12-25T17:59:31.195520",
          "status": "completed"
        },
        "tags": [],
        "id": "ede1ca86"
      },
      "outputs": [],
      "source": [
        "df[\"last_new_job\"] = pd.to_numeric(df[\"last_new_job\"])"
      ]
    },
    {
      "cell_type": "code",
      "execution_count": 77,
      "id": "420fcc38",
      "metadata": {
        "execution": {
          "iopub.execute_input": "2021-12-25T17:59:31.786353Z",
          "iopub.status.busy": "2021-12-25T17:59:31.785185Z",
          "iopub.status.idle": "2021-12-25T17:59:32.077001Z",
          "shell.execute_reply": "2021-12-25T17:59:32.077517Z",
          "shell.execute_reply.started": "2021-12-25T17:40:57.431697Z"
        },
        "papermill": {
          "duration": 0.461947,
          "end_time": "2021-12-25T17:59:32.077720",
          "exception": false,
          "start_time": "2021-12-25T17:59:31.615773",
          "status": "completed"
        },
        "tags": [],
        "colab": {
          "base_uri": "https://localhost:8080/",
          "height": 297
        },
        "id": "420fcc38",
        "outputId": "39bd1ea7-9d6d-4c8f-cc51-c3ada73b4147"
      },
      "outputs": [
        {
          "output_type": "execute_result",
          "data": {
            "text/plain": [
              "<matplotlib.axes._subplots.AxesSubplot at 0x7f99de910ed0>"
            ]
          },
          "metadata": {},
          "execution_count": 77
        },
        {
          "output_type": "display_data",
          "data": {
            "image/png": "[encoded data removed]",
            "text/plain": [
              "<Figure size 432x288 with 1 Axes>"
            ]
          },
          "metadata": {}
        }
      ],
      "source": [
        "sns.countplot(x=df.last_new_job, palette=\"Reds\")\n"
      ]
    },
    {
      "cell_type": "code",
      "execution_count": 78,
      "id": "c819cf57",
      "metadata": {
        "execution": {
          "iopub.execute_input": "2021-12-25T17:59:32.414809Z",
          "iopub.status.busy": "2021-12-25T17:59:32.413751Z",
          "iopub.status.idle": "2021-12-25T17:59:33.070255Z",
          "shell.execute_reply": "2021-12-25T17:59:33.070933Z",
          "shell.execute_reply.started": "2021-12-25T17:40:57.664596Z"
        },
        "papermill": {
          "duration": 0.828503,
          "end_time": "2021-12-25T17:59:33.071117",
          "exception": false,
          "start_time": "2021-12-25T17:59:32.242614",
          "status": "completed"
        },
        "tags": [],
        "colab": {
          "base_uri": "https://localhost:8080/",
          "height": 461
        },
        "id": "c819cf57",
        "outputId": "83ba2c9f-6024-4b75-ae93-de4a7a3d6362"
      },
      "outputs": [
        {
          "output_type": "execute_result",
          "data": {
            "text/plain": [
              "<Figure size 1080x504 with 0 Axes>"
            ]
          },
          "metadata": {},
          "execution_count": 78
        },
        {
          "output_type": "execute_result",
          "data": {
            "text/plain": [
              "<matplotlib.axes._subplots.AxesSubplot at 0x7f99de8de710>"
            ]
          },
          "metadata": {},
          "execution_count": 78
        },
        {
          "output_type": "display_data",
          "data": {
            "image/png": "[encoded data removed]",
            "text/plain": [
              "<Figure size 1080x504 with 1 Axes>"
            ]
          },
          "metadata": {}
        }
      ],
      "source": [
        "plt.figure(figsize= [15.0, 7.0])\n",
        "sns.barplot(x=\"last_new_job\", y=\"target\", data=df)"
      ]
    },
    {
      "cell_type": "markdown",
      "id": "00a5d053",
      "metadata": {
        "papermill": {
          "duration": 0.166439,
          "end_time": "2021-12-25T17:59:33.403767",
          "exception": false,
          "start_time": "2021-12-25T17:59:33.237328",
          "status": "completed"
        },
        "tags": [],
        "id": "00a5d053"
      },
      "source": [
        "### training_hours"
      ]
    },
    {
      "cell_type": "code",
      "execution_count": 79,
      "id": "2ec68dac",
      "metadata": {
        "execution": {
          "iopub.execute_input": "2021-12-25T17:59:33.768633Z",
          "iopub.status.busy": "2021-12-25T17:59:33.763166Z",
          "iopub.status.idle": "2021-12-25T17:59:34.851716Z",
          "shell.execute_reply": "2021-12-25T17:59:34.851001Z",
          "shell.execute_reply.started": "2021-12-25T17:40:58.138065Z"
        },
        "papermill": {
          "duration": 1.278555,
          "end_time": "2021-12-25T17:59:34.851872",
          "exception": false,
          "start_time": "2021-12-25T17:59:33.573317",
          "status": "completed"
        },
        "tags": [],
        "colab": {
          "base_uri": "https://localhost:8080/",
          "height": 615
        },
        "id": "2ec68dac",
        "outputId": "4cc8379b-f4e8-4b15-d709-adf9389361ff"
      },
      "outputs": [
        {
          "output_type": "execute_result",
          "data": {
            "text/plain": [
              "<matplotlib.axes._subplots.AxesSubplot at 0x7f99de80ae50>"
            ]
          },
          "metadata": {},
          "execution_count": 79
        },
        {
          "output_type": "execute_result",
          "data": {
            "text/plain": [
              "<Figure size 864x360 with 0 Axes>"
            ]
          },
          "metadata": {},
          "execution_count": 79
        },
        {
          "output_type": "execute_result",
          "data": {
            "text/plain": [
              "<matplotlib.axes._subplots.AxesSubplot at 0x7f99de82efd0>"
            ]
          },
          "metadata": {},
          "execution_count": 79
        },
        {
          "output_type": "display_data",
          "data": {
            "image/png": "[encoded data removed]",
            "text/plain": [
              "<Figure size 432x288 with 1 Axes>"
            ]
          },
          "metadata": {}
        },
        {
          "output_type": "display_data",
          "data": {
            "image/png": "[encoded data removed]",
            "text/plain": [
              "<Figure size 864x360 with 1 Axes>"
            ]
          },
          "metadata": {}
        }
      ],
      "source": [
        "sns.distplot(df.training_hours);\n",
        "plt.figure(figsize=(12, 5))\n",
        "sns.set_style('whitegrid')\n",
        "sns.kdeplot(data=df, x=\"training_hours\", hue=\"target\",cut = 0,palette='Set1')\n"
      ]
    },
    {
      "cell_type": "markdown",
      "id": "613e073a",
      "metadata": {
        "papermill": {
          "duration": 0.172761,
          "end_time": "2021-12-25T17:59:35.196751",
          "exception": false,
          "start_time": "2021-12-25T17:59:35.023990",
          "status": "completed"
        },
        "tags": [],
        "id": "613e073a"
      },
      "source": [
        "### Missing values"
      ]
    },
    {
      "cell_type": "code",
      "execution_count": 80,
      "id": "609e0395",
      "metadata": {
        "execution": {
          "iopub.execute_input": "2021-12-25T17:59:35.539673Z",
          "iopub.status.busy": "2021-12-25T17:59:35.538963Z",
          "iopub.status.idle": "2021-12-25T17:59:36.137727Z",
          "shell.execute_reply": "2021-12-25T17:59:36.138235Z",
          "shell.execute_reply.started": "2021-12-25T17:40:59.032561Z"
        },
        "papermill": {
          "duration": 0.772221,
          "end_time": "2021-12-25T17:59:36.138466",
          "exception": false,
          "start_time": "2021-12-25T17:59:35.366245",
          "status": "completed"
        },
        "tags": [],
        "colab": {
          "base_uri": "https://localhost:8080/",
          "height": 399
        },
        "id": "609e0395",
        "outputId": "b9b34e99-bb92-4aef-9c87-9f91a775c307"
      },
      "outputs": [
        {
          "output_type": "execute_result",
          "data": {
            "text/plain": [
              "<matplotlib.axes._subplots.AxesSubplot at 0x7f99de6d0c90>"
            ]
          },
          "metadata": {},
          "execution_count": 80
        },
        {
          "output_type": "display_data",
          "data": {
            "image/png": "[encoded data removed]",
            "text/plain": [
              "<Figure size 432x288 with 2 Axes>"
            ]
          },
          "metadata": {}
        }
      ],
      "source": [
        "sns.heatmap(df.isnull(),yticklabels=False,cmap=\"viridis\")"
      ]
    },
    {
      "cell_type": "code",
      "execution_count": 81,
      "id": "99ee5324",
      "metadata": {
        "execution": {
          "iopub.execute_input": "2021-12-25T17:59:36.531903Z",
          "iopub.status.busy": "2021-12-25T17:59:36.530659Z",
          "iopub.status.idle": "2021-12-25T17:59:36.542090Z",
          "shell.execute_reply": "2021-12-25T17:59:36.542708Z",
          "shell.execute_reply.started": "2021-12-25T17:40:59.556453Z"
        },
        "papermill": {
          "duration": 0.189194,
          "end_time": "2021-12-25T17:59:36.542902",
          "exception": false,
          "start_time": "2021-12-25T17:59:36.353708",
          "status": "completed"
        },
        "tags": [],
        "id": "99ee5324"
      },
      "outputs": [],
      "source": [
        "# delete missing values\n",
        "df.dropna(inplace=True)"
      ]
    },
    {
      "cell_type": "markdown",
      "id": "57d83292",
      "metadata": {
        "papermill": {
          "duration": 0.173867,
          "end_time": "2021-12-25T17:59:36.890755",
          "exception": false,
          "start_time": "2021-12-25T17:59:36.716888",
          "status": "completed"
        },
        "tags": [],
        "id": "57d83292"
      },
      "source": [
        "# Machine Learning"
      ]
    },
    {
      "cell_type": "code",
      "execution_count": 82,
      "id": "09a6cd13",
      "metadata": {
        "execution": {
          "iopub.execute_input": "2021-12-25T17:59:37.240369Z",
          "iopub.status.busy": "2021-12-25T17:59:37.239626Z",
          "iopub.status.idle": "2021-12-25T17:59:37.247495Z",
          "shell.execute_reply": "2021-12-25T17:59:37.248054Z",
          "shell.execute_reply.started": "2021-12-25T17:40:59.571956Z"
        },
        "papermill": {
          "duration": 0.185346,
          "end_time": "2021-12-25T17:59:37.248280",
          "exception": false,
          "start_time": "2021-12-25T17:59:37.062934",
          "status": "completed"
        },
        "tags": [],
        "id": "09a6cd13"
      },
      "outputs": [],
      "source": [
        "# Standarize features\n",
        "cols_to_standarize = ['training_hours','last_new_job']\n",
        "for col in cols_to_standarize:\n",
        "  df[col] = preprocessing.scale(df[col], axis=0, copy=False)"
      ]
    },
    {
      "cell_type": "code",
      "execution_count": 83,
      "id": "cfbabab0",
      "metadata": {
        "execution": {
          "iopub.execute_input": "2021-12-25T17:59:37.603218Z",
          "iopub.status.busy": "2021-12-25T17:59:37.602527Z",
          "iopub.status.idle": "2021-12-25T17:59:37.614472Z",
          "shell.execute_reply": "2021-12-25T17:59:37.613824Z",
          "shell.execute_reply.started": "2021-12-25T17:40:59.588979Z"
        },
        "papermill": {
          "duration": 0.193251,
          "end_time": "2021-12-25T17:59:37.614632",
          "exception": false,
          "start_time": "2021-12-25T17:59:37.421381",
          "status": "completed"
        },
        "tags": [],
        "id": "cfbabab0"
      },
      "outputs": [],
      "source": [
        "# get dummies, object features\n",
        "categorical_feature = (df.dtypes == \"category\") | (df.dtypes == object)\n",
        "categorical_cols = df.columns[categorical_feature].tolist()\n",
        "df = pd.get_dummies(df, columns=categorical_cols)"
      ]
    },
    {
      "cell_type": "code",
      "execution_count": 84,
      "id": "e26ad1c9",
      "metadata": {
        "execution": {
          "iopub.execute_input": "2021-12-25T17:59:37.965269Z",
          "iopub.status.busy": "2021-12-25T17:59:37.964285Z",
          "iopub.status.idle": "2021-12-25T17:59:37.985219Z",
          "shell.execute_reply": "2021-12-25T17:59:37.984621Z",
          "shell.execute_reply.started": "2021-12-25T17:40:59.608164Z"
        },
        "papermill": {
          "duration": 0.198868,
          "end_time": "2021-12-25T17:59:37.985395",
          "exception": false,
          "start_time": "2021-12-25T17:59:37.786527",
          "status": "completed"
        },
        "tags": [],
        "id": "e26ad1c9"
      },
      "outputs": [],
      "source": [
        "# correlation \n",
        "correlation_matrix = df.corr()"
      ]
    },
    {
      "cell_type": "code",
      "execution_count": 85,
      "id": "050e4963",
      "metadata": {
        "execution": {
          "iopub.execute_input": "2021-12-25T17:59:38.350960Z",
          "iopub.status.busy": "2021-12-25T17:59:38.350237Z",
          "iopub.status.idle": "2021-12-25T17:59:41.178052Z",
          "shell.execute_reply": "2021-12-25T17:59:41.178626Z",
          "shell.execute_reply.started": "2021-12-25T17:40:59.634929Z"
        },
        "papermill": {
          "duration": 3.020838,
          "end_time": "2021-12-25T17:59:41.178825",
          "exception": false,
          "start_time": "2021-12-25T17:59:38.157987",
          "status": "completed"
        },
        "tags": [],
        "colab": {
          "base_uri": "https://localhost:8080/",
          "height": 857
        },
        "id": "050e4963",
        "outputId": "d3d9e0b8-711a-40d2-bbdd-7baa29db8cb2"
      },
      "outputs": [
        {
          "output_type": "execute_result",
          "data": {
            "text/plain": [
              "<Figure size 1440x864 with 0 Axes>"
            ]
          },
          "metadata": {},
          "execution_count": 85
        },
        {
          "output_type": "execute_result",
          "data": {
            "text/plain": [
              "Text(0.5, 1.0, 'Pearson Correlation of Features')"
            ]
          },
          "metadata": {},
          "execution_count": 85
        },
        {
          "output_type": "execute_result",
          "data": {
            "text/plain": [
              "<matplotlib.axes._subplots.AxesSubplot at 0x7f99de637950>"
            ]
          },
          "metadata": {},
          "execution_count": 85
        },
        {
          "output_type": "display_data",
          "data": {
            "image/png": "[encoded data removed]",
            "text/plain": [
              "<Figure size 1440x864 with 2 Axes>"
            ]
          },
          "metadata": {}
        }
      ],
      "source": [
        "plt.figure(figsize=(20.0,12.0))\n",
        "plt.title('Pearson Correlation of Features')\n",
        "sns.heatmap(correlation_matrix, annot=True)"
      ]
    },
    {
      "cell_type": "code",
      "execution_count": 86,
      "id": "b842fba5",
      "metadata": {
        "execution": {
          "iopub.execute_input": "2021-12-25T17:59:41.539339Z",
          "iopub.status.busy": "2021-12-25T17:59:41.538275Z",
          "iopub.status.idle": "2021-12-25T17:59:41.565392Z",
          "shell.execute_reply": "2021-12-25T17:59:41.565988Z",
          "shell.execute_reply.started": "2021-12-25T17:41:01.853485Z"
        },
        "papermill": {
          "duration": 0.208384,
          "end_time": "2021-12-25T17:59:41.566191",
          "exception": false,
          "start_time": "2021-12-25T17:59:41.357807",
          "status": "completed"
        },
        "tags": [],
        "colab": {
          "base_uri": "https://localhost:8080/"
        },
        "id": "b842fba5",
        "outputId": "6b401b03-4440-4bdb-9c52-f337ee043d88"
      },
      "outputs": [
        {
          "output_type": "stream",
          "name": "stdout",
          "text": [
            "target                      1.000000\n",
            "years_experience_0-5        0.142562\n",
            "education_level_Graduate    0.083462\n",
            "company_size_Small          0.043558\n",
            "Sex_bin                     0.040091\n",
            "years_experience_5-10       0.011927\n",
            "Name: target, dtype: float64 \n",
            "\n",
            "years_experience_10-15   -0.051376\n",
            "years_experience_15-20   -0.057003\n",
            "last_new_job             -0.082599\n",
            "years_experience_+20     -0.097432\n",
            "relev_exp_bin            -0.124892\n",
            "city_development_index   -0.335307\n",
            "Name: target, dtype: float64\n"
          ]
        }
      ],
      "source": [
        "# show up the most features correlate\n",
        "corr = df.corr()\n",
        "print(corr['target'].sort_values(ascending=False)[:6], '\\n')\n",
        "print(corr['target'].sort_values(ascending=False)[-6:])"
      ]
    },
    {
      "cell_type": "code",
      "execution_count": 87,
      "id": "6b0db9d9",
      "metadata": {
        "execution": {
          "iopub.execute_input": "2021-12-25T17:59:42.292877Z",
          "iopub.status.busy": "2021-12-25T17:59:42.292196Z",
          "iopub.status.idle": "2021-12-25T17:59:42.297727Z",
          "shell.execute_reply": "2021-12-25T17:59:42.298339Z",
          "shell.execute_reply.started": "2021-12-25T17:41:01.890468Z"
        },
        "papermill": {
          "duration": 0.187582,
          "end_time": "2021-12-25T17:59:42.298524",
          "exception": false,
          "start_time": "2021-12-25T17:59:42.110942",
          "status": "completed"
        },
        "tags": [],
        "id": "6b0db9d9"
      },
      "outputs": [],
      "source": [
        "X = df.drop(['target'], axis = 1)\n",
        "y = df['target']"
      ]
    },
    {
      "cell_type": "code",
      "execution_count": 88,
      "id": "e2711389",
      "metadata": {
        "execution": {
          "iopub.execute_input": "2021-12-25T17:59:42.662068Z",
          "iopub.status.busy": "2021-12-25T17:59:42.661414Z",
          "iopub.status.idle": "2021-12-25T17:59:42.684174Z",
          "shell.execute_reply": "2021-12-25T17:59:42.683589Z",
          "shell.execute_reply.started": "2021-12-25T17:41:01.906379Z"
        },
        "papermill": {
          "duration": 0.205703,
          "end_time": "2021-12-25T17:59:42.684357",
          "exception": false,
          "start_time": "2021-12-25T17:59:42.478654",
          "status": "completed"
        },
        "tags": [],
        "colab": {
          "base_uri": "https://localhost:8080/",
          "height": 237
        },
        "id": "e2711389",
        "outputId": "e5d131a9-a818-4ce9-c1e4-5444d486f110"
      },
      "outputs": [
        {
          "output_type": "execute_result",
          "data": {
            "text/html": [
              "\n",
              "  <div id=\"df-c2f685c6-6744-4273-83e5-f60ccdd6b3eb\">\n",
              "    <div class=\"colab-df-container\">\n",
              "      <div>\n",
              "<style scoped>\n",
              "    .dataframe tbody tr th:only-of-type {\n",
              "        vertical-align: middle;\n",
              "    }\n",
              "\n",
              "    .dataframe tbody tr th {\n",
              "        vertical-align: top;\n",
              "    }\n",
              "\n",
              "    .dataframe thead th {\n",
              "        text-align: right;\n",
              "    }\n",
              "</style>\n",
              "<table border=\"1\" class=\"dataframe\">\n",
              "  <thead>\n",
              "    <tr style=\"text-align: right;\">\n",
              "      <th></th>\n",
              "      <th>Score</th>\n",
              "      <th>target</th>\n",
              "    </tr>\n",
              "  </thead>\n",
              "  <tbody>\n",
              "    <tr>\n",
              "      <th>0</th>\n",
              "      <td>2352.1829</td>\n",
              "      <td>city_development_index</td>\n",
              "    </tr>\n",
              "    <tr>\n",
              "      <th>1</th>\n",
              "      <td>385.2258</td>\n",
              "      <td>years_experience_0-5</td>\n",
              "    </tr>\n",
              "    <tr>\n",
              "      <th>2</th>\n",
              "      <td>294.2274</td>\n",
              "      <td>relev_exp_bin</td>\n",
              "    </tr>\n",
              "    <tr>\n",
              "      <th>3</th>\n",
              "      <td>177.9646</td>\n",
              "      <td>years_experience_+20</td>\n",
              "    </tr>\n",
              "    <tr>\n",
              "      <th>4</th>\n",
              "      <td>130.2580</td>\n",
              "      <td>education_level_Graduate</td>\n",
              "    </tr>\n",
              "    <tr>\n",
              "      <th>5</th>\n",
              "      <td>127.5578</td>\n",
              "      <td>last_new_job</td>\n",
              "    </tr>\n",
              "  </tbody>\n",
              "</table>\n",
              "</div>\n",
              "      <button class=\"colab-df-convert\" onclick=\"convertToInteractive('df-c2f685c6-6744-4273-83e5-f60ccdd6b3eb')\"\n",
              "              title=\"Convert this dataframe to an interactive table.\"\n",
              "              style=\"display:none;\">\n",
              "        \n",
              "  <svg xmlns=\"http://www.w3.org/2000/svg\" height=\"24px\"viewBox=\"0 0 24 24\"\n",
              "       width=\"24px\">\n",
              "    <path d=\"M0 0h24v24H0V0z\" fill=\"none\"/>\n",
              "    <path d=\"M18.56 5.44l.94 2.06.94-2.06 2.06-.94-2.06-.94-.94-2.06-.94 2.06-2.06.94zm-11 1L8.5 8.5l.94-2.06 2.06-.94-2.06-.94L8.5 2.5l-.94 2.06-2.06.94zm10 10l.94 2.06.94-2.06 2.06-.94-2.06-.94-.94-2.06-.94 2.06-2.06.94z\"/><path d=\"M17.41 7.96l-1.37-1.37c-.4-.4-.92-.59-1.43-.59-.52 0-1.04.2-1.43.59L10.3 9.45l-7.72 7.72c-.78.78-.78 2.05 0 2.83L4 21.41c.39.39.9.59 1.41.59.51 0 1.02-.2 1.41-.59l7.78-7.78 2.81-2.81c.8-.78.8-2.07 0-2.86zM5.41 20L4 18.59l7.72-7.72 1.47 1.35L5.41 20z\"/>\n",
              "  </svg>\n",
              "      </button>\n",
              "      \n",
              "  <style>\n",
              "    .colab-df-container {\n",
              "      display:flex;\n",
              "      flex-wrap:wrap;\n",
              "      gap: 12px;\n",
              "    }\n",
              "\n",
              "    .colab-df-convert {\n",
              "      background-color: #E8F0FE;\n",
              "      border: none;\n",
              "      border-radius: 50%;\n",
              "      cursor: pointer;\n",
              "      display: none;\n",
              "      fill: #1967D2;\n",
              "      height: 32px;\n",
              "      padding: 0 0 0 0;\n",
              "      width: 32px;\n",
              "    }\n",
              "\n",
              "    .colab-df-convert:hover {\n",
              "      background-color: #E2EBFA;\n",
              "      box-shadow: 0px 1px 2px rgba(60, 64, 67, 0.3), 0px 1px 3px 1px rgba(60, 64, 67, 0.15);\n",
              "      fill: #174EA6;\n",
              "    }\n",
              "\n",
              "    [theme=dark] .colab-df-convert {\n",
              "      background-color: #3B4455;\n",
              "      fill: #D2E3FC;\n",
              "    }\n",
              "\n",
              "    [theme=dark] .colab-df-convert:hover {\n",
              "      background-color: #434B5C;\n",
              "      box-shadow: 0px 1px 3px 1px rgba(0, 0, 0, 0.15);\n",
              "      filter: drop-shadow(0px 1px 2px rgba(0, 0, 0, 0.3));\n",
              "      fill: #FFFFFF;\n",
              "    }\n",
              "  </style>\n",
              "\n",
              "      <script>\n",
              "        const buttonEl =\n",
              "          document.querySelector('#df-c2f685c6-6744-4273-83e5-f60ccdd6b3eb button.colab-df-convert');\n",
              "        buttonEl.style.display =\n",
              "          google.colab.kernel.accessAllowed ? 'block' : 'none';\n",
              "\n",
              "        async function convertToInteractive(key) {\n",
              "          const element = document.querySelector('#df-c2f685c6-6744-4273-83e5-f60ccdd6b3eb');\n",
              "          const dataTable =\n",
              "            await google.colab.kernel.invokeFunction('convertToInteractive',\n",
              "                                                     [key], {});\n",
              "          if (!dataTable) return;\n",
              "\n",
              "          const docLinkHtml = 'Like what you see? Visit the ' +\n",
              "            '<a target=\"_blank\" href=https://colab.research.google.com/notebooks/data_table.ipynb>data table notebook</a>'\n",
              "            + ' to learn more about interactive tables.';\n",
              "          element.innerHTML = '';\n",
              "          dataTable['output_type'] = 'display_data';\n",
              "          await google.colab.output.renderOutput(dataTable, element);\n",
              "          const docLink = document.createElement('div');\n",
              "          docLink.innerHTML = docLinkHtml;\n",
              "          element.appendChild(docLink);\n",
              "        }\n",
              "      </script>\n",
              "    </div>\n",
              "  </div>\n",
              "  "
            ],
            "text/plain": [
              "       Score                    target\n",
              "0  2352.1829    city_development_index\n",
              "1   385.2258      years_experience_0-5\n",
              "2   294.2274             relev_exp_bin\n",
              "3   177.9646      years_experience_+20\n",
              "4   130.2580  education_level_Graduate\n",
              "5   127.5578              last_new_job"
            ]
          },
          "metadata": {},
          "execution_count": 88
        }
      ],
      "source": [
        "# Get the most importance features with SelectKBest method\n",
        "selector = SelectKBest(score_func=f_classif)\n",
        "X_new = selector.fit_transform(X, y)\n",
        "\n",
        "scores = sorted(zip(map(lambda x: round(x, 4), selector.scores_), X.columns), reverse=True)\n",
        "pd.DataFrame(scores, columns=['Score', 'target']).head(6)"
      ]
    },
    {
      "cell_type": "code",
      "execution_count": 89,
      "id": "fceb437d",
      "metadata": {
        "execution": {
          "iopub.execute_input": "2021-12-25T17:59:43.050637Z",
          "iopub.status.busy": "2021-12-25T17:59:43.049916Z",
          "iopub.status.idle": "2021-12-25T17:59:43.052094Z",
          "shell.execute_reply": "2021-12-25T17:59:43.052734Z",
          "shell.execute_reply.started": "2021-12-25T17:41:01.934242Z"
        },
        "papermill": {
          "duration": 0.188625,
          "end_time": "2021-12-25T17:59:43.052917",
          "exception": false,
          "start_time": "2021-12-25T17:59:42.864292",
          "status": "completed"
        },
        "tags": [],
        "id": "fceb437d"
      },
      "outputs": [],
      "source": [
        "X=df[['city_development_index','years_experience_0-5','relev_exp_bin','years_experience_+20','education_level_Graduate','last_new_job']]"
      ]
    },
    {
      "cell_type": "code",
      "execution_count": 90,
      "id": "ffd1861c",
      "metadata": {
        "execution": {
          "iopub.execute_input": "2021-12-25T17:59:43.416222Z",
          "iopub.status.busy": "2021-12-25T17:59:43.415558Z",
          "iopub.status.idle": "2021-12-25T17:59:43.418958Z",
          "shell.execute_reply": "2021-12-25T17:59:43.419537Z",
          "shell.execute_reply.started": "2021-12-25T17:41:01.941157Z"
        },
        "papermill": {
          "duration": 0.188218,
          "end_time": "2021-12-25T17:59:43.419717",
          "exception": false,
          "start_time": "2021-12-25T17:59:43.231499",
          "status": "completed"
        },
        "tags": [],
        "id": "ffd1861c"
      },
      "outputs": [],
      "source": [
        "y = df['target']"
      ]
    },
    {
      "cell_type": "markdown",
      "id": "566b409f",
      "metadata": {
        "papermill": {
          "duration": 0.179201,
          "end_time": "2021-12-25T17:59:43.778355",
          "exception": false,
          "start_time": "2021-12-25T17:59:43.599154",
          "status": "completed"
        },
        "tags": [],
        "id": "566b409f"
      },
      "source": [
        "### Machine Learning \n"
      ]
    },
    {
      "cell_type": "code",
      "execution_count": 91,
      "id": "16ee9774",
      "metadata": {
        "execution": {
          "iopub.execute_input": "2021-12-25T17:59:44.144940Z",
          "iopub.status.busy": "2021-12-25T17:59:44.144235Z",
          "iopub.status.idle": "2021-12-25T17:59:44.152459Z",
          "shell.execute_reply": "2021-12-25T17:59:44.153010Z",
          "shell.execute_reply.started": "2021-12-25T17:41:01.954726Z"
        },
        "papermill": {
          "duration": 0.19388,
          "end_time": "2021-12-25T17:59:44.153230",
          "exception": false,
          "start_time": "2021-12-25T17:59:43.959350",
          "status": "completed"
        },
        "tags": [],
        "id": "16ee9774"
      },
      "outputs": [],
      "source": [
        "X_train, X_test, y_train, y_test = train_test_split (X, y, test_size = 0.2, random_state = 1000)"
      ]
    },
    {
      "cell_type": "markdown",
      "metadata": {
        "id": "fe9uCj7Fg3x-"
      },
      "source": [
        "### Inputs\n",
        "<b>Input transforms numpy array into tensors to be used by subsequent layers.</b><br><br>\n",
        "<i>Input()</i> is used to instantiate a class that will perform the transformation to Keras tensor.\n",
        "<u>Inputs is the shape of each object.</u> <br> In a tabular data, each row is an object. In Image data, each image is an object. So, in the former case, it is one dimensional and in the later case two-dimensional.  <br><br>\n",
        "**Purpose**: *Purpose of Input is to tell the rest of the model as to what tensor object is to be expected by the rest of model*\n",
        "\n",
        "```\n",
        "tf.keras.Input(\n",
        "    shape=None, batch_size=None, name=None, dtype=None, sparse=None, tensor=None,\n",
        "    ragged=None, type_spec=None, **kwargs\n",
        ")\n",
        "```"
      ],
      "id": "fe9uCj7Fg3x-"
    },
    {
      "cell_type": "code",
      "source": [
        "import tensorflow as tf"
      ],
      "metadata": {
        "id": "2cWf9krODVvw"
      },
      "id": "2cWf9krODVvw",
      "execution_count": 92,
      "outputs": []
    },
    {
      "cell_type": "code",
      "metadata": {
        "id": "EZDEXIViftqT",
        "colab": {
          "base_uri": "https://localhost:8080/"
        },
        "outputId": "f3b5c5a5-bdb1-4424-8c64-d50a2041b438"
      },
      "source": [
        "# Design model\n",
        "\n",
        "#       Inputs to model. Note that inputs is NOT\n",
        "#       a part of layers object\n",
        "#       Input() is used to instantiate a Keras tensor.\n",
        "#       This tensor will get populated when .fit() is\n",
        "#       invoked and data starts flowing in.\n",
        "#       Purpose: Define what tensor shape is to be expected\n",
        "#                by the model\n",
        "\n",
        "inputs = tf.keras.Input(\n",
        "                         shape = X.shape[1],\n",
        "                         batch_size=None\n",
        "                        )\n",
        "\n",
        "type(inputs)"
      ],
      "execution_count": 93,
      "outputs": [
        {
          "output_type": "execute_result",
          "data": {
            "text/plain": [
              "keras.engine.keras_tensor.KerasTensor"
            ]
          },
          "metadata": {},
          "execution_count": 93
        }
      ],
      "id": "EZDEXIViftqT"
    },
    {
      "cell_type": "code",
      "metadata": {
        "id": "7hJmwSOOf4BV",
        "colab": {
          "base_uri": "https://localhost:8080/"
        },
        "outputId": "9efdf8b4-4fc8-4c24-93ab-c692d05704b0"
      },
      "source": [
        "#  Examine the tensor object\n",
        "print(inputs.dtype)\n",
        "print(inputs.shape)\n",
        "print(inputs.name)"
      ],
      "execution_count": 94,
      "outputs": [
        {
          "output_type": "stream",
          "name": "stdout",
          "text": [
            "<dtype: 'float32'>\n",
            "(None, 6)\n",
            "input_1\n"
          ]
        }
      ],
      "id": "7hJmwSOOf4BV"
    },
    {
      "cell_type": "code",
      "metadata": {
        "id": "3CUFOUbujkpS"
      },
      "source": [
        "#  Add layers. Each layer outputs a tensor:\n",
        "\n",
        "x = layers.Dense(100, activation = 'relu')(inputs)"
      ],
      "execution_count": 95,
      "outputs": [],
      "id": "3CUFOUbujkpS"
    },
    {
      "cell_type": "code",
      "metadata": {
        "id": "7iBWEkbUmBRE",
        "colab": {
          "base_uri": "https://localhost:8080/"
        },
        "outputId": "5872fdfc-9f65-445c-f10c-8f6dc6e91be4"
      },
      "source": [
        "#  Get nature of 'x'\n",
        "\n",
        "print(type(x))\n",
        "print(x.shape )  # (None, 100)"
      ],
      "execution_count": 96,
      "outputs": [
        {
          "output_type": "stream",
          "name": "stdout",
          "text": [
            "<class 'keras.engine.keras_tensor.KerasTensor'>\n",
            "(None, 100)\n"
          ]
        }
      ],
      "id": "7iBWEkbUmBRE"
    },
    {
      "cell_type": "code",
      "metadata": {
        "id": "JOPzYvEcj4IA",
        "colab": {
          "base_uri": "https://localhost:8080/"
        },
        "outputId": "6dabd1fa-ae29-413c-9c68-ff94c272d9f3"
      },
      "source": [
        "#  Examine x:\n",
        "\n",
        "type(x)\n",
        "x.shape"
      ],
      "execution_count": 97,
      "outputs": [
        {
          "output_type": "execute_result",
          "data": {
            "text/plain": [
              "keras.engine.keras_tensor.KerasTensor"
            ]
          },
          "metadata": {},
          "execution_count": 97
        },
        {
          "output_type": "execute_result",
          "data": {
            "text/plain": [
              "TensorShape([None, 100])"
            ]
          },
          "metadata": {},
          "execution_count": 97
        }
      ],
      "id": "JOPzYvEcj4IA"
    },
    {
      "cell_type": "code",
      "metadata": {
        "id": "JouACnATIIUF"
      },
      "source": [
        "#  Add ome more layer:\n",
        "\n",
        "x = layers.Dense(100, activation = 'relu')(x)"
      ],
      "execution_count": 98,
      "outputs": [],
      "id": "JouACnATIIUF"
    },
    {
      "cell_type": "code",
      "metadata": {
        "id": "_ZEHAgf6mtUk"
      },
      "source": [
        "#  Concatenate \n",
        "x = tf.keras.layers.concatenate([x,inputs])\n"
      ],
      "execution_count": 99,
      "outputs": [],
      "id": "_ZEHAgf6mtUk"
    },
    {
      "cell_type": "code",
      "metadata": {
        "id": "0-4s_jwiXM3D"
      },
      "source": [
        "#  Final layer\n",
        "out = layers.Dense(1,activation = 'sigmoid')(x)"
      ],
      "execution_count": 100,
      "outputs": [],
      "id": "0-4s_jwiXM3D"
    },
    {
      "cell_type": "code",
      "metadata": {
        "id": "i7iNInyNXTWe"
      },
      "source": [
        "# Create model now\n",
        "model = Model(inputs = [inputs], outputs = [out])"
      ],
      "execution_count": 101,
      "outputs": [],
      "id": "i7iNInyNXTWe"
    },
    {
      "cell_type": "code",
      "metadata": {
        "id": "zZmSNOwJJ2cf",
        "colab": {
          "base_uri": "https://localhost:8080/"
        },
        "outputId": "83dab759-25da-46d9-8adb-9e6adb979baf"
      },
      "source": [
        "# Print model summary\n",
        "model.summary()"
      ],
      "execution_count": 102,
      "outputs": [
        {
          "output_type": "stream",
          "name": "stdout",
          "text": [
            "Model: \"model\"\n",
            "__________________________________________________________________________________________________\n",
            " Layer (type)                   Output Shape         Param #     Connected to                     \n",
            "==================================================================================================\n",
            " input_1 (InputLayer)           [(None, 6)]          0           []                               \n",
            "                                                                                                  \n",
            " dense (Dense)                  (None, 100)          700         ['input_1[0][0]']                \n",
            "                                                                                                  \n",
            " dense_1 (Dense)                (None, 100)          10100       ['dense[0][0]']                  \n",
            "                                                                                                  \n",
            " concatenate (Concatenate)      (None, 106)          0           ['dense_1[0][0]',                \n",
            "                                                                  'input_1[0][0]']                \n",
            "                                                                                                  \n",
            " dense_2 (Dense)                (None, 1)            107         ['concatenate[0][0]']            \n",
            "                                                                                                  \n",
            "==================================================================================================\n",
            "Total params: 10,907\n",
            "Trainable params: 10,907\n",
            "Non-trainable params: 0\n",
            "__________________________________________________________________________________________________\n"
          ]
        }
      ],
      "id": "zZmSNOwJJ2cf"
    },
    {
      "cell_type": "code",
      "metadata": {
        "id": "PBZwG9ht70_A"
      },
      "source": [
        "#  `Model` groups layers into an object \n",
        "#       with training and inference features.\n",
        "help(Model)"
      ],
      "execution_count": null,
      "outputs": [],
      "id": "PBZwG9ht70_A"
    },
    {
      "cell_type": "code",
      "metadata": {
        "id": "2ex5iFJiHkDR",
        "colab": {
          "base_uri": "https://localhost:8080/",
          "height": 533
        },
        "outputId": "2677188a-6f0c-49c3-d8e4-76c27f3da972"
      },
      "source": [
        "#  Display model now\n",
        "# Ref: https://www.tensorflow.org/api_docs/python/tf/keras/utils/plot_model\n",
        "plot_model(model, show_shapes= True)"
      ],
      "execution_count": 104,
      "outputs": [
        {
          "output_type": "execute_result",
          "data": {
            "image/png": "[encoded data removed]",
            "text/plain": [
              "<IPython.core.display.Image object>"
            ]
          },
          "metadata": {},
          "execution_count": 104
        }
      ],
      "id": "2ex5iFJiHkDR"
    },
    {
      "cell_type": "code",
      "metadata": {
        "id": "u7X1WpoaJ8vZ",
        "colab": {
          "base_uri": "https://localhost:8080/"
        },
        "outputId": "43b97f0f-3a35-4509-d925-207ff2f7039f"
      },
      "source": [
        "#  Compile model\n",
        "model.compile(loss = \"mean_squared_error\")  \n",
        "history = model.fit(\n",
        "                    X_train,\n",
        "                    y_train,\n",
        "                    epochs = 50,\n",
        "                    verbose = 1\n",
        "                    )"
      ],
      "execution_count": 105,
      "outputs": [
        {
          "output_type": "stream",
          "name": "stdout",
          "text": [
            "Epoch 1/50\n",
            "465/465 [==============================] - 1s 1ms/step - loss: 0.1695\n",
            "Epoch 2/50\n",
            "465/465 [==============================] - 1s 1ms/step - loss: 0.1621\n",
            "Epoch 3/50\n",
            "465/465 [==============================] - 1s 1ms/step - loss: 0.1599\n",
            "Epoch 4/50\n",
            "465/465 [==============================] - 1s 1ms/step - loss: 0.1587\n",
            "Epoch 5/50\n",
            "465/465 [==============================] - 1s 1ms/step - loss: 0.1579\n",
            "Epoch 6/50\n",
            "465/465 [==============================] - 1s 1ms/step - loss: 0.1572\n",
            "Epoch 7/50\n",
            "465/465 [==============================] - 1s 1ms/step - loss: 0.1574\n",
            "Epoch 8/50\n",
            "465/465 [==============================] - 1s 1ms/step - loss: 0.1573\n",
            "Epoch 9/50\n",
            "465/465 [==============================] - 1s 1ms/step - loss: 0.1571\n",
            "Epoch 10/50\n",
            "465/465 [==============================] - 1s 1ms/step - loss: 0.1569\n",
            "Epoch 11/50\n",
            "465/465 [==============================] - 1s 1ms/step - loss: 0.1570\n",
            "Epoch 12/50\n",
            "465/465 [==============================] - 1s 1ms/step - loss: 0.1569\n",
            "Epoch 13/50\n",
            "465/465 [==============================] - 1s 1ms/step - loss: 0.1566\n",
            "Epoch 14/50\n",
            "465/465 [==============================] - 1s 3ms/step - loss: 0.1565\n",
            "Epoch 15/50\n",
            "465/465 [==============================] - 1s 2ms/step - loss: 0.1564\n",
            "Epoch 16/50\n",
            "465/465 [==============================] - 1s 2ms/step - loss: 0.1566\n",
            "Epoch 17/50\n",
            "465/465 [==============================] - 2s 3ms/step - loss: 0.1565\n",
            "Epoch 18/50\n",
            "465/465 [==============================] - 1s 1ms/step - loss: 0.1565\n",
            "Epoch 19/50\n",
            "465/465 [==============================] - 1s 1ms/step - loss: 0.1561\n",
            "Epoch 20/50\n",
            "465/465 [==============================] - 1s 1ms/step - loss: 0.1563\n",
            "Epoch 21/50\n",
            "465/465 [==============================] - 0s 1ms/step - loss: 0.1564\n",
            "Epoch 22/50\n",
            "465/465 [==============================] - 1s 1ms/step - loss: 0.1561\n",
            "Epoch 23/50\n",
            "465/465 [==============================] - 1s 1ms/step - loss: 0.1558\n",
            "Epoch 24/50\n",
            "465/465 [==============================] - 1s 1ms/step - loss: 0.1560\n",
            "Epoch 25/50\n",
            "465/465 [==============================] - 1s 1ms/step - loss: 0.1560\n",
            "Epoch 26/50\n",
            "465/465 [==============================] - 1s 1ms/step - loss: 0.1560\n",
            "Epoch 27/50\n",
            "465/465 [==============================] - 1s 1ms/step - loss: 0.1559\n",
            "Epoch 28/50\n",
            "465/465 [==============================] - 1s 1ms/step - loss: 0.1555\n",
            "Epoch 29/50\n",
            "465/465 [==============================] - 1s 1ms/step - loss: 0.1557\n",
            "Epoch 30/50\n",
            "465/465 [==============================] - 1s 1ms/step - loss: 0.1559\n",
            "Epoch 31/50\n",
            "465/465 [==============================] - 1s 1ms/step - loss: 0.1557\n",
            "Epoch 32/50\n",
            "465/465 [==============================] - 1s 1ms/step - loss: 0.1558\n",
            "Epoch 33/50\n",
            "465/465 [==============================] - 1s 1ms/step - loss: 0.1553\n",
            "Epoch 34/50\n",
            "465/465 [==============================] - 1s 1ms/step - loss: 0.1555\n",
            "Epoch 35/50\n",
            "465/465 [==============================] - 1s 1ms/step - loss: 0.1555\n",
            "Epoch 36/50\n",
            "465/465 [==============================] - 1s 1ms/step - loss: 0.1555\n",
            "Epoch 37/50\n",
            "465/465 [==============================] - 1s 1ms/step - loss: 0.1555\n",
            "Epoch 38/50\n",
            "465/465 [==============================] - 1s 1ms/step - loss: 0.1552\n",
            "Epoch 39/50\n",
            "465/465 [==============================] - 1s 1ms/step - loss: 0.1552\n",
            "Epoch 40/50\n",
            "465/465 [==============================] - 1s 1ms/step - loss: 0.1552\n",
            "Epoch 41/50\n",
            "465/465 [==============================] - 0s 1ms/step - loss: 0.1553\n",
            "Epoch 42/50\n",
            "465/465 [==============================] - 1s 1ms/step - loss: 0.1551\n",
            "Epoch 43/50\n",
            "465/465 [==============================] - 1s 1ms/step - loss: 0.1551\n",
            "Epoch 44/50\n",
            "465/465 [==============================] - 1s 1ms/step - loss: 0.1553\n",
            "Epoch 45/50\n",
            "465/465 [==============================] - 1s 1ms/step - loss: 0.1552\n",
            "Epoch 46/50\n",
            "465/465 [==============================] - 1s 1ms/step - loss: 0.1552\n",
            "Epoch 47/50\n",
            "465/465 [==============================] - 1s 1ms/step - loss: 0.1550\n",
            "Epoch 48/50\n",
            "465/465 [==============================] - 1s 1ms/step - loss: 0.1548\n",
            "Epoch 49/50\n",
            "465/465 [==============================] - 1s 1ms/step - loss: 0.1549\n",
            "Epoch 50/50\n",
            "465/465 [==============================] - 1s 1ms/step - loss: 0.1552\n"
          ]
        }
      ],
      "id": "u7X1WpoaJ8vZ"
    },
    {
      "cell_type": "code",
      "metadata": {
        "id": "6QQ8xAgGLTOo",
        "colab": {
          "base_uri": "https://localhost:8080/"
        },
        "outputId": "0da75337-063f-4f4e-e783-b9c8e463ddc2"
      },
      "source": [
        " \n",
        "model.evaluate(X_test,y_test)  "
      ],
      "execution_count": 106,
      "outputs": [
        {
          "output_type": "stream",
          "name": "stdout",
          "text": [
            "117/117 [==============================] - 0s 961us/step - loss: 0.1561\n"
          ]
        },
        {
          "output_type": "execute_result",
          "data": {
            "text/plain": [
              "0.1561417132616043"
            ]
          },
          "metadata": {},
          "execution_count": 106
        }
      ],
      "id": "6QQ8xAgGLTOo"
    }
  ],
  "metadata": {
    "kernelspec": {
      "display_name": "Python 3",
      "language": "python",
      "name": "python3"
    },
    "language_info": {
      "codemirror_mode": {
        "name": "ipython",
        "version": 3
      },
      "file_extension": ".py",
      "mimetype": "text/x-python",
      "name": "python",
      "nbconvert_exporter": "python",
      "pygments_lexer": "ipython3",
      "version": "3.7.12"
    },
    "papermill": {
      "default_parameters": {},
      "duration": 900.146158,
      "end_time": "2021-12-25T18:13:42.538144",
      "environment_variables": {},
      "exception": null,
      "input_path": "__notebook__.ipynb",
      "output_path": "__notebook__.ipynb",
      "parameters": {},
      "start_time": "2021-12-25T17:58:42.391986",
      "version": "2.3.3"
    },
    "colab": {
      "name": "HR Analytics.ipynb",
      "provenance": [],
      "collapsed_sections": [
        "868f347e",
        "d55fb033",
        "b8e1d65f",
        "3e0b6976",
        "4e2d9be5",
        "1ac87193",
        "9cf72e28",
        "f795c88a",
        "10d90a18",
        "3c277f36",
        "f782dc56",
        "5772301e",
        "00a5d053"
      ]
    }
  },
  "nbformat": 4,
  "nbformat_minor": 5
}